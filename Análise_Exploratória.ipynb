{
  "cells": [
    {
      "cell_type": "markdown",
      "metadata": {
        "id": "view-in-github",
        "colab_type": "text"
      },
      "source": [
        "<a href=\"https://colab.research.google.com/github/skmerick/ifood/blob/main/An%C3%A1lise_Explorat%C3%B3ria.ipynb\" target=\"_parent\"><img src=\"https://colab.research.google.com/assets/colab-badge.svg\" alt=\"Open In Colab\"/></a>"
      ]
    },
    {
      "cell_type": "markdown",
      "metadata": {
        "id": "fn4ZFLNl1Cip"
      },
      "source": [
        "## Parte 1 - Análise Exploratória de Dados - Exercícios\n",
        "\n",
        "\n",
        "--- \n",
        "<img align=\"center\" width=\"150\" src=\"https://logodownload.org/wp-content/uploads/2017/05/ifood-logo-0.png\">\n",
        "\n"
      ]
    },
    {
      "cell_type": "markdown",
      "metadata": {
        "id": "zFkVT7Rr1Ciq"
      },
      "source": [
        "### Acessando as bases"
      ]
    },
    {
      "cell_type": "code",
      "execution_count": null,
      "metadata": {
        "colab": {
          "base_uri": "https://localhost:8080/"
        },
        "id": "1LvkWVni1Ciq",
        "outputId": "36bd22cf-5bb5-4b5a-d890-dfe63d19fce2"
      },
      "outputs": [
        {
          "name": "stdout",
          "output_type": "stream",
          "text": [
            "Drive already mounted at /content/drive; to attempt to forcibly remount, call drive.mount(\"/content/drive\", force_remount=True).\n"
          ]
        }
      ],
      "source": [
        "from google.colab import drive\n",
        "drive.mount('/content/drive')"
      ]
    },
    {
      "cell_type": "code",
      "execution_count": null,
      "metadata": {
        "id": "wSkkWcEx1Ciu"
      },
      "outputs": [],
      "source": [
        "import pandas as pd"
      ]
    },
    {
      "cell_type": "code",
      "execution_count": null,
      "metadata": {
        "id": "ImRlnR8pytbh"
      },
      "outputs": [],
      "source": [
        "# Fixa em duas casas decimais a visualização do float\n",
        "pd.options.display.float_format = '{:.2f}'.format"
      ]
    },
    {
      "cell_type": "markdown",
      "metadata": {
        "id": "BFUqf3Ue1Ciw"
      },
      "source": [
        "### Segementação de clientes - `customer_segmentation`"
      ]
    },
    {
      "cell_type": "code",
      "execution_count": null,
      "metadata": {
        "id": "XVWRnE6PqSVV"
      },
      "outputs": [],
      "source": [
        "pasta_raiz = '/content/drive/MyDrive/datasets/ifood'"
      ]
    },
    {
      "cell_type": "code",
      "execution_count": null,
      "metadata": {
        "id": "Tu-OOsgg1Cix"
      },
      "outputs": [],
      "source": [
        "df_customer_segmentation = pd.read_csv(f'{pasta_raiz}/df_customer_segmentation.csv', sep=';')"
      ]
    },
    {
      "cell_type": "code",
      "execution_count": null,
      "metadata": {
        "colab": {
          "base_uri": "https://localhost:8080/",
          "height": 199
        },
        "id": "RyvVo-l81Ciy",
        "outputId": "7e1108ee-e28d-4762-f1dd-3b423c3f5f83",
        "scrolled": true
      },
      "outputs": [
        {
          "data": {
            "text/html": [
              "<div>\n",
              "<style scoped>\n",
              "    .dataframe tbody tr th:only-of-type {\n",
              "        vertical-align: middle;\n",
              "    }\n",
              "\n",
              "    .dataframe tbody tr th {\n",
              "        vertical-align: top;\n",
              "    }\n",
              "\n",
              "    .dataframe thead th {\n",
              "        text-align: right;\n",
              "    }\n",
              "</style>\n",
              "<table border=\"1\" class=\"dataframe\">\n",
              "  <thead>\n",
              "    <tr style=\"text-align: right;\">\n",
              "      <th></th>\n",
              "      <th>customer_id</th>\n",
              "      <th>segmentation_month</th>\n",
              "      <th>ifood_status_last_month</th>\n",
              "      <th>ifood_status</th>\n",
              "      <th>orders_last_91d</th>\n",
              "      <th>qtt_orders_last_year</th>\n",
              "      <th>qtt_valid_orders</th>\n",
              "      <th>last_valid_order_date</th>\n",
              "      <th>qtt_invalid_orders</th>\n",
              "      <th>last_invalid_order_date</th>\n",
              "      <th>marlin_tag</th>\n",
              "      <th>recency_months</th>\n",
              "      <th>last_nps</th>\n",
              "      <th>registration_date</th>\n",
              "      <th>customer_lifetime_days</th>\n",
              "      <th>customer_lifetime_months</th>\n",
              "      <th>top_3_merchants_code</th>\n",
              "      <th>was_mub_last_month</th>\n",
              "      <th>buyer_last_91d</th>\n",
              "      <th>top_city</th>\n",
              "      <th>top_district</th>\n",
              "      <th>top_centroid_id</th>\n",
              "      <th>first_order_date</th>\n",
              "      <th>last_order_date</th>\n",
              "      <th>days_to_reorder_at_datasource</th>\n",
              "      <th>days_to_reorder_at_concluded</th>\n",
              "      <th>rfv_score</th>\n",
              "      <th>recency_days</th>\n",
              "      <th>recency_days_bucket</th>\n",
              "      <th>recency_days_bucket_description</th>\n",
              "      <th>freq_last_91d</th>\n",
              "      <th>freq_last_91d_bucket</th>\n",
              "      <th>freq_last_91d_bucket_description</th>\n",
              "      <th>avg_aov_last_91d</th>\n",
              "      <th>maturity_orders</th>\n",
              "      <th>maturity_orders_bucket</th>\n",
              "      <th>maturity_orders_bucket_description</th>\n",
              "      <th>benefits_sensitivity</th>\n",
              "      <th>benefits_sensitivity_bucket</th>\n",
              "      <th>preferred_shift_bucket</th>\n",
              "      <th>preferred_shift_bucket_description</th>\n",
              "      <th>merchant_variety</th>\n",
              "      <th>merchant_variety_bucket</th>\n",
              "      <th>merchant_offer</th>\n",
              "      <th>merchant_offer_bucket</th>\n",
              "      <th>merchant_offer_bucket_description</th>\n",
              "      <th>top_dish_bucket</th>\n",
              "      <th>top_dish_bucket_description</th>\n",
              "      <th>preferred_dishes</th>\n",
              "      <th>preferred_dishes_code</th>\n",
              "    </tr>\n",
              "  </thead>\n",
              "  <tbody>\n",
              "    <tr>\n",
              "      <th>0</th>\n",
              "      <td>6677d5e78e4627cf80ae3ea3281869183c946c366efc43...</td>\n",
              "      <td>2019-10-01</td>\n",
              "      <td>Inactive</td>\n",
              "      <td>Inactive</td>\n",
              "      <td>9.00</td>\n",
              "      <td>32</td>\n",
              "      <td>49</td>\n",
              "      <td>2019-07-30</td>\n",
              "      <td>1</td>\n",
              "      <td>2019-02-18</td>\n",
              "      <td>4. Retention Carp</td>\n",
              "      <td>3.06</td>\n",
              "      <td>Promoter</td>\n",
              "      <td>2018-03-20T18:39:45.094Z</td>\n",
              "      <td>591</td>\n",
              "      <td>19</td>\n",
              "      <td>[\\\\d3e994ac-c883-4d00-a38f-4d7b86926c18\\\\\\,\\\\\\...</td>\n",
              "      <td>0</td>\n",
              "      <td>0</td>\n",
              "      <td>SAO PAULO</td>\n",
              "      <td>Jardim Europa</td>\n",
              "      <td>-23.58-46.68</td>\n",
              "      <td>2018-03-20</td>\n",
              "      <td>2019-07-30</td>\n",
              "      <td>12.22</td>\n",
              "      <td>12.22</td>\n",
              "      <td>4.00</td>\n",
              "      <td>94.00</td>\n",
              "      <td>5.00</td>\n",
              "      <td>5. &gt; 91d</td>\n",
              "      <td>2.97</td>\n",
              "      <td>3.00</td>\n",
              "      <td>3. 2-4</td>\n",
              "      <td>65.79</td>\n",
              "      <td>49.00</td>\n",
              "      <td>4.00</td>\n",
              "      <td>4. 10-49</td>\n",
              "      <td>0.89</td>\n",
              "      <td>Alta</td>\n",
              "      <td>5</td>\n",
              "      <td>5. Jantar</td>\n",
              "      <td>0.33</td>\n",
              "      <td>Media</td>\n",
              "      <td>5515.00</td>\n",
              "      <td>5</td>\n",
              "      <td>5. &gt; 500</td>\n",
              "      <td>2</td>\n",
              "      <td>2. Tem Cozinha Preferida</td>\n",
              "      <td>[\\\\Pizza\\\\\\,\\\\\\\"Comida Chinesa\\\\\\\"]\\\"\"</td>\n",
              "      <td>[\\\\CHI\\\\\\,\\\\\\\"PIZ\\\\\\\"]\\\"\"</td>\n",
              "    </tr>\n",
              "    <tr>\n",
              "      <th>1</th>\n",
              "      <td>5e57de756833068ca492f110539c987964b9d0e57219e2...</td>\n",
              "      <td>2019-07-01</td>\n",
              "      <td>Active</td>\n",
              "      <td>Active</td>\n",
              "      <td>15.00</td>\n",
              "      <td>28</td>\n",
              "      <td>39</td>\n",
              "      <td>2019-07-27</td>\n",
              "      <td>0</td>\n",
              "      <td>NaN</td>\n",
              "      <td>1. Marlin</td>\n",
              "      <td>0.10</td>\n",
              "      <td>Promoter</td>\n",
              "      <td>2016-04-07T17:50:02.000Z</td>\n",
              "      <td>1209</td>\n",
              "      <td>39</td>\n",
              "      <td>[\\\\d8b01e5b-8ce2-437f-aacc-89f998d14656\\\\\\,\\\\\\...</td>\n",
              "      <td>1</td>\n",
              "      <td>1</td>\n",
              "      <td>RIO DE JANEIRO</td>\n",
              "      <td>Cordovil</td>\n",
              "      <td>-22.83-43.3</td>\n",
              "      <td>2016-04-07</td>\n",
              "      <td>2019-07-27</td>\n",
              "      <td>6.47</td>\n",
              "      <td>6.47</td>\n",
              "      <td>3.00</td>\n",
              "      <td>3.00</td>\n",
              "      <td>1.00</td>\n",
              "      <td>1. &lt; 7d</td>\n",
              "      <td>4.95</td>\n",
              "      <td>4.00</td>\n",
              "      <td>4. 4-10</td>\n",
              "      <td>63.85</td>\n",
              "      <td>39.00</td>\n",
              "      <td>4.00</td>\n",
              "      <td>4. 10-49</td>\n",
              "      <td>0.40</td>\n",
              "      <td>Media</td>\n",
              "      <td>5</td>\n",
              "      <td>5. Jantar</td>\n",
              "      <td>0.67</td>\n",
              "      <td>Alta</td>\n",
              "      <td>1062.00</td>\n",
              "      <td>5</td>\n",
              "      <td>5. &gt; 500</td>\n",
              "      <td>3</td>\n",
              "      <td>3. Mais de uma Cozinha Preferida</td>\n",
              "      <td>[\\\\Comida Variada\\\\\\,\\\\\\\"Comida Brasileira\\\\\\\"...</td>\n",
              "      <td>[\\\\BRA\\\\\\,\\\\\\\"LCH\\\\\\\",\\\\\\\"VAR\\\\\\\"]\\\"\"</td>\n",
              "    </tr>\n",
              "  </tbody>\n",
              "</table>\n",
              "</div>"
            ],
            "text/plain": [
              "                                         customer_id  ...                  preferred_dishes_code\n",
              "0  6677d5e78e4627cf80ae3ea3281869183c946c366efc43...  ...              [\\\\CHI\\\\\\,\\\\\\\"PIZ\\\\\\\"]\\\"\"\n",
              "1  5e57de756833068ca492f110539c987964b9d0e57219e2...  ...  [\\\\BRA\\\\\\,\\\\\\\"LCH\\\\\\\",\\\\\\\"VAR\\\\\\\"]\\\"\"\n",
              "\n",
              "[2 rows x 50 columns]"
            ]
          },
          "execution_count": 235,
          "metadata": {},
          "output_type": "execute_result"
        }
      ],
      "source": [
        "df_customer_segmentation.head(2)"
      ]
    },
    {
      "cell_type": "markdown",
      "metadata": {
        "id": "PnfZo4fC1Ci1"
      },
      "source": [
        "**<span style=\"color:blue\">(0.5 ponto)</span> `Q1` Quantas linhas e colunas existem no conjunto de dados?**"
      ]
    },
    {
      "cell_type": "code",
      "execution_count": null,
      "metadata": {
        "colab": {
          "base_uri": "https://localhost:8080/"
        },
        "id": "IshytOXwkwP1",
        "outputId": "d92722f3-4c67-49ec-8c1a-bd19b4873817"
      },
      "outputs": [
        {
          "name": "stdout",
          "output_type": "stream",
          "text": [
            "linhas: 210364\n",
            "colunas: 50\n"
          ]
        }
      ],
      "source": [
        "df_customer_segmentation.shape\n",
        "print('linhas:', df_customer_segmentation.shape[0])\n",
        "print('colunas:', df_customer_segmentation.shape[1])"
      ]
    },
    {
      "cell_type": "markdown",
      "metadata": {
        "id": "wQiOTobToZ91"
      },
      "source": [
        "Existem 210364 linhas e 50 colunas."
      ]
    },
    {
      "cell_type": "markdown",
      "metadata": {
        "id": "Ux9SGon31Ci3"
      },
      "source": [
        "**<span style=\"color:blue\">(0.5 ponto)</span> `Q2` Quantos clientes únicos existem?**"
      ]
    },
    {
      "cell_type": "code",
      "execution_count": null,
      "metadata": {
        "colab": {
          "base_uri": "https://localhost:8080/"
        },
        "id": "27w6775xkxDD",
        "outputId": "ef56e686-19a8-4d20-dcb2-4560b62d2c3e"
      },
      "outputs": [
        {
          "name": "stdout",
          "output_type": "stream",
          "text": [
            "clientes unicos: 30079\n"
          ]
        }
      ],
      "source": [
        "print('clientes unicos:', len(df_customer_segmentation.customer_id.unique()))\n"
      ]
    },
    {
      "cell_type": "markdown",
      "metadata": {
        "id": "AmC_TlkhtXdP"
      },
      "source": [
        "Existem 30079 clientes unicos."
      ]
    },
    {
      "cell_type": "markdown",
      "metadata": {
        "id": "B6N5O9Rq1Ci6"
      },
      "source": [
        "**<span style=\"color:blue\">(1 ponto)</span> `Q3` Quais são os 10 clientes que mais tiveram pedidos validos?**"
      ]
    },
    {
      "cell_type": "code",
      "execution_count": null,
      "metadata": {
        "colab": {
          "base_uri": "https://localhost:8080/",
          "height": 390
        },
        "id": "ES-4dajNktdx",
        "outputId": "2722b94f-dd4e-49c2-ea31-a291bf0c0f9f"
      },
      "outputs": [
        {
          "data": {
            "text/html": [
              "<div>\n",
              "<style scoped>\n",
              "    .dataframe tbody tr th:only-of-type {\n",
              "        vertical-align: middle;\n",
              "    }\n",
              "\n",
              "    .dataframe tbody tr th {\n",
              "        vertical-align: top;\n",
              "    }\n",
              "\n",
              "    .dataframe thead th {\n",
              "        text-align: right;\n",
              "    }\n",
              "</style>\n",
              "<table border=\"1\" class=\"dataframe\">\n",
              "  <thead>\n",
              "    <tr style=\"text-align: right;\">\n",
              "      <th></th>\n",
              "      <th>total_qtt_valid_orders</th>\n",
              "    </tr>\n",
              "    <tr>\n",
              "      <th>customer_id</th>\n",
              "      <th></th>\n",
              "    </tr>\n",
              "  </thead>\n",
              "  <tbody>\n",
              "    <tr>\n",
              "      <th>a46bb1905790aa86717354934e2b4015c4ae157ed5b08c0a433e940547733c68</th>\n",
              "      <td>1297</td>\n",
              "    </tr>\n",
              "    <tr>\n",
              "      <th>9f1a9d1636dff802b65c687d37583c88f263b239ff889273b08b67f6340c6877</th>\n",
              "      <td>1200</td>\n",
              "    </tr>\n",
              "    <tr>\n",
              "      <th>27b0b3fbf967199f757bf36f5376b20d63c6f0ad8da241755610664cf9d7125e</th>\n",
              "      <td>1171</td>\n",
              "    </tr>\n",
              "    <tr>\n",
              "      <th>f1c5397923a646872f8385f296f9e0b66e2b0f095dcb53da7e939f0e8fc28f5a</th>\n",
              "      <td>1110</td>\n",
              "    </tr>\n",
              "    <tr>\n",
              "      <th>c932ef421caf7076a16cb7472d4fddee9a403a304d3b1ec7100c5c32d1719140</th>\n",
              "      <td>1046</td>\n",
              "    </tr>\n",
              "    <tr>\n",
              "      <th>29efe6f1697579b147d7bc37c6ae2a3ebdc90546a5c926f84652c0a0e1554d88</th>\n",
              "      <td>950</td>\n",
              "    </tr>\n",
              "    <tr>\n",
              "      <th>902ea307b3bcc41cf6d75162ed01d91516542ece0839f9326faff5f5b5fd2435</th>\n",
              "      <td>936</td>\n",
              "    </tr>\n",
              "    <tr>\n",
              "      <th>907404f63c230df86415085b09a45956fba84b973acbed6103995d6afdf0d8c3</th>\n",
              "      <td>928</td>\n",
              "    </tr>\n",
              "    <tr>\n",
              "      <th>188eaac6edd1ee23f112f99c04c3c3542a56a140ea0b13351028701ff8de6116</th>\n",
              "      <td>926</td>\n",
              "    </tr>\n",
              "    <tr>\n",
              "      <th>8a7b0322a4b0f435f69e9135ccbc3560c360c4f9ec4ec3cfd7260f9a15b2f0ed</th>\n",
              "      <td>851</td>\n",
              "    </tr>\n",
              "  </tbody>\n",
              "</table>\n",
              "</div>"
            ],
            "text/plain": [
              "                                                    total_qtt_valid_orders\n",
              "customer_id                                                               \n",
              "a46bb1905790aa86717354934e2b4015c4ae157ed5b08c0...                    1297\n",
              "9f1a9d1636dff802b65c687d37583c88f263b239ff88927...                    1200\n",
              "27b0b3fbf967199f757bf36f5376b20d63c6f0ad8da2417...                    1171\n",
              "f1c5397923a646872f8385f296f9e0b66e2b0f095dcb53d...                    1110\n",
              "c932ef421caf7076a16cb7472d4fddee9a403a304d3b1ec...                    1046\n",
              "29efe6f1697579b147d7bc37c6ae2a3ebdc90546a5c926f...                     950\n",
              "902ea307b3bcc41cf6d75162ed01d91516542ece0839f93...                     936\n",
              "907404f63c230df86415085b09a45956fba84b973acbed6...                     928\n",
              "188eaac6edd1ee23f112f99c04c3c3542a56a140ea0b133...                     926\n",
              "8a7b0322a4b0f435f69e9135ccbc3560c360c4f9ec4ec3c...                     851"
            ]
          },
          "execution_count": 238,
          "metadata": {},
          "output_type": "execute_result"
        }
      ],
      "source": [
        "(\n",
        "    df_customer_segmentation\n",
        "    .groupby('customer_id')\n",
        "    .agg(total_qtt_valid_orders = ('qtt_valid_orders', 'max'))\n",
        "    .nlargest(10, 'total_qtt_valid_orders')\n",
        ")\n"
      ]
    },
    {
      "cell_type": "markdown",
      "metadata": {
        "id": "ZB-9I05D1Ci8"
      },
      "source": [
        "**<span style=\"color:blue\">(1 ponto)</span> `Q4` Qual é o id do cliente mais antigo na plataforma? Existe apenas 1?**"
      ]
    },
    {
      "cell_type": "code",
      "execution_count": null,
      "metadata": {
        "colab": {
          "base_uri": "https://localhost:8080/"
        },
        "id": "S9mStqgRkuPp",
        "outputId": "2f588a05-97f3-498d-8224-3824407e78dc"
      },
      "outputs": [
        {
          "data": {
            "text/plain": [
              "['07ed1b37689de6ea41fe8ca7a42129830593633ef0d058df720522b575316aea',\n",
              " '68180a00c9b111d93b9c7095fd545a187d871877d01080d506f7451594963918']"
            ]
          },
          "execution_count": 239,
          "metadata": {},
          "output_type": "execute_result"
        }
      ],
      "source": [
        "(\n",
        "    df_customer_segmentation\n",
        "    .groupby('customer_id')\n",
        "    .agg(\n",
        "        data_registration_date = ('registration_date', 'first')\n",
        "        )\n",
        "    .sort_values('data_registration_date').head(2)\n",
        "    .reset_index()\n",
        "    ).customer_id.to_list()"
      ]
    },
    {
      "cell_type": "markdown",
      "metadata": {
        "id": "YC73Bnyex2va"
      },
      "source": [
        "Existem 2 clientes antigos."
      ]
    },
    {
      "cell_type": "markdown",
      "metadata": {
        "id": "2sxsxdrc1Ci-"
      },
      "source": [
        "**<span style=\"color:blue\">(1 ponto)</span> `Q5` Quais são os três meses que contém mais clientes `Inactive`?** Utilize a coluna `segmentation_month`."
      ]
    },
    {
      "cell_type": "code",
      "execution_count": null,
      "metadata": {
        "colab": {
          "base_uri": "https://localhost:8080/",
          "height": 173
        },
        "id": "N01z-VhXkvJJ",
        "outputId": "b3862e08-7c8c-42fd-d528-d154141df909"
      },
      "outputs": [
        {
          "data": {
            "text/html": [
              "<div>\n",
              "<style scoped>\n",
              "    .dataframe tbody tr th:only-of-type {\n",
              "        vertical-align: middle;\n",
              "    }\n",
              "\n",
              "    .dataframe tbody tr th {\n",
              "        vertical-align: top;\n",
              "    }\n",
              "\n",
              "    .dataframe thead th {\n",
              "        text-align: right;\n",
              "    }\n",
              "</style>\n",
              "<table border=\"1\" class=\"dataframe\">\n",
              "  <thead>\n",
              "    <tr style=\"text-align: right;\">\n",
              "      <th></th>\n",
              "      <th>customer_id</th>\n",
              "    </tr>\n",
              "    <tr>\n",
              "      <th>segmentation_month</th>\n",
              "      <th></th>\n",
              "    </tr>\n",
              "  </thead>\n",
              "  <tbody>\n",
              "    <tr>\n",
              "      <th>2019-10-01</th>\n",
              "      <td>13309</td>\n",
              "    </tr>\n",
              "    <tr>\n",
              "      <th>2019-12-01</th>\n",
              "      <td>10414</td>\n",
              "    </tr>\n",
              "    <tr>\n",
              "      <th>2019-11-01</th>\n",
              "      <td>10202</td>\n",
              "    </tr>\n",
              "  </tbody>\n",
              "</table>\n",
              "</div>"
            ],
            "text/plain": [
              "                    customer_id\n",
              "segmentation_month             \n",
              "2019-10-01                13309\n",
              "2019-12-01                10414\n",
              "2019-11-01                10202"
            ]
          },
          "execution_count": 240,
          "metadata": {},
          "output_type": "execute_result"
        }
      ],
      "source": [
        "( \n",
        "    df_customer_segmentation\n",
        "    .query('ifood_status == \"Inactive\"')\n",
        "    .groupby('segmentation_month')[['customer_id']].count()\n",
        "    .nlargest(3, 'customer_id')\n",
        ")"
      ]
    },
    {
      "cell_type": "markdown",
      "metadata": {
        "id": "T15p1krg1Ci_"
      },
      "source": [
        "**<span style=\"color:blue\">(3 pontos)</span> `Q6` Quais são os 5 pratos mais preferidos do cliente do tipo Marlin?**\n",
        "\n",
        "Será necessário criar uma função chamada `recuperar_preferred_dishes` para recuperar corretamente os dados. Essa função deve retornar uma lista com os pratos preferidos.\n",
        "\n",
        "ATENÇÃO - Considere um único tipo de prato por cliente, por exemplo, o cliente com id 1a2b3c4d5e tem 6 vezes comida brasileira, deverá ser considerado como apenas 1."
      ]
    },
    {
      "cell_type": "code",
      "execution_count": null,
      "metadata": {
        "colab": {
          "base_uri": "https://localhost:8080/"
        },
        "id": "iHYV-RobO_ry",
        "outputId": "291aabf8-a14c-4c8a-e7dc-3c72e61be4c7"
      },
      "outputs": [
        {
          "data": {
            "text/plain": [
              "array(['4. Retention Carp', '1. Marlin', '2. Tilapia', '3. Subsidy Carp',\n",
              "       nan], dtype=object)"
            ]
          },
          "execution_count": 241,
          "metadata": {},
          "output_type": "execute_result"
        }
      ],
      "source": [
        "df_customer_segmentation.marlin_tag.unique()"
      ]
    },
    {
      "cell_type": "code",
      "execution_count": null,
      "metadata": {
        "id": "0QvoqXGH1CjA"
      },
      "outputs": [],
      "source": [
        "def recuperar_preferred_dishes(pratos):\n",
        "    aux = pratos.replace('[', '').replace(']', '').replace('\\\\', '').replace('\"', '').replace(\"'\", '')\n",
        "    return aux.split(',')"
      ]
    },
    {
      "cell_type": "markdown",
      "metadata": {
        "id": "9Rw18NKFVM-z"
      },
      "source": [
        "Testando a função"
      ]
    },
    {
      "cell_type": "code",
      "execution_count": null,
      "metadata": {
        "colab": {
          "base_uri": "https://localhost:8080/",
          "height": 35
        },
        "id": "vm0DE51G1CjC",
        "outputId": "c9653751-d32a-4025-fa5e-77408be13d27"
      },
      "outputs": [
        {
          "data": {
            "application/vnd.google.colaboratory.intrinsic+json": {
              "type": "string"
            },
            "text/plain": [
              "'[\\\\\\\\Pizza\\\\\\\\\\\\,\\\\\\\\\\\\\"Comida Chinesa\\\\\\\\\\\\\"]\\\\\"\"'"
            ]
          },
          "execution_count": 243,
          "metadata": {},
          "output_type": "execute_result"
        }
      ],
      "source": [
        "df_customer_segmentation.loc[0, 'preferred_dishes']"
      ]
    },
    {
      "cell_type": "code",
      "execution_count": null,
      "metadata": {
        "colab": {
          "base_uri": "https://localhost:8080/"
        },
        "id": "QlzXZZfA1CjD",
        "outputId": "8622a1f5-1e59-4465-bead-d1bcfa74cd2a"
      },
      "outputs": [
        {
          "data": {
            "text/plain": [
              "['Pizza', 'Comida Chinesa']"
            ]
          },
          "execution_count": 244,
          "metadata": {},
          "output_type": "execute_result"
        }
      ],
      "source": [
        "recuperar_preferred_dishes(df_customer_segmentation.loc[0, 'preferred_dishes'])"
      ]
    },
    {
      "cell_type": "code",
      "execution_count": null,
      "metadata": {
        "colab": {
          "base_uri": "https://localhost:8080/"
        },
        "id": "4rtwilEotFLm",
        "outputId": "c0cb1af4-8543-4b7a-be1e-fb5a9133b03d"
      },
      "outputs": [
        {
          "data": {
            "text/plain": [
              "pratos\n",
              "Lanches              10996\n",
              "Pizza                 8873\n",
              "Comida Brasileira     7848\n",
              "Comida Japonesa       4278\n",
              "Comida Saudável       2239\n",
              "dtype: int64"
            ]
          },
          "execution_count": 245,
          "metadata": {},
          "output_type": "execute_result"
        }
      ],
      "source": [
        "(\n",
        "    df_customer_segmentation\n",
        "    .query(\"marlin_tag == '1. Marlin'\")\n",
        "    .filter(['customer_id', 'marlin_tag', 'preferred_dishes'])\n",
        "    .assign(pratos = lambda df_em_memoria: df_em_memoria.preferred_dishes.apply(recuperar_preferred_dishes))\n",
        "    .explode('pratos')\n",
        "    .groupby(['customer_id', 'pratos']).agg(total_pratos_por_cliente = ('pratos', 'count'))\n",
        "    .reset_index()\n",
        "    .value_counts('pratos')\n",
        ").head(5)"
      ]
    },
    {
      "cell_type": "markdown",
      "metadata": {
        "id": "Q9_wZ71y1CjU"
      },
      "source": [
        "### Pedidos - `orders`"
      ]
    },
    {
      "cell_type": "code",
      "execution_count": null,
      "metadata": {
        "id": "63H33Xqe1CjU"
      },
      "outputs": [],
      "source": [
        "df_orders = pd.read_csv(f'{pasta_raiz}/df_orders.csv', sep=',')"
      ]
    },
    {
      "cell_type": "code",
      "execution_count": null,
      "metadata": {
        "colab": {
          "base_uri": "https://localhost:8080/",
          "height": 233
        },
        "id": "X2d7bknU1CjY",
        "outputId": "e6cfe67d-f129-45ff-a946-a2a23d563b11",
        "scrolled": true
      },
      "outputs": [
        {
          "data": {
            "text/html": [
              "<div>\n",
              "<style scoped>\n",
              "    .dataframe tbody tr th:only-of-type {\n",
              "        vertical-align: middle;\n",
              "    }\n",
              "\n",
              "    .dataframe tbody tr th {\n",
              "        vertical-align: top;\n",
              "    }\n",
              "\n",
              "    .dataframe thead th {\n",
              "        text-align: right;\n",
              "    }\n",
              "</style>\n",
              "<table border=\"1\" class=\"dataframe\">\n",
              "  <thead>\n",
              "    <tr style=\"text-align: right;\">\n",
              "      <th></th>\n",
              "      <th>order_id</th>\n",
              "      <th>order_number</th>\n",
              "      <th>order_timestamp_local</th>\n",
              "      <th>order_shift</th>\n",
              "      <th>last_status_date_local</th>\n",
              "      <th>order_total</th>\n",
              "      <th>credit</th>\n",
              "      <th>paid_amount</th>\n",
              "      <th>delivery_type</th>\n",
              "      <th>scheduled</th>\n",
              "      <th>scheduled_creation_date_local</th>\n",
              "      <th>device_app_version</th>\n",
              "      <th>device_type</th>\n",
              "      <th>device_platform</th>\n",
              "      <th>payment_method</th>\n",
              "      <th>customer_state_label</th>\n",
              "      <th>customer_city</th>\n",
              "      <th>customer_district</th>\n",
              "      <th>customer_centroid_id</th>\n",
              "      <th>customer_has_plus</th>\n",
              "      <th>customer_seg_status_last_month</th>\n",
              "      <th>customer_seg_recency_bucket</th>\n",
              "      <th>customer_seg_frequency_bucket</th>\n",
              "      <th>customer_seg_merchant_offer_bucket</th>\n",
              "      <th>customer_seg_benefits_sensitivity_bucket</th>\n",
              "      <th>customer_seg_marlin_tag</th>\n",
              "      <th>customer_seg_gross_income_bucket</th>\n",
              "      <th>customer_seg_preferred_shift</th>\n",
              "      <th>frn_id</th>\n",
              "      <th>merchant_city</th>\n",
              "      <th>merchant_district</th>\n",
              "      <th>merchant_centroid_id</th>\n",
              "      <th>merchant_dish_type</th>\n",
              "      <th>distance_merchant_customer</th>\n",
              "      <th>promo_is_promotion</th>\n",
              "      <th>normal_items_quantity</th>\n",
              "      <th>promo_items_quantity</th>\n",
              "      <th>order_lag_at_login</th>\n",
              "      <th>order_lead_at_login</th>\n",
              "      <th>order_date_local</th>\n",
              "      <th>valid_order</th>\n",
              "      <th>session_id</th>\n",
              "      <th>customer_id</th>\n",
              "    </tr>\n",
              "  </thead>\n",
              "  <tbody>\n",
              "    <tr>\n",
              "      <th>0</th>\n",
              "      <td>630e2af0-b456-4b3a-b964-4d66ce5cc5df</td>\n",
              "      <td>1290139943</td>\n",
              "      <td>2019-12-11T13:22:06.497Z</td>\n",
              "      <td>weekday lunch</td>\n",
              "      <td>2019-12-11T15:22:39.156Z</td>\n",
              "      <td>28.90</td>\n",
              "      <td>14.00</td>\n",
              "      <td>24.90</td>\n",
              "      <td>DELIVERY</td>\n",
              "      <td>False</td>\n",
              "      <td>2019-12-11T13:22:06.497Z</td>\n",
              "      <td>9.29.1</td>\n",
              "      <td>MOBILE</td>\n",
              "      <td>ANDROID</td>\n",
              "      <td>CC_ONLINE</td>\n",
              "      <td>RN</td>\n",
              "      <td>PARNAMIRIM</td>\n",
              "      <td>NOVA PARNAMIRIM</td>\n",
              "      <td>-5.89-35.2</td>\n",
              "      <td>False</td>\n",
              "      <td>Active</td>\n",
              "      <td>1.00</td>\n",
              "      <td>5.00</td>\n",
              "      <td>5.00</td>\n",
              "      <td>Alta</td>\n",
              "      <td>NaN</td>\n",
              "      <td>6.00</td>\n",
              "      <td>NaN</td>\n",
              "      <td>43583</td>\n",
              "      <td>NATAL</td>\n",
              "      <td>PONTA NEGRA</td>\n",
              "      <td>-5.87-35.18</td>\n",
              "      <td>Comida Brasileira</td>\n",
              "      <td>2722.60</td>\n",
              "      <td>0.00</td>\n",
              "      <td>2.00</td>\n",
              "      <td>0.00</td>\n",
              "      <td>2.00</td>\n",
              "      <td>1.00</td>\n",
              "      <td>2019-12-11T00:00:00.000Z</td>\n",
              "      <td>1</td>\n",
              "      <td>ccbcf9e2-3728-4458-a813-4031ae22e4bd</td>\n",
              "      <td>48b6d81407646ca61163f064a426ce38ac08bed2ce84f0...</td>\n",
              "    </tr>\n",
              "    <tr>\n",
              "      <th>1</th>\n",
              "      <td>66f8163d-f081-4fbd-adb8-cfbbff9213f7</td>\n",
              "      <td>1141271215</td>\n",
              "      <td>2019-11-06T17:57:17.967Z</td>\n",
              "      <td>weekday dinner</td>\n",
              "      <td>2019-11-06T18:18:48.680Z</td>\n",
              "      <td>56.35</td>\n",
              "      <td>7.90</td>\n",
              "      <td>50.40</td>\n",
              "      <td>DELIVERY</td>\n",
              "      <td>False</td>\n",
              "      <td>2019-11-06T17:57:17.967Z</td>\n",
              "      <td>webapp_6.2.0</td>\n",
              "      <td>SITE</td>\n",
              "      <td>DESKTOP</td>\n",
              "      <td>CC_ONLINE</td>\n",
              "      <td>PR</td>\n",
              "      <td>LONDRINA</td>\n",
              "      <td>Gleba Fazenda Palhano</td>\n",
              "      <td>-23.33-51.19</td>\n",
              "      <td>False</td>\n",
              "      <td>Active</td>\n",
              "      <td>1.00</td>\n",
              "      <td>4.00</td>\n",
              "      <td>5.00</td>\n",
              "      <td>Media</td>\n",
              "      <td>1. Marlin</td>\n",
              "      <td>6.00</td>\n",
              "      <td>NaN</td>\n",
              "      <td>533415</td>\n",
              "      <td>LONDRINA</td>\n",
              "      <td>Gleba Fazenda Palhano</td>\n",
              "      <td>-23.34-51.19</td>\n",
              "      <td>Lanches</td>\n",
              "      <td>1108.82</td>\n",
              "      <td>1.00</td>\n",
              "      <td>0.00</td>\n",
              "      <td>1.00</td>\n",
              "      <td>7.00</td>\n",
              "      <td>1.00</td>\n",
              "      <td>2019-11-06T00:00:00.000Z</td>\n",
              "      <td>1</td>\n",
              "      <td>d9e94d88-ca88-4997-ad4c-62b9c0a35c1b</td>\n",
              "      <td>b3f74186880f5f9a79e0865ad8beab47e22b785b8b3bc0...</td>\n",
              "    </tr>\n",
              "  </tbody>\n",
              "</table>\n",
              "</div>"
            ],
            "text/plain": [
              "                               order_id  ...                                        customer_id\n",
              "0  630e2af0-b456-4b3a-b964-4d66ce5cc5df  ...  48b6d81407646ca61163f064a426ce38ac08bed2ce84f0...\n",
              "1  66f8163d-f081-4fbd-adb8-cfbbff9213f7  ...  b3f74186880f5f9a79e0865ad8beab47e22b785b8b3bc0...\n",
              "\n",
              "[2 rows x 43 columns]"
            ]
          },
          "execution_count": 247,
          "metadata": {},
          "output_type": "execute_result"
        }
      ],
      "source": [
        "df_orders.head(2)"
      ]
    },
    {
      "cell_type": "markdown",
      "metadata": {
        "id": "9ZQcm7IC1CjL"
      },
      "source": [
        "**<span style=\"color:blue\">(2 pontos)</span> `Q7` Quais os três bairros de São Paulo, onde o iFood mais vende pratos do tipo de Pizza?**\n",
        "\n",
        "Lembre-se de padronizar em minusculo ou maisculo a cidade, os bairros e os tipos de pratos. Utilize o DataFrame abaixo: `df_orders_exe7`."
      ]
    },
    {
      "cell_type": "code",
      "execution_count": null,
      "metadata": {
        "id": "1nxtin4b1CjL"
      },
      "outputs": [],
      "source": [
        "df_orders_exe7 = df_orders[['customer_city', 'customer_district', 'merchant_dish_type']].copy()\n",
        "df_orders_exe7.customer_city = df_orders_exe7.customer_city.str.lower()\n",
        "df_orders_exe7.customer_district = df_orders_exe7.customer_district.str.lower()\n",
        "df_orders_exe7.merchant_dish_type = df_orders_exe7.merchant_dish_type.str.lower()"
      ]
    },
    {
      "cell_type": "code",
      "execution_count": null,
      "metadata": {
        "colab": {
          "base_uri": "https://localhost:8080/"
        },
        "id": "lLCiAfKI3j2f",
        "outputId": "b1b2ebee-5f2f-46dd-d02b-3cb31d31aee0"
      },
      "outputs": [
        {
          "data": {
            "text/plain": [
              "customer_district\n",
              "bela vista      590\n",
              "perdizes        424\n",
              "vila mariana    343\n",
              "dtype: int64"
            ]
          },
          "execution_count": 249,
          "metadata": {},
          "output_type": "execute_result"
        }
      ],
      "source": [
        "(\n",
        "    df_orders_exe7\n",
        "    .query('customer_city == \"sao paulo\" & merchant_dish_type == \"pizza\"')\n",
        "    .value_counts('customer_district')\n",
        ")[:3]"
      ]
    },
    {
      "cell_type": "markdown",
      "metadata": {
        "id": "f4OGZtKf1Cja"
      },
      "source": [
        "**<span style=\"color:blue\">(1 ponto)</span> `Q8` Qual é o período do dia em que os pedidos são enviados com mais frequencia?**\n",
        "\n",
        "Considere o período sendo dinner, lunch, snack, dawn ou breakfast. Não importa se for dia de semana ou final de semana. Por exemplo: weekend dinner e weekday dinner devem ser considerados como dinner."
      ]
    },
    {
      "cell_type": "code",
      "execution_count": null,
      "metadata": {
        "colab": {
          "base_uri": "https://localhost:8080/"
        },
        "id": "idu9_2V61Cja",
        "outputId": "401e0417-bbe6-4580-ea19-6e02795824eb"
      },
      "outputs": [
        {
          "data": {
            "text/plain": [
              "dinner       299501\n",
              "lunch        151659\n",
              "snack         27212\n",
              "dawn          12117\n",
              "breakfast      1649\n",
              "Name: order_shift, dtype: int64"
            ]
          },
          "execution_count": 250,
          "metadata": {},
          "output_type": "execute_result"
        }
      ],
      "source": [
        "df_orders['order_shift'].str.split(' ').str[-1].value_counts()"
      ]
    },
    {
      "cell_type": "markdown",
      "metadata": {
        "id": "7k1CLA1W1Cjd"
      },
      "source": [
        "**<span style=\"color:blue\">(1 pontos)</span> `Q9` Qual é a média de gastos, total de gastos e total de pedidos que os usuários das plataformas Android e iOS tiveram?**"
      ]
    },
    {
      "cell_type": "code",
      "execution_count": null,
      "metadata": {
        "colab": {
          "base_uri": "https://localhost:8080/",
          "height": 111
        },
        "id": "LvsUCVWu1Cjd",
        "outputId": "a8007f85-0882-47cc-bbde-acb519dc54a5"
      },
      "outputs": [
        {
          "data": {
            "text/html": [
              "<div>\n",
              "<style scoped>\n",
              "    .dataframe tbody tr th:only-of-type {\n",
              "        vertical-align: middle;\n",
              "    }\n",
              "\n",
              "    .dataframe tbody tr th {\n",
              "        vertical-align: top;\n",
              "    }\n",
              "\n",
              "    .dataframe thead th {\n",
              "        text-align: right;\n",
              "    }\n",
              "</style>\n",
              "<table border=\"1\" class=\"dataframe\">\n",
              "  <thead>\n",
              "    <tr style=\"text-align: right;\">\n",
              "      <th></th>\n",
              "      <th>device_platform</th>\n",
              "      <th>media_gastos</th>\n",
              "      <th>total_gastos</th>\n",
              "      <th>total_pedidos</th>\n",
              "    </tr>\n",
              "  </thead>\n",
              "  <tbody>\n",
              "    <tr>\n",
              "      <th>0</th>\n",
              "      <td>ANDROID</td>\n",
              "      <td>46.20</td>\n",
              "      <td>12695977.01</td>\n",
              "      <td>274822</td>\n",
              "    </tr>\n",
              "    <tr>\n",
              "      <th>1</th>\n",
              "      <td>IOS</td>\n",
              "      <td>55.55</td>\n",
              "      <td>11523010.28</td>\n",
              "      <td>207432</td>\n",
              "    </tr>\n",
              "  </tbody>\n",
              "</table>\n",
              "</div>"
            ],
            "text/plain": [
              "  device_platform  media_gastos  total_gastos  total_pedidos\n",
              "0         ANDROID         46.20   12695977.01         274822\n",
              "1             IOS         55.55   11523010.28         207432"
            ]
          },
          "execution_count": 251,
          "metadata": {},
          "output_type": "execute_result"
        }
      ],
      "source": [
        "(\n",
        "        df_orders[df_orders.device_platform.isin(('ANDROID', 'IOS'))]\n",
        "    .groupby('device_platform')\n",
        "    .agg(\n",
        "        media_gastos = ('paid_amount', 'mean'),\n",
        "        total_gastos = ('paid_amount', 'sum'),\n",
        "        total_pedidos = ('paid_amount', 'count'),\n",
        "    )\n",
        "    .reset_index()\n",
        ")"
      ]
    },
    {
      "cell_type": "markdown",
      "metadata": {
        "id": "LGe6qB_b1Cje"
      },
      "source": [
        "**<span style=\"color:blue\">(3 pontos)</span> `Q10` Quais foram os 10 pedidos que mais demoraram para serem entregues?** Utilize as variáveis `order_timestamp_local` e `last_status_date_local`.\n",
        "\n",
        "Lembre-se de converter as datas e horários corretamente."
      ]
    },
    {
      "cell_type": "code",
      "execution_count": null,
      "metadata": {
        "id": "BODeiDR_1Cjf"
      },
      "outputs": [],
      "source": [
        "df_orders.order_timestamp_local = pd.to_datetime(df_orders.order_timestamp_local)\n",
        "df_orders.last_status_date_local = pd.to_datetime(df_orders.last_status_date_local)"
      ]
    },
    {
      "cell_type": "code",
      "execution_count": null,
      "metadata": {
        "colab": {
          "base_uri": "https://localhost:8080/",
          "height": 419
        },
        "id": "vBplonLe1Cjg",
        "outputId": "68255ca0-4b3d-42a1-c8a5-5f2ed25377dd"
      },
      "outputs": [
        {
          "data": {
            "text/html": [
              "<div>\n",
              "<style scoped>\n",
              "    .dataframe tbody tr th:only-of-type {\n",
              "        vertical-align: middle;\n",
              "    }\n",
              "\n",
              "    .dataframe tbody tr th {\n",
              "        vertical-align: top;\n",
              "    }\n",
              "\n",
              "    .dataframe thead th {\n",
              "        text-align: right;\n",
              "    }\n",
              "</style>\n",
              "<table border=\"1\" class=\"dataframe\">\n",
              "  <thead>\n",
              "    <tr style=\"text-align: right;\">\n",
              "      <th></th>\n",
              "      <th>order_id</th>\n",
              "      <th>order_timestamp_local</th>\n",
              "      <th>last_status_date_local</th>\n",
              "      <th>tempo_entrega</th>\n",
              "    </tr>\n",
              "  </thead>\n",
              "  <tbody>\n",
              "    <tr>\n",
              "      <th>419905</th>\n",
              "      <td>e99cc089-2996-4769-93e8-3faaa773e5e5</td>\n",
              "      <td>2019-09-02 07:00:51.387000+00:00</td>\n",
              "      <td>2019-09-03 11:40:03.458000+00:00</td>\n",
              "      <td>1 days 04:39:12.071000</td>\n",
              "    </tr>\n",
              "    <tr>\n",
              "      <th>245187</th>\n",
              "      <td>a953e18c-00ac-4e3e-acc5-24e910095862</td>\n",
              "      <td>2019-09-02 07:10:18.296000+00:00</td>\n",
              "      <td>2019-09-03 11:40:03.517000+00:00</td>\n",
              "      <td>1 days 04:29:45.221000</td>\n",
              "    </tr>\n",
              "    <tr>\n",
              "      <th>145073</th>\n",
              "      <td>aef131c0-e810-4c5e-b84e-9ce4a0220cfe</td>\n",
              "      <td>2019-12-25 08:25:24.789000+00:00</td>\n",
              "      <td>2019-12-26 12:36:40.753000+00:00</td>\n",
              "      <td>1 days 04:11:15.964000</td>\n",
              "    </tr>\n",
              "    <tr>\n",
              "      <th>290345</th>\n",
              "      <td>5f489897-9ad1-4eff-831f-3617ee7d7c8a</td>\n",
              "      <td>2019-12-25 08:55:16.099000+00:00</td>\n",
              "      <td>2019-12-26 12:37:06.097000+00:00</td>\n",
              "      <td>1 days 03:41:49.998000</td>\n",
              "    </tr>\n",
              "    <tr>\n",
              "      <th>177797</th>\n",
              "      <td>77aa64d0-2a12-4a71-a839-e54c5365cf8f</td>\n",
              "      <td>2019-09-02 08:28:45.219000+00:00</td>\n",
              "      <td>2019-09-03 11:40:15.497000+00:00</td>\n",
              "      <td>1 days 03:11:30.278000</td>\n",
              "    </tr>\n",
              "    <tr>\n",
              "      <th>...</th>\n",
              "      <td>...</td>\n",
              "      <td>...</td>\n",
              "      <td>...</td>\n",
              "      <td>...</td>\n",
              "    </tr>\n",
              "    <tr>\n",
              "      <th>278674</th>\n",
              "      <td>34ef4842-6b27-41eb-8b75-10e2c720c45a</td>\n",
              "      <td>2019-06-11 12:40:00+00:00</td>\n",
              "      <td>2019-06-11 11:55:02.483000+00:00</td>\n",
              "      <td>-1 days +23:15:02.483000</td>\n",
              "    </tr>\n",
              "    <tr>\n",
              "      <th>193863</th>\n",
              "      <td>83194aae-f6a7-4e3d-b148-870f52a6a980</td>\n",
              "      <td>2019-06-28 12:40:00+00:00</td>\n",
              "      <td>2019-06-28 11:53:56.720000+00:00</td>\n",
              "      <td>-1 days +23:13:56.720000</td>\n",
              "    </tr>\n",
              "    <tr>\n",
              "      <th>14036</th>\n",
              "      <td>5c18ffa2-d0e6-46e0-b8e2-a0f1886a016f</td>\n",
              "      <td>2019-06-14 12:40:00+00:00</td>\n",
              "      <td>2019-06-14 11:53:34.185000+00:00</td>\n",
              "      <td>-1 days +23:13:34.185000</td>\n",
              "    </tr>\n",
              "    <tr>\n",
              "      <th>208939</th>\n",
              "      <td>819a2459-e4f0-4bec-a438-43bde38a7513</td>\n",
              "      <td>2019-06-12 12:40:00+00:00</td>\n",
              "      <td>2019-06-12 11:53:28.799000+00:00</td>\n",
              "      <td>-1 days +23:13:28.799000</td>\n",
              "    </tr>\n",
              "    <tr>\n",
              "      <th>241889</th>\n",
              "      <td>cb76b557-fcc5-438c-aa4a-055f3e43fff0</td>\n",
              "      <td>2019-06-13 12:40:00+00:00</td>\n",
              "      <td>2019-06-13 11:46:52.151000+00:00</td>\n",
              "      <td>-1 days +23:06:52.151000</td>\n",
              "    </tr>\n",
              "  </tbody>\n",
              "</table>\n",
              "<p>492138 rows × 4 columns</p>\n",
              "</div>"
            ],
            "text/plain": [
              "                                    order_id  ...            tempo_entrega\n",
              "419905  e99cc089-2996-4769-93e8-3faaa773e5e5  ...   1 days 04:39:12.071000\n",
              "245187  a953e18c-00ac-4e3e-acc5-24e910095862  ...   1 days 04:29:45.221000\n",
              "145073  aef131c0-e810-4c5e-b84e-9ce4a0220cfe  ...   1 days 04:11:15.964000\n",
              "290345  5f489897-9ad1-4eff-831f-3617ee7d7c8a  ...   1 days 03:41:49.998000\n",
              "177797  77aa64d0-2a12-4a71-a839-e54c5365cf8f  ...   1 days 03:11:30.278000\n",
              "...                                      ...  ...                      ...\n",
              "278674  34ef4842-6b27-41eb-8b75-10e2c720c45a  ... -1 days +23:15:02.483000\n",
              "193863  83194aae-f6a7-4e3d-b148-870f52a6a980  ... -1 days +23:13:56.720000\n",
              "14036   5c18ffa2-d0e6-46e0-b8e2-a0f1886a016f  ... -1 days +23:13:34.185000\n",
              "208939  819a2459-e4f0-4bec-a438-43bde38a7513  ... -1 days +23:13:28.799000\n",
              "241889  cb76b557-fcc5-438c-aa4a-055f3e43fff0  ... -1 days +23:06:52.151000\n",
              "\n",
              "[492138 rows x 4 columns]"
            ]
          },
          "execution_count": 253,
          "metadata": {},
          "output_type": "execute_result"
        }
      ],
      "source": [
        "(\n",
        "    df_orders\n",
        "    .filter(['order_id', 'order_timestamp_local', 'last_status_date_local'])\n",
        "    .assign(tempo_entrega = df_orders.last_status_date_local - df_orders.order_timestamp_local)\n",
        "    .sort_values('tempo_entrega', ascending=False)\n",
        ")"
      ]
    },
    {
      "cell_type": "markdown",
      "metadata": {
        "id": "DjWRh9Vj1Cjm"
      },
      "source": [
        "**<span style=\"color:blue\">(3 pontos)</span> `Q11` Quais foram os valores minimo, máximo e médio gasto por todos os clientes durante os meses disponíveis na base?**\n",
        "\n",
        "Utilize a variável `order_timestamp_local` para recuperar o mês.\n",
        "\n",
        "Utilize a variável `order_total`para computar as estatísticas básicas para cada mês.\n",
        "\n",
        "É obrigatório o uso do `groupby`."
      ]
    },
    {
      "cell_type": "code",
      "execution_count": null,
      "metadata": {
        "colab": {
          "base_uri": "https://localhost:8080/",
          "height": 331
        },
        "id": "cKzqyVor1Cjn",
        "outputId": "84ab7cdc-ea83-4d6c-902e-434122e36b6c"
      },
      "outputs": [
        {
          "name": "stderr",
          "output_type": "stream",
          "text": [
            "/usr/local/lib/python3.7/dist-packages/pandas/core/arrays/datetimes.py:1092: UserWarning: Converting to PeriodArray/Index representation will drop timezone information.\n",
            "  UserWarning,\n"
          ]
        },
        {
          "data": {
            "text/html": [
              "<div>\n",
              "<style scoped>\n",
              "    .dataframe tbody tr th:only-of-type {\n",
              "        vertical-align: middle;\n",
              "    }\n",
              "\n",
              "    .dataframe tbody tr th {\n",
              "        vertical-align: top;\n",
              "    }\n",
              "\n",
              "    .dataframe thead th {\n",
              "        text-align: right;\n",
              "    }\n",
              "</style>\n",
              "<table border=\"1\" class=\"dataframe\">\n",
              "  <thead>\n",
              "    <tr style=\"text-align: right;\">\n",
              "      <th></th>\n",
              "      <th>min_order_total</th>\n",
              "      <th>mean_order_total</th>\n",
              "      <th>max_order_total</th>\n",
              "    </tr>\n",
              "    <tr>\n",
              "      <th>meses</th>\n",
              "      <th></th>\n",
              "      <th></th>\n",
              "      <th></th>\n",
              "    </tr>\n",
              "  </thead>\n",
              "  <tbody>\n",
              "    <tr>\n",
              "      <th>2019-06</th>\n",
              "      <td>13.05</td>\n",
              "      <td>55.43</td>\n",
              "      <td>609.10</td>\n",
              "    </tr>\n",
              "    <tr>\n",
              "      <th>2019-07</th>\n",
              "      <td>13.50</td>\n",
              "      <td>54.82</td>\n",
              "      <td>603.60</td>\n",
              "    </tr>\n",
              "    <tr>\n",
              "      <th>2019-08</th>\n",
              "      <td>13.00</td>\n",
              "      <td>55.77</td>\n",
              "      <td>1058.00</td>\n",
              "    </tr>\n",
              "    <tr>\n",
              "      <th>2019-09</th>\n",
              "      <td>16.50</td>\n",
              "      <td>55.62</td>\n",
              "      <td>759.50</td>\n",
              "    </tr>\n",
              "    <tr>\n",
              "      <th>2019-10</th>\n",
              "      <td>15.00</td>\n",
              "      <td>55.43</td>\n",
              "      <td>807.30</td>\n",
              "    </tr>\n",
              "    <tr>\n",
              "      <th>2019-11</th>\n",
              "      <td>13.79</td>\n",
              "      <td>56.10</td>\n",
              "      <td>667.70</td>\n",
              "    </tr>\n",
              "    <tr>\n",
              "      <th>2019-12</th>\n",
              "      <td>14.00</td>\n",
              "      <td>57.76</td>\n",
              "      <td>1641.00</td>\n",
              "    </tr>\n",
              "  </tbody>\n",
              "</table>\n",
              "</div>"
            ],
            "text/plain": [
              "         min_order_total  mean_order_total  max_order_total\n",
              "meses                                                      \n",
              "2019-06            13.05             55.43           609.10\n",
              "2019-07            13.50             54.82           603.60\n",
              "2019-08            13.00             55.77          1058.00\n",
              "2019-09            16.50             55.62           759.50\n",
              "2019-10            15.00             55.43           807.30\n",
              "2019-11            13.79             56.10           667.70\n",
              "2019-12            14.00             57.76          1641.00"
            ]
          },
          "execution_count": 254,
          "metadata": {},
          "output_type": "execute_result"
        }
      ],
      "source": [
        "(\n",
        "    df_orders\n",
        "    .assign(meses = df_orders.order_timestamp_local.dt.to_period('M'))\n",
        "    .groupby('meses')\n",
        "    .agg(\n",
        "        min_order_total = ('order_total', 'min'),\n",
        "        mean_order_total = ('order_total', 'mean'),\n",
        "        max_order_total = ('order_total', 'max')\n",
        "    )\n",
        ")"
      ]
    },
    {
      "cell_type": "markdown",
      "metadata": {
        "id": "AV8trDKP1Cjq"
      },
      "source": [
        "### Sessões das visitas realizadas - `sessions_visits`\n"
      ]
    },
    {
      "cell_type": "code",
      "execution_count": null,
      "metadata": {
        "id": "hpMYQbif1Cjq"
      },
      "outputs": [],
      "source": [
        "df_session_visits = pd.read_csv(f'{pasta_raiz}/df_sessions_visits.csv', sep=',')"
      ]
    },
    {
      "cell_type": "code",
      "execution_count": null,
      "metadata": {
        "colab": {
          "base_uri": "https://localhost:8080/",
          "height": 267
        },
        "id": "-wonTie-1Cjs",
        "outputId": "35c8bb84-b406-4796-ea23-f466c6fa2eac"
      },
      "outputs": [
        {
          "data": {
            "text/html": [
              "<div>\n",
              "<style scoped>\n",
              "    .dataframe tbody tr th:only-of-type {\n",
              "        vertical-align: middle;\n",
              "    }\n",
              "\n",
              "    .dataframe tbody tr th {\n",
              "        vertical-align: top;\n",
              "    }\n",
              "\n",
              "    .dataframe thead th {\n",
              "        text-align: right;\n",
              "    }\n",
              "</style>\n",
              "<table border=\"1\" class=\"dataframe\">\n",
              "  <thead>\n",
              "    <tr style=\"text-align: right;\">\n",
              "      <th></th>\n",
              "      <th>session_id</th>\n",
              "      <th>dau</th>\n",
              "      <th>platform</th>\n",
              "      <th>user_identifier</th>\n",
              "      <th>user_account_uuid</th>\n",
              "      <th>session_started_at_amsp</th>\n",
              "      <th>session_ended_at_amsp</th>\n",
              "      <th>session_started_at_utc0</th>\n",
              "      <th>session_ended_at_utc0</th>\n",
              "      <th>session_duration_seconds</th>\n",
              "      <th>device_model</th>\n",
              "      <th>device_manufacturer</th>\n",
              "      <th>sum_event_open</th>\n",
              "      <th>sum_view_restaurant_screen</th>\n",
              "      <th>sum_view_dish_screen</th>\n",
              "      <th>sum_click_add_item</th>\n",
              "      <th>sum_view_checkout</th>\n",
              "      <th>sum_callback_purchase</th>\n",
              "      <th>order_session_quantity</th>\n",
              "      <th>first_order_origin_feature</th>\n",
              "      <th>media_network</th>\n",
              "    </tr>\n",
              "  </thead>\n",
              "  <tbody>\n",
              "    <tr>\n",
              "      <th>0</th>\n",
              "      <td>41162808-5335-4e4f-aa52-45754ec1d558</td>\n",
              "      <td>2019-11-04_661ead80-50a2-48b4-ae78-f872e2f08c11</td>\n",
              "      <td>IOS</td>\n",
              "      <td>ffa840ebe8b397e995245525ec98f0b31a882c4d3e47dc...</td>\n",
              "      <td>ca438b60-3d04-44c0-9883-c4f01fc512ad</td>\n",
              "      <td>2019-11-04T09:14:47.566Z</td>\n",
              "      <td>2019-11-04T09:15:50.323Z</td>\n",
              "      <td>2019-11-04T11:14:47.566Z</td>\n",
              "      <td>2019-11-04T11:15:50.323Z</td>\n",
              "      <td>63.00</td>\n",
              "      <td>iPhone9,3</td>\n",
              "      <td>Apple</td>\n",
              "      <td>1.00</td>\n",
              "      <td>nan</td>\n",
              "      <td>1.00</td>\n",
              "      <td>1.00</td>\n",
              "      <td>1.00</td>\n",
              "      <td>1.00</td>\n",
              "      <td>1.00</td>\n",
              "      <td>Loop</td>\n",
              "      <td>NaN</td>\n",
              "    </tr>\n",
              "    <tr>\n",
              "      <th>1</th>\n",
              "      <td>52f0a543-fcc7-4ff0-bed1-41bec8a51374</td>\n",
              "      <td>2019-12-07_17ae6c54-37e1-42e3-b82b-e562aaeb7730</td>\n",
              "      <td>IOS</td>\n",
              "      <td>a59ea42fbbaf0fa9a48b65f45842d9d061d23775ad2af6...</td>\n",
              "      <td>414f1e51-e872-42ca-ad5e-c30b085bd5e4</td>\n",
              "      <td>2019-12-07T13:28:37.764Z</td>\n",
              "      <td>2019-12-07T15:04:00.819Z</td>\n",
              "      <td>2019-12-07T15:28:37.764Z</td>\n",
              "      <td>2019-12-07T17:04:00.819Z</td>\n",
              "      <td>5723.00</td>\n",
              "      <td>iPhone9,3</td>\n",
              "      <td>Apple</td>\n",
              "      <td>17.00</td>\n",
              "      <td>12.00</td>\n",
              "      <td>3.00</td>\n",
              "      <td>1.00</td>\n",
              "      <td>2.00</td>\n",
              "      <td>1.00</td>\n",
              "      <td>1.00</td>\n",
              "      <td>Last Restaurants</td>\n",
              "      <td>NaN</td>\n",
              "    </tr>\n",
              "  </tbody>\n",
              "</table>\n",
              "</div>"
            ],
            "text/plain": [
              "                             session_id  ... media_network\n",
              "0  41162808-5335-4e4f-aa52-45754ec1d558  ...           NaN\n",
              "1  52f0a543-fcc7-4ff0-bed1-41bec8a51374  ...           NaN\n",
              "\n",
              "[2 rows x 21 columns]"
            ]
          },
          "execution_count": 256,
          "metadata": {},
          "output_type": "execute_result"
        }
      ],
      "source": [
        "df_session_visits.head(2)"
      ]
    },
    {
      "cell_type": "markdown",
      "metadata": {
        "id": "zYVEDXJz1Cjt"
      },
      "source": [
        "**<span style=\"color:blue\">(3 pontos)</span> `Q12` Realize o passo a passo abaixo:**\n",
        "\n",
        "* Faça concatenação das variáveis `user_identifier` e `session_id`, nesta ordem, para criar um novo identidicador único, chamado `unique_id`\n",
        "\n",
        "* Insira a coluna `unique_id` na posição 0 do DataFrame `df_session_visits`. Utilize uma variável auxiliar para facilitar.\n",
        "\n",
        "* Crie uma nova coluna com a diferença entre as variáveis `session_started_at_utc0` e `session_ended_at_utc0`. O nome da coluna deve ser `tempo_sessao`.\n",
        "\n",
        "* Crie uma função que irá receber dois parâmetros, uma DataFrame e outra a quantidade de usuário mais ativos dentro da plataforma.\n",
        "\n",
        "O objetivo dessa função é verificar os n usuários que ficaram mais tempo dentro da plataforma. NÃO precisa fazer a agregação, considere cada linha um usuário único.\n",
        "\n",
        "**O retorno dessa função deve ser um DataFrame que irá conter todas as colunas filtradas para os n usuários mais ativos, incluindo as duas novas colunas criadas anteriormente (`unique_id` e `tempo_sessao`)**\n",
        "\n",
        "Teste a função com os seguintes comandos:\n",
        "\n",
        "    recuperar_n_mais_usuarios_ativos(df_session=df_session_visits, n_mais_usuarios=0)\n",
        "    recuperar_n_mais_usuarios_ativos(df_session=df_session_visits, n_mais_usuarios=10)\n",
        "\n",
        "**Lembre-se de tratar possíveis erros**\n",
        "\n",
        "* Por fim, copie e cole o seguinte comando na última célula do exercício.\n",
        "\n",
        "        df_final = recuperar_n_mais_usuarios_ativos(df_session=df_session_visits, n_mais_usuarios=1000)"
      ]
    },
    {
      "cell_type": "code",
      "execution_count": null,
      "metadata": {
        "colab": {
          "base_uri": "https://localhost:8080/",
          "height": 564
        },
        "id": "K-w8bpJK21xP",
        "outputId": "cd061ab1-f880-4b55-eb21-9023cdd7fde5"
      },
      "outputs": [
        {
          "data": {
            "text/html": [
              "<div>\n",
              "<style scoped>\n",
              "    .dataframe tbody tr th:only-of-type {\n",
              "        vertical-align: middle;\n",
              "    }\n",
              "\n",
              "    .dataframe tbody tr th {\n",
              "        vertical-align: top;\n",
              "    }\n",
              "\n",
              "    .dataframe thead th {\n",
              "        text-align: right;\n",
              "    }\n",
              "</style>\n",
              "<table border=\"1\" class=\"dataframe\">\n",
              "  <thead>\n",
              "    <tr style=\"text-align: right;\">\n",
              "      <th></th>\n",
              "      <th>unique_id</th>\n",
              "      <th>session_id</th>\n",
              "      <th>dau</th>\n",
              "      <th>platform</th>\n",
              "      <th>user_identifier</th>\n",
              "      <th>user_account_uuid</th>\n",
              "      <th>session_started_at_amsp</th>\n",
              "      <th>session_ended_at_amsp</th>\n",
              "      <th>session_started_at_utc0</th>\n",
              "      <th>session_ended_at_utc0</th>\n",
              "      <th>session_duration_seconds</th>\n",
              "      <th>device_model</th>\n",
              "      <th>device_manufacturer</th>\n",
              "      <th>sum_event_open</th>\n",
              "      <th>sum_view_restaurant_screen</th>\n",
              "      <th>sum_view_dish_screen</th>\n",
              "      <th>sum_click_add_item</th>\n",
              "      <th>sum_view_checkout</th>\n",
              "      <th>sum_callback_purchase</th>\n",
              "      <th>order_session_quantity</th>\n",
              "      <th>first_order_origin_feature</th>\n",
              "      <th>media_network</th>\n",
              "    </tr>\n",
              "  </thead>\n",
              "  <tbody>\n",
              "    <tr>\n",
              "      <th>0</th>\n",
              "      <td>ffa840ebe8b397e995245525ec98f0b31a882c4d3e47dc...</td>\n",
              "      <td>41162808-5335-4e4f-aa52-45754ec1d558</td>\n",
              "      <td>2019-11-04_661ead80-50a2-48b4-ae78-f872e2f08c11</td>\n",
              "      <td>IOS</td>\n",
              "      <td>ffa840ebe8b397e995245525ec98f0b31a882c4d3e47dc...</td>\n",
              "      <td>ca438b60-3d04-44c0-9883-c4f01fc512ad</td>\n",
              "      <td>2019-11-04T09:14:47.566Z</td>\n",
              "      <td>2019-11-04T09:15:50.323Z</td>\n",
              "      <td>2019-11-04T11:14:47.566Z</td>\n",
              "      <td>2019-11-04T11:15:50.323Z</td>\n",
              "      <td>63.00</td>\n",
              "      <td>iPhone9,3</td>\n",
              "      <td>Apple</td>\n",
              "      <td>1.00</td>\n",
              "      <td>nan</td>\n",
              "      <td>1.00</td>\n",
              "      <td>1.00</td>\n",
              "      <td>1.00</td>\n",
              "      <td>1.00</td>\n",
              "      <td>1.00</td>\n",
              "      <td>Loop</td>\n",
              "      <td>NaN</td>\n",
              "    </tr>\n",
              "    <tr>\n",
              "      <th>1</th>\n",
              "      <td>a59ea42fbbaf0fa9a48b65f45842d9d061d23775ad2af6...</td>\n",
              "      <td>52f0a543-fcc7-4ff0-bed1-41bec8a51374</td>\n",
              "      <td>2019-12-07_17ae6c54-37e1-42e3-b82b-e562aaeb7730</td>\n",
              "      <td>IOS</td>\n",
              "      <td>a59ea42fbbaf0fa9a48b65f45842d9d061d23775ad2af6...</td>\n",
              "      <td>414f1e51-e872-42ca-ad5e-c30b085bd5e4</td>\n",
              "      <td>2019-12-07T13:28:37.764Z</td>\n",
              "      <td>2019-12-07T15:04:00.819Z</td>\n",
              "      <td>2019-12-07T15:28:37.764Z</td>\n",
              "      <td>2019-12-07T17:04:00.819Z</td>\n",
              "      <td>5723.00</td>\n",
              "      <td>iPhone9,3</td>\n",
              "      <td>Apple</td>\n",
              "      <td>17.00</td>\n",
              "      <td>12.00</td>\n",
              "      <td>3.00</td>\n",
              "      <td>1.00</td>\n",
              "      <td>2.00</td>\n",
              "      <td>1.00</td>\n",
              "      <td>1.00</td>\n",
              "      <td>Last Restaurants</td>\n",
              "      <td>NaN</td>\n",
              "    </tr>\n",
              "    <tr>\n",
              "      <th>2</th>\n",
              "      <td>e7dcbc11f83b22ea57ec8b385b9fa38d48532b180e3d19...</td>\n",
              "      <td>f06f2a6d-14cc-44e3-8ec6-66191659430b</td>\n",
              "      <td>2019-12-29_d8a7f51d-4394-3c9a-ae62-8522f5885d3f</td>\n",
              "      <td>ANDROID</td>\n",
              "      <td>e7dcbc11f83b22ea57ec8b385b9fa38d48532b180e3d19...</td>\n",
              "      <td>5c697207-d8a4-460e-b171-3e94e42be5ab</td>\n",
              "      <td>2019-12-29T19:58:38.297Z</td>\n",
              "      <td>2019-12-29T20:17:45.199Z</td>\n",
              "      <td>2019-12-29T22:58:38.297Z</td>\n",
              "      <td>2019-12-29T23:17:45.199Z</td>\n",
              "      <td>1147.00</td>\n",
              "      <td>Redmi Note 8</td>\n",
              "      <td>Xiaomi</td>\n",
              "      <td>2.00</td>\n",
              "      <td>4.00</td>\n",
              "      <td>7.00</td>\n",
              "      <td>7.00</td>\n",
              "      <td>5.00</td>\n",
              "      <td>1.00</td>\n",
              "      <td>1.00</td>\n",
              "      <td>Ranking</td>\n",
              "      <td>NaN</td>\n",
              "    </tr>\n",
              "    <tr>\n",
              "      <th>3</th>\n",
              "      <td>2959b13e1caef84fa6cde74693ba2476f17eaa72b66dad...</td>\n",
              "      <td>716d0044-0d76-4199-86ca-62930a751d59</td>\n",
              "      <td>2019-12-03_9675dcd9-9dd5-3ec3-809e-9006b4fac160</td>\n",
              "      <td>ANDROID</td>\n",
              "      <td>2959b13e1caef84fa6cde74693ba2476f17eaa72b66dad...</td>\n",
              "      <td>615b2fb5-e76d-4fa7-b982-9564650c76c5</td>\n",
              "      <td>2019-12-03T14:54:14.621Z</td>\n",
              "      <td>2019-12-03T16:31:47.527Z</td>\n",
              "      <td>2019-12-03T16:54:14.621Z</td>\n",
              "      <td>2019-12-03T18:31:47.527Z</td>\n",
              "      <td>5853.00</td>\n",
              "      <td>SM-A520F</td>\n",
              "      <td>samsung</td>\n",
              "      <td>11.00</td>\n",
              "      <td>1.00</td>\n",
              "      <td>1.00</td>\n",
              "      <td>1.00</td>\n",
              "      <td>3.00</td>\n",
              "      <td>1.00</td>\n",
              "      <td>1.00</td>\n",
              "      <td>Taxa na faixa</td>\n",
              "      <td>NaN</td>\n",
              "    </tr>\n",
              "    <tr>\n",
              "      <th>4</th>\n",
              "      <td>9c944018e8b8cd2ac2fec6edf1f46c3c452c4e70c46e39...</td>\n",
              "      <td>96081494-8554-4c3f-92b6-94e2070d1660</td>\n",
              "      <td>2019-12-20_e953c804-ecd2-3f00-8465-0ba2d8ce5aa1</td>\n",
              "      <td>ANDROID</td>\n",
              "      <td>9c944018e8b8cd2ac2fec6edf1f46c3c452c4e70c46e39...</td>\n",
              "      <td>ba8596c4-9fbf-4f67-9e2a-dbb65f4b7c40</td>\n",
              "      <td>2019-12-20T20:28:22.584Z</td>\n",
              "      <td>2019-12-20T20:54:25.376Z</td>\n",
              "      <td>2019-12-20T23:28:22.584Z</td>\n",
              "      <td>2019-12-20T23:54:25.376Z</td>\n",
              "      <td>1563.00</td>\n",
              "      <td>SM-J710MN</td>\n",
              "      <td>samsung</td>\n",
              "      <td>4.00</td>\n",
              "      <td>4.00</td>\n",
              "      <td>9.00</td>\n",
              "      <td>2.00</td>\n",
              "      <td>2.00</td>\n",
              "      <td>1.00</td>\n",
              "      <td>1.00</td>\n",
              "      <td>CRM Restaurant</td>\n",
              "      <td>NaN</td>\n",
              "    </tr>\n",
              "  </tbody>\n",
              "</table>\n",
              "</div>"
            ],
            "text/plain": [
              "                                           unique_id  ... media_network\n",
              "0  ffa840ebe8b397e995245525ec98f0b31a882c4d3e47dc...  ...           NaN\n",
              "1  a59ea42fbbaf0fa9a48b65f45842d9d061d23775ad2af6...  ...           NaN\n",
              "2  e7dcbc11f83b22ea57ec8b385b9fa38d48532b180e3d19...  ...           NaN\n",
              "3  2959b13e1caef84fa6cde74693ba2476f17eaa72b66dad...  ...           NaN\n",
              "4  9c944018e8b8cd2ac2fec6edf1f46c3c452c4e70c46e39...  ...           NaN\n",
              "\n",
              "[5 rows x 22 columns]"
            ]
          },
          "execution_count": 257,
          "metadata": {},
          "output_type": "execute_result"
        }
      ],
      "source": [
        "df_session_visits['user_identifier'].fillna('', inplace=True)\n",
        "df_aux = df_session_visits['user_identifier'] + df_session_visits['session_id']\n",
        "df_session_visits.insert(0, 'unique_id', df_aux)\n",
        "df_session_visits.head(5)\n",
        "#Concatenacao das variaveis\n",
        "#Coluna criada na posição 0."
      ]
    },
    {
      "cell_type": "code",
      "execution_count": null,
      "metadata": {
        "colab": {
          "base_uri": "https://localhost:8080/",
          "height": 1000
        },
        "id": "eo4JHBc-BKeA",
        "outputId": "d6ff3c5c-5479-458e-b7f4-49bc3a3ebf00"
      },
      "outputs": [
        {
          "data": {
            "text/html": [
              "<div>\n",
              "<style scoped>\n",
              "    .dataframe tbody tr th:only-of-type {\n",
              "        vertical-align: middle;\n",
              "    }\n",
              "\n",
              "    .dataframe tbody tr th {\n",
              "        vertical-align: top;\n",
              "    }\n",
              "\n",
              "    .dataframe thead th {\n",
              "        text-align: right;\n",
              "    }\n",
              "</style>\n",
              "<table border=\"1\" class=\"dataframe\">\n",
              "  <thead>\n",
              "    <tr style=\"text-align: right;\">\n",
              "      <th></th>\n",
              "      <th>unique_id</th>\n",
              "      <th>session_id</th>\n",
              "      <th>dau</th>\n",
              "      <th>platform</th>\n",
              "      <th>user_identifier</th>\n",
              "      <th>user_account_uuid</th>\n",
              "      <th>session_started_at_amsp</th>\n",
              "      <th>session_ended_at_amsp</th>\n",
              "      <th>session_started_at_utc0</th>\n",
              "      <th>session_ended_at_utc0</th>\n",
              "      <th>session_duration_seconds</th>\n",
              "      <th>device_model</th>\n",
              "      <th>device_manufacturer</th>\n",
              "      <th>sum_event_open</th>\n",
              "      <th>sum_view_restaurant_screen</th>\n",
              "      <th>sum_view_dish_screen</th>\n",
              "      <th>sum_click_add_item</th>\n",
              "      <th>sum_view_checkout</th>\n",
              "      <th>sum_callback_purchase</th>\n",
              "      <th>order_session_quantity</th>\n",
              "      <th>first_order_origin_feature</th>\n",
              "      <th>media_network</th>\n",
              "      <th>tempo_sessao</th>\n",
              "    </tr>\n",
              "  </thead>\n",
              "  <tbody>\n",
              "    <tr>\n",
              "      <th>0</th>\n",
              "      <td>ffa840ebe8b397e995245525ec98f0b31a882c4d3e47dc...</td>\n",
              "      <td>41162808-5335-4e4f-aa52-45754ec1d558</td>\n",
              "      <td>2019-11-04_661ead80-50a2-48b4-ae78-f872e2f08c11</td>\n",
              "      <td>IOS</td>\n",
              "      <td>ffa840ebe8b397e995245525ec98f0b31a882c4d3e47dc...</td>\n",
              "      <td>ca438b60-3d04-44c0-9883-c4f01fc512ad</td>\n",
              "      <td>2019-11-04T09:14:47.566Z</td>\n",
              "      <td>2019-11-04T09:15:50.323Z</td>\n",
              "      <td>2019-11-04 11:14:47.566000+00:00</td>\n",
              "      <td>2019-11-04 11:15:50.323000+00:00</td>\n",
              "      <td>63.00</td>\n",
              "      <td>iPhone9,3</td>\n",
              "      <td>Apple</td>\n",
              "      <td>1.00</td>\n",
              "      <td>nan</td>\n",
              "      <td>1.00</td>\n",
              "      <td>1.00</td>\n",
              "      <td>1.00</td>\n",
              "      <td>1.00</td>\n",
              "      <td>1.00</td>\n",
              "      <td>Loop</td>\n",
              "      <td>NaN</td>\n",
              "      <td>0 days 00:01:02.757000</td>\n",
              "    </tr>\n",
              "    <tr>\n",
              "      <th>1</th>\n",
              "      <td>a59ea42fbbaf0fa9a48b65f45842d9d061d23775ad2af6...</td>\n",
              "      <td>52f0a543-fcc7-4ff0-bed1-41bec8a51374</td>\n",
              "      <td>2019-12-07_17ae6c54-37e1-42e3-b82b-e562aaeb7730</td>\n",
              "      <td>IOS</td>\n",
              "      <td>a59ea42fbbaf0fa9a48b65f45842d9d061d23775ad2af6...</td>\n",
              "      <td>414f1e51-e872-42ca-ad5e-c30b085bd5e4</td>\n",
              "      <td>2019-12-07T13:28:37.764Z</td>\n",
              "      <td>2019-12-07T15:04:00.819Z</td>\n",
              "      <td>2019-12-07 15:28:37.764000+00:00</td>\n",
              "      <td>2019-12-07 17:04:00.819000+00:00</td>\n",
              "      <td>5723.00</td>\n",
              "      <td>iPhone9,3</td>\n",
              "      <td>Apple</td>\n",
              "      <td>17.00</td>\n",
              "      <td>12.00</td>\n",
              "      <td>3.00</td>\n",
              "      <td>1.00</td>\n",
              "      <td>2.00</td>\n",
              "      <td>1.00</td>\n",
              "      <td>1.00</td>\n",
              "      <td>Last Restaurants</td>\n",
              "      <td>NaN</td>\n",
              "      <td>0 days 01:35:23.055000</td>\n",
              "    </tr>\n",
              "    <tr>\n",
              "      <th>2</th>\n",
              "      <td>e7dcbc11f83b22ea57ec8b385b9fa38d48532b180e3d19...</td>\n",
              "      <td>f06f2a6d-14cc-44e3-8ec6-66191659430b</td>\n",
              "      <td>2019-12-29_d8a7f51d-4394-3c9a-ae62-8522f5885d3f</td>\n",
              "      <td>ANDROID</td>\n",
              "      <td>e7dcbc11f83b22ea57ec8b385b9fa38d48532b180e3d19...</td>\n",
              "      <td>5c697207-d8a4-460e-b171-3e94e42be5ab</td>\n",
              "      <td>2019-12-29T19:58:38.297Z</td>\n",
              "      <td>2019-12-29T20:17:45.199Z</td>\n",
              "      <td>2019-12-29 22:58:38.297000+00:00</td>\n",
              "      <td>2019-12-29 23:17:45.199000+00:00</td>\n",
              "      <td>1147.00</td>\n",
              "      <td>Redmi Note 8</td>\n",
              "      <td>Xiaomi</td>\n",
              "      <td>2.00</td>\n",
              "      <td>4.00</td>\n",
              "      <td>7.00</td>\n",
              "      <td>7.00</td>\n",
              "      <td>5.00</td>\n",
              "      <td>1.00</td>\n",
              "      <td>1.00</td>\n",
              "      <td>Ranking</td>\n",
              "      <td>NaN</td>\n",
              "      <td>0 days 00:19:06.902000</td>\n",
              "    </tr>\n",
              "    <tr>\n",
              "      <th>3</th>\n",
              "      <td>2959b13e1caef84fa6cde74693ba2476f17eaa72b66dad...</td>\n",
              "      <td>716d0044-0d76-4199-86ca-62930a751d59</td>\n",
              "      <td>2019-12-03_9675dcd9-9dd5-3ec3-809e-9006b4fac160</td>\n",
              "      <td>ANDROID</td>\n",
              "      <td>2959b13e1caef84fa6cde74693ba2476f17eaa72b66dad...</td>\n",
              "      <td>615b2fb5-e76d-4fa7-b982-9564650c76c5</td>\n",
              "      <td>2019-12-03T14:54:14.621Z</td>\n",
              "      <td>2019-12-03T16:31:47.527Z</td>\n",
              "      <td>2019-12-03 16:54:14.621000+00:00</td>\n",
              "      <td>2019-12-03 18:31:47.527000+00:00</td>\n",
              "      <td>5853.00</td>\n",
              "      <td>SM-A520F</td>\n",
              "      <td>samsung</td>\n",
              "      <td>11.00</td>\n",
              "      <td>1.00</td>\n",
              "      <td>1.00</td>\n",
              "      <td>1.00</td>\n",
              "      <td>3.00</td>\n",
              "      <td>1.00</td>\n",
              "      <td>1.00</td>\n",
              "      <td>Taxa na faixa</td>\n",
              "      <td>NaN</td>\n",
              "      <td>0 days 01:37:32.906000</td>\n",
              "    </tr>\n",
              "    <tr>\n",
              "      <th>4</th>\n",
              "      <td>9c944018e8b8cd2ac2fec6edf1f46c3c452c4e70c46e39...</td>\n",
              "      <td>96081494-8554-4c3f-92b6-94e2070d1660</td>\n",
              "      <td>2019-12-20_e953c804-ecd2-3f00-8465-0ba2d8ce5aa1</td>\n",
              "      <td>ANDROID</td>\n",
              "      <td>9c944018e8b8cd2ac2fec6edf1f46c3c452c4e70c46e39...</td>\n",
              "      <td>ba8596c4-9fbf-4f67-9e2a-dbb65f4b7c40</td>\n",
              "      <td>2019-12-20T20:28:22.584Z</td>\n",
              "      <td>2019-12-20T20:54:25.376Z</td>\n",
              "      <td>2019-12-20 23:28:22.584000+00:00</td>\n",
              "      <td>2019-12-20 23:54:25.376000+00:00</td>\n",
              "      <td>1563.00</td>\n",
              "      <td>SM-J710MN</td>\n",
              "      <td>samsung</td>\n",
              "      <td>4.00</td>\n",
              "      <td>4.00</td>\n",
              "      <td>9.00</td>\n",
              "      <td>2.00</td>\n",
              "      <td>2.00</td>\n",
              "      <td>1.00</td>\n",
              "      <td>1.00</td>\n",
              "      <td>CRM Restaurant</td>\n",
              "      <td>NaN</td>\n",
              "      <td>0 days 00:26:02.792000</td>\n",
              "    </tr>\n",
              "    <tr>\n",
              "      <th>...</th>\n",
              "      <td>...</td>\n",
              "      <td>...</td>\n",
              "      <td>...</td>\n",
              "      <td>...</td>\n",
              "      <td>...</td>\n",
              "      <td>...</td>\n",
              "      <td>...</td>\n",
              "      <td>...</td>\n",
              "      <td>...</td>\n",
              "      <td>...</td>\n",
              "      <td>...</td>\n",
              "      <td>...</td>\n",
              "      <td>...</td>\n",
              "      <td>...</td>\n",
              "      <td>...</td>\n",
              "      <td>...</td>\n",
              "      <td>...</td>\n",
              "      <td>...</td>\n",
              "      <td>...</td>\n",
              "      <td>...</td>\n",
              "      <td>...</td>\n",
              "      <td>...</td>\n",
              "      <td>...</td>\n",
              "    </tr>\n",
              "    <tr>\n",
              "      <th>463615</th>\n",
              "      <td>0c3195c85a1ece02cc06ef30d09beb2a69109a39457f16...</td>\n",
              "      <td>5099516b-0b36-499d-83ff-3cd5ada72001</td>\n",
              "      <td>2019-12-13_85f8a4fc-8078-4b7b-93b7-232bbfb3e98e</td>\n",
              "      <td>IOS</td>\n",
              "      <td>0c3195c85a1ece02cc06ef30d09beb2a69109a39457f16...</td>\n",
              "      <td>d1848636-2218-4c00-8f41-30e413192fa8</td>\n",
              "      <td>2019-12-13T21:58:41.913Z</td>\n",
              "      <td>2019-12-13T22:19:24.419Z</td>\n",
              "      <td>2019-12-14 00:58:41.913000+00:00</td>\n",
              "      <td>2019-12-14 01:19:24.419000+00:00</td>\n",
              "      <td>1243.00</td>\n",
              "      <td>iPhone10,4</td>\n",
              "      <td>Apple</td>\n",
              "      <td>3.00</td>\n",
              "      <td>7.00</td>\n",
              "      <td>3.00</td>\n",
              "      <td>2.00</td>\n",
              "      <td>1.00</td>\n",
              "      <td>1.00</td>\n",
              "      <td>1.00</td>\n",
              "      <td>Ranking</td>\n",
              "      <td>NaN</td>\n",
              "      <td>0 days 00:20:42.506000</td>\n",
              "    </tr>\n",
              "    <tr>\n",
              "      <th>463616</th>\n",
              "      <td>895a07fa1934c03bef7bc4238109bf484f615838b7b336...</td>\n",
              "      <td>66f47559-3b0c-4cf0-88bc-0a296ca4443c</td>\n",
              "      <td>2019-09-01_c233d0de-4ed6-4aba-86fd-3bcd0bb98c19</td>\n",
              "      <td>ANDROID</td>\n",
              "      <td>895a07fa1934c03bef7bc4238109bf484f615838b7b336...</td>\n",
              "      <td>2142539e-34f6-4e1a-b14b-40f8cd6e656e</td>\n",
              "      <td>2019-09-01T13:33:10.010Z</td>\n",
              "      <td>2019-09-01T13:33:50.050Z</td>\n",
              "      <td>2019-09-01 16:33:10.010000+00:00</td>\n",
              "      <td>2019-09-01 16:33:50.050000+00:00</td>\n",
              "      <td>40.00</td>\n",
              "      <td>moto g(7) play</td>\n",
              "      <td>motorola</td>\n",
              "      <td>1.00</td>\n",
              "      <td>1.00</td>\n",
              "      <td>2.00</td>\n",
              "      <td>2.00</td>\n",
              "      <td>1.00</td>\n",
              "      <td>1.00</td>\n",
              "      <td>1.00</td>\n",
              "      <td>Featured Restaurant</td>\n",
              "      <td>NaN</td>\n",
              "      <td>0 days 00:00:40.040000</td>\n",
              "    </tr>\n",
              "    <tr>\n",
              "      <th>463617</th>\n",
              "      <td>acfd0466-3dc3-48e3-8b8a-b272e23d9151</td>\n",
              "      <td>acfd0466-3dc3-48e3-8b8a-b272e23d9151</td>\n",
              "      <td>2019-07-11_7056333d-fd05-4e03-8cdd-ac235e2f6917</td>\n",
              "      <td>IOS</td>\n",
              "      <td></td>\n",
              "      <td>NaN</td>\n",
              "      <td>2019-07-11T18:53:45.979Z</td>\n",
              "      <td>2019-07-11T19:05:36.515Z</td>\n",
              "      <td>2019-07-11 21:53:45.979000+00:00</td>\n",
              "      <td>2019-07-11 22:05:36.515000+00:00</td>\n",
              "      <td>711.00</td>\n",
              "      <td>iPhone9,4</td>\n",
              "      <td>Apple</td>\n",
              "      <td>3.00</td>\n",
              "      <td>13.00</td>\n",
              "      <td>3.00</td>\n",
              "      <td>2.00</td>\n",
              "      <td>1.00</td>\n",
              "      <td>1.00</td>\n",
              "      <td>1.00</td>\n",
              "      <td>Taxa Na Faixa</td>\n",
              "      <td>NaN</td>\n",
              "      <td>0 days 00:11:50.536000</td>\n",
              "    </tr>\n",
              "    <tr>\n",
              "      <th>463618</th>\n",
              "      <td>0aba2c10-4c64-4a10-b418-84ea60c8b51ad2b665b3-1...</td>\n",
              "      <td>d2b665b3-1533-406c-89ef-d509c6dc413c</td>\n",
              "      <td>2019-06-08_2191addb-5405-4f1f-8f5b-46ff4286acb1</td>\n",
              "      <td>ANDROID</td>\n",
              "      <td>0aba2c10-4c64-4a10-b418-84ea60c8b51a</td>\n",
              "      <td>0aba2c10-4c64-4a10-b418-84ea60c8b51a</td>\n",
              "      <td>2019-06-08T18:03:07.007Z</td>\n",
              "      <td>2019-06-08T18:57:16.016Z</td>\n",
              "      <td>2019-06-08 21:03:07.007000+00:00</td>\n",
              "      <td>2019-06-08 21:57:16.016000+00:00</td>\n",
              "      <td>3249.00</td>\n",
              "      <td>XT1635-02</td>\n",
              "      <td>motorola</td>\n",
              "      <td>16.00</td>\n",
              "      <td>14.00</td>\n",
              "      <td>6.00</td>\n",
              "      <td>1.00</td>\n",
              "      <td>2.00</td>\n",
              "      <td>1.00</td>\n",
              "      <td>1.00</td>\n",
              "      <td>Brasileira</td>\n",
              "      <td>NaN</td>\n",
              "      <td>0 days 00:54:09.009000</td>\n",
              "    </tr>\n",
              "    <tr>\n",
              "      <th>463619</th>\n",
              "      <td>47c05ebd-4e66-4a96-93eb-de51216f4e024e50876d-b...</td>\n",
              "      <td>4e50876d-b1fa-41db-b054-95035614afd3</td>\n",
              "      <td>2019-07-24_38a7c2a4-491c-40c9-8da4-0e85a034cca9</td>\n",
              "      <td>ANDROID</td>\n",
              "      <td>47c05ebd-4e66-4a96-93eb-de51216f4e02</td>\n",
              "      <td>47c05ebd-4e66-4a96-93eb-de51216f4e02</td>\n",
              "      <td>2019-07-24T20:12:41.041Z</td>\n",
              "      <td>2019-07-24T21:27:27.027Z</td>\n",
              "      <td>2019-07-24 23:12:41.041000+00:00</td>\n",
              "      <td>2019-07-25 00:27:27.027000+00:00</td>\n",
              "      <td>4486.00</td>\n",
              "      <td>XT1069</td>\n",
              "      <td>motorola</td>\n",
              "      <td>10.00</td>\n",
              "      <td>7.00</td>\n",
              "      <td>3.00</td>\n",
              "      <td>1.00</td>\n",
              "      <td>2.00</td>\n",
              "      <td>1.00</td>\n",
              "      <td>1.00</td>\n",
              "      <td>Ranking</td>\n",
              "      <td>NaN</td>\n",
              "      <td>0 days 01:14:45.986000</td>\n",
              "    </tr>\n",
              "  </tbody>\n",
              "</table>\n",
              "<p>463620 rows × 23 columns</p>\n",
              "</div>"
            ],
            "text/plain": [
              "                                                unique_id  ...           tempo_sessao\n",
              "0       ffa840ebe8b397e995245525ec98f0b31a882c4d3e47dc...  ... 0 days 00:01:02.757000\n",
              "1       a59ea42fbbaf0fa9a48b65f45842d9d061d23775ad2af6...  ... 0 days 01:35:23.055000\n",
              "2       e7dcbc11f83b22ea57ec8b385b9fa38d48532b180e3d19...  ... 0 days 00:19:06.902000\n",
              "3       2959b13e1caef84fa6cde74693ba2476f17eaa72b66dad...  ... 0 days 01:37:32.906000\n",
              "4       9c944018e8b8cd2ac2fec6edf1f46c3c452c4e70c46e39...  ... 0 days 00:26:02.792000\n",
              "...                                                   ...  ...                    ...\n",
              "463615  0c3195c85a1ece02cc06ef30d09beb2a69109a39457f16...  ... 0 days 00:20:42.506000\n",
              "463616  895a07fa1934c03bef7bc4238109bf484f615838b7b336...  ... 0 days 00:00:40.040000\n",
              "463617               acfd0466-3dc3-48e3-8b8a-b272e23d9151  ... 0 days 00:11:50.536000\n",
              "463618  0aba2c10-4c64-4a10-b418-84ea60c8b51ad2b665b3-1...  ... 0 days 00:54:09.009000\n",
              "463619  47c05ebd-4e66-4a96-93eb-de51216f4e024e50876d-b...  ... 0 days 01:14:45.986000\n",
              "\n",
              "[463620 rows x 23 columns]"
            ]
          },
          "execution_count": 258,
          "metadata": {},
          "output_type": "execute_result"
        }
      ],
      "source": [
        "df_session_visits.session_started_at_utc0 = pd.to_datetime(df_session_visits.session_started_at_utc0)\n",
        "df_session_visits.session_ended_at_utc0 = pd.to_datetime(df_session_visits.session_ended_at_utc0)\n",
        "df_session_visits['tempo_sessao'] = df_session_visits.session_ended_at_utc0 - df_session_visits.session_started_at_utc0\n",
        "df_session_visits\n",
        "#Criando varial tempo_sessao"
      ]
    },
    {
      "cell_type": "markdown",
      "metadata": {
        "id": "3vc5sDwA3Zud"
      },
      "source": [
        ""
      ]
    },
    {
      "cell_type": "code",
      "execution_count": null,
      "metadata": {
        "id": "83H3Dq2R1Cj1"
      },
      "outputs": [],
      "source": [
        "def recuperar_n_mais_usuarios_ativos(df_session, n_mais_usuarios=10):\n",
        "    return(df_session.sort_values('tempo_sessao', ascending=False).head(n_mais_usuarios))"
      ]
    },
    {
      "cell_type": "code",
      "execution_count": null,
      "metadata": {
        "colab": {
          "base_uri": "https://localhost:8080/",
          "height": 69
        },
        "id": "vUmsgZhx1Cj2",
        "outputId": "1a6426cb-59c9-4a43-8145-18704148bfdc"
      },
      "outputs": [
        {
          "data": {
            "text/html": [
              "<div>\n",
              "<style scoped>\n",
              "    .dataframe tbody tr th:only-of-type {\n",
              "        vertical-align: middle;\n",
              "    }\n",
              "\n",
              "    .dataframe tbody tr th {\n",
              "        vertical-align: top;\n",
              "    }\n",
              "\n",
              "    .dataframe thead th {\n",
              "        text-align: right;\n",
              "    }\n",
              "</style>\n",
              "<table border=\"1\" class=\"dataframe\">\n",
              "  <thead>\n",
              "    <tr style=\"text-align: right;\">\n",
              "      <th></th>\n",
              "      <th>unique_id</th>\n",
              "      <th>session_id</th>\n",
              "      <th>dau</th>\n",
              "      <th>platform</th>\n",
              "      <th>user_identifier</th>\n",
              "      <th>user_account_uuid</th>\n",
              "      <th>session_started_at_amsp</th>\n",
              "      <th>session_ended_at_amsp</th>\n",
              "      <th>session_started_at_utc0</th>\n",
              "      <th>session_ended_at_utc0</th>\n",
              "      <th>session_duration_seconds</th>\n",
              "      <th>device_model</th>\n",
              "      <th>device_manufacturer</th>\n",
              "      <th>sum_event_open</th>\n",
              "      <th>sum_view_restaurant_screen</th>\n",
              "      <th>sum_view_dish_screen</th>\n",
              "      <th>sum_click_add_item</th>\n",
              "      <th>sum_view_checkout</th>\n",
              "      <th>sum_callback_purchase</th>\n",
              "      <th>order_session_quantity</th>\n",
              "      <th>first_order_origin_feature</th>\n",
              "      <th>media_network</th>\n",
              "      <th>tempo_sessao</th>\n",
              "    </tr>\n",
              "  </thead>\n",
              "  <tbody>\n",
              "  </tbody>\n",
              "</table>\n",
              "</div>"
            ],
            "text/plain": [
              "Empty DataFrame\n",
              "Columns: [unique_id, session_id, dau, platform, user_identifier, user_account_uuid, session_started_at_amsp, session_ended_at_amsp, session_started_at_utc0, session_ended_at_utc0, session_duration_seconds, device_model, device_manufacturer, sum_event_open, sum_view_restaurant_screen, sum_view_dish_screen, sum_click_add_item, sum_view_checkout, sum_callback_purchase, order_session_quantity, first_order_origin_feature, media_network, tempo_sessao]\n",
              "Index: []"
            ]
          },
          "execution_count": 260,
          "metadata": {},
          "output_type": "execute_result"
        }
      ],
      "source": [
        "# Teste com o seguinte comando:\n",
        "recuperar_n_mais_usuarios_ativos(df_session=df_session_visits, n_mais_usuarios=0)"
      ]
    },
    {
      "cell_type": "code",
      "execution_count": null,
      "metadata": {
        "colab": {
          "base_uri": "https://localhost:8080/",
          "height": 366
        },
        "id": "M1hm5FzD1Cj5",
        "outputId": "488b9093-9b54-4017-c98f-4aaefde4e4ff"
      },
      "outputs": [
        {
          "data": {
            "text/html": [
              "<div>\n",
              "<style scoped>\n",
              "    .dataframe tbody tr th:only-of-type {\n",
              "        vertical-align: middle;\n",
              "    }\n",
              "\n",
              "    .dataframe tbody tr th {\n",
              "        vertical-align: top;\n",
              "    }\n",
              "\n",
              "    .dataframe thead th {\n",
              "        text-align: right;\n",
              "    }\n",
              "</style>\n",
              "<table border=\"1\" class=\"dataframe\">\n",
              "  <thead>\n",
              "    <tr style=\"text-align: right;\">\n",
              "      <th></th>\n",
              "      <th>unique_id</th>\n",
              "      <th>session_id</th>\n",
              "      <th>dau</th>\n",
              "      <th>platform</th>\n",
              "      <th>user_identifier</th>\n",
              "      <th>user_account_uuid</th>\n",
              "      <th>session_started_at_amsp</th>\n",
              "      <th>session_ended_at_amsp</th>\n",
              "      <th>session_started_at_utc0</th>\n",
              "      <th>session_ended_at_utc0</th>\n",
              "      <th>session_duration_seconds</th>\n",
              "      <th>device_model</th>\n",
              "      <th>device_manufacturer</th>\n",
              "      <th>sum_event_open</th>\n",
              "      <th>sum_view_restaurant_screen</th>\n",
              "      <th>sum_view_dish_screen</th>\n",
              "      <th>sum_click_add_item</th>\n",
              "      <th>sum_view_checkout</th>\n",
              "      <th>sum_callback_purchase</th>\n",
              "      <th>order_session_quantity</th>\n",
              "      <th>first_order_origin_feature</th>\n",
              "      <th>media_network</th>\n",
              "      <th>tempo_sessao</th>\n",
              "    </tr>\n",
              "  </thead>\n",
              "  <tbody>\n",
              "    <tr>\n",
              "      <th>351470</th>\n",
              "      <td>503d295dbeef80d0169bc59bd4ea87f9f9a7689b9cb4b3...</td>\n",
              "      <td>3b42a14d-b19b-40fe-9b0b-e0dbc4689197</td>\n",
              "      <td>2019-10-17_9f643ee2-35b0-3d16-a71c-c403417f77b2</td>\n",
              "      <td>ANDROID</td>\n",
              "      <td>503d295dbeef80d0169bc59bd4ea87f9f9a7689b9cb4b3...</td>\n",
              "      <td>f9bc0483-155a-4ebf-83f1-fe6271e80517</td>\n",
              "      <td>2019-10-17T15:09:21.865Z</td>\n",
              "      <td>2019-11-16T11:38:32.402Z</td>\n",
              "      <td>2019-10-17 18:09:21.865000+00:00</td>\n",
              "      <td>2019-11-16 13:38:32.402000+00:00</td>\n",
              "      <td>2575751.00</td>\n",
              "      <td>Moto G (5S) Plus</td>\n",
              "      <td>motorola</td>\n",
              "      <td>1.00</td>\n",
              "      <td>3.00</td>\n",
              "      <td>2.00</td>\n",
              "      <td>1.00</td>\n",
              "      <td>1.00</td>\n",
              "      <td>1.00</td>\n",
              "      <td>1.00</td>\n",
              "      <td>Ranking</td>\n",
              "      <td>googleadwords_int</td>\n",
              "      <td>29 days 19:29:10.537000</td>\n",
              "    </tr>\n",
              "    <tr>\n",
              "      <th>350512</th>\n",
              "      <td>de14cef1f693ed124d1ac58b38a88ebe835b7dd1752cf2...</td>\n",
              "      <td>2d10f2ac-7883-42aa-8d30-d9c4c548cdca</td>\n",
              "      <td>2019-09-01_2305c8c3-3784-386f-8960-6a129ca1716d</td>\n",
              "      <td>ANDROID</td>\n",
              "      <td>de14cef1f693ed124d1ac58b38a88ebe835b7dd1752cf2...</td>\n",
              "      <td>2018114a-d02d-48ca-97b4-5a2ab286f9dd</td>\n",
              "      <td>2019-09-01T00:17:12.012Z</td>\n",
              "      <td>2019-09-28T23:44:19.234Z</td>\n",
              "      <td>2019-09-01 03:17:12.012000+00:00</td>\n",
              "      <td>2019-09-29 02:44:19.234000+00:00</td>\n",
              "      <td>2417227.00</td>\n",
              "      <td>Redmi 7</td>\n",
              "      <td>Xiaomi</td>\n",
              "      <td>13.00</td>\n",
              "      <td>2.00</td>\n",
              "      <td>2.00</td>\n",
              "      <td>2.00</td>\n",
              "      <td>10.00</td>\n",
              "      <td>4.00</td>\n",
              "      <td>1.00</td>\n",
              "      <td>super categories bebidas</td>\n",
              "      <td>Facebook Ads</td>\n",
              "      <td>27 days 23:27:07.222000</td>\n",
              "    </tr>\n",
              "    <tr>\n",
              "      <th>137922</th>\n",
              "      <td>741e8ab0-47ab-49e0-b00a-135d80d6614f176e1dd5-d...</td>\n",
              "      <td>176e1dd5-d9a1-4508-a7a3-b95cbaa6eeeb</td>\n",
              "      <td>2019-06-01_f395407f-0eda-4fa6-b8bc-b5510dab53d3</td>\n",
              "      <td>IOS</td>\n",
              "      <td>741e8ab0-47ab-49e0-b00a-135d80d6614f</td>\n",
              "      <td>741e8ab0-47ab-49e0-b00a-135d80d6614f</td>\n",
              "      <td>2019-06-01T18:41:12.152Z</td>\n",
              "      <td>2019-06-29T17:33:05.611Z</td>\n",
              "      <td>2019-06-01 21:41:12.152000+00:00</td>\n",
              "      <td>2019-06-29 20:33:05.611000+00:00</td>\n",
              "      <td>2415113.00</td>\n",
              "      <td>iPhone9,4</td>\n",
              "      <td>Apple</td>\n",
              "      <td>6.00</td>\n",
              "      <td>1.00</td>\n",
              "      <td>3.00</td>\n",
              "      <td>1.00</td>\n",
              "      <td>1.00</td>\n",
              "      <td>1.00</td>\n",
              "      <td>1.00</td>\n",
              "      <td>Featured Restaurant</td>\n",
              "      <td>googleadwords_int</td>\n",
              "      <td>27 days 22:51:53.459000</td>\n",
              "    </tr>\n",
              "  </tbody>\n",
              "</table>\n",
              "</div>"
            ],
            "text/plain": [
              "                                                unique_id  ...            tempo_sessao\n",
              "351470  503d295dbeef80d0169bc59bd4ea87f9f9a7689b9cb4b3...  ... 29 days 19:29:10.537000\n",
              "350512  de14cef1f693ed124d1ac58b38a88ebe835b7dd1752cf2...  ... 27 days 23:27:07.222000\n",
              "137922  741e8ab0-47ab-49e0-b00a-135d80d6614f176e1dd5-d...  ... 27 days 22:51:53.459000\n",
              "\n",
              "[3 rows x 23 columns]"
            ]
          },
          "execution_count": 261,
          "metadata": {},
          "output_type": "execute_result"
        }
      ],
      "source": [
        "# Teste com o seguinte comando:\n",
        "recuperar_n_mais_usuarios_ativos(df_session=df_session_visits, n_mais_usuarios=3)"
      ]
    },
    {
      "cell_type": "code",
      "execution_count": null,
      "metadata": {
        "colab": {
          "base_uri": "https://localhost:8080/",
          "height": 267
        },
        "id": "DFdLHKuy1Cj6",
        "outputId": "3cba0a49-116e-4e58-f06f-aea2e3dff63e"
      },
      "outputs": [
        {
          "data": {
            "text/html": [
              "<div>\n",
              "<style scoped>\n",
              "    .dataframe tbody tr th:only-of-type {\n",
              "        vertical-align: middle;\n",
              "    }\n",
              "\n",
              "    .dataframe tbody tr th {\n",
              "        vertical-align: top;\n",
              "    }\n",
              "\n",
              "    .dataframe thead th {\n",
              "        text-align: right;\n",
              "    }\n",
              "</style>\n",
              "<table border=\"1\" class=\"dataframe\">\n",
              "  <thead>\n",
              "    <tr style=\"text-align: right;\">\n",
              "      <th></th>\n",
              "      <th>unique_id</th>\n",
              "      <th>session_id</th>\n",
              "      <th>dau</th>\n",
              "      <th>platform</th>\n",
              "      <th>user_identifier</th>\n",
              "      <th>user_account_uuid</th>\n",
              "      <th>session_started_at_amsp</th>\n",
              "      <th>session_ended_at_amsp</th>\n",
              "      <th>session_started_at_utc0</th>\n",
              "      <th>session_ended_at_utc0</th>\n",
              "      <th>session_duration_seconds</th>\n",
              "      <th>device_model</th>\n",
              "      <th>device_manufacturer</th>\n",
              "      <th>sum_event_open</th>\n",
              "      <th>sum_view_restaurant_screen</th>\n",
              "      <th>sum_view_dish_screen</th>\n",
              "      <th>sum_click_add_item</th>\n",
              "      <th>sum_view_checkout</th>\n",
              "      <th>sum_callback_purchase</th>\n",
              "      <th>order_session_quantity</th>\n",
              "      <th>first_order_origin_feature</th>\n",
              "      <th>media_network</th>\n",
              "      <th>tempo_sessao</th>\n",
              "    </tr>\n",
              "  </thead>\n",
              "  <tbody>\n",
              "    <tr>\n",
              "      <th>351470</th>\n",
              "      <td>503d295dbeef80d0169bc59bd4ea87f9f9a7689b9cb4b3...</td>\n",
              "      <td>3b42a14d-b19b-40fe-9b0b-e0dbc4689197</td>\n",
              "      <td>2019-10-17_9f643ee2-35b0-3d16-a71c-c403417f77b2</td>\n",
              "      <td>ANDROID</td>\n",
              "      <td>503d295dbeef80d0169bc59bd4ea87f9f9a7689b9cb4b3...</td>\n",
              "      <td>f9bc0483-155a-4ebf-83f1-fe6271e80517</td>\n",
              "      <td>2019-10-17T15:09:21.865Z</td>\n",
              "      <td>2019-11-16T11:38:32.402Z</td>\n",
              "      <td>2019-10-17 18:09:21.865000+00:00</td>\n",
              "      <td>2019-11-16 13:38:32.402000+00:00</td>\n",
              "      <td>2575751.00</td>\n",
              "      <td>Moto G (5S) Plus</td>\n",
              "      <td>motorola</td>\n",
              "      <td>1.00</td>\n",
              "      <td>3.00</td>\n",
              "      <td>2.00</td>\n",
              "      <td>1.00</td>\n",
              "      <td>1.00</td>\n",
              "      <td>1.00</td>\n",
              "      <td>1.00</td>\n",
              "      <td>Ranking</td>\n",
              "      <td>googleadwords_int</td>\n",
              "      <td>29 days 19:29:10.537000</td>\n",
              "    </tr>\n",
              "    <tr>\n",
              "      <th>350512</th>\n",
              "      <td>de14cef1f693ed124d1ac58b38a88ebe835b7dd1752cf2...</td>\n",
              "      <td>2d10f2ac-7883-42aa-8d30-d9c4c548cdca</td>\n",
              "      <td>2019-09-01_2305c8c3-3784-386f-8960-6a129ca1716d</td>\n",
              "      <td>ANDROID</td>\n",
              "      <td>de14cef1f693ed124d1ac58b38a88ebe835b7dd1752cf2...</td>\n",
              "      <td>2018114a-d02d-48ca-97b4-5a2ab286f9dd</td>\n",
              "      <td>2019-09-01T00:17:12.012Z</td>\n",
              "      <td>2019-09-28T23:44:19.234Z</td>\n",
              "      <td>2019-09-01 03:17:12.012000+00:00</td>\n",
              "      <td>2019-09-29 02:44:19.234000+00:00</td>\n",
              "      <td>2417227.00</td>\n",
              "      <td>Redmi 7</td>\n",
              "      <td>Xiaomi</td>\n",
              "      <td>13.00</td>\n",
              "      <td>2.00</td>\n",
              "      <td>2.00</td>\n",
              "      <td>2.00</td>\n",
              "      <td>10.00</td>\n",
              "      <td>4.00</td>\n",
              "      <td>1.00</td>\n",
              "      <td>super categories bebidas</td>\n",
              "      <td>Facebook Ads</td>\n",
              "      <td>27 days 23:27:07.222000</td>\n",
              "    </tr>\n",
              "  </tbody>\n",
              "</table>\n",
              "</div>"
            ],
            "text/plain": [
              "                                                unique_id  ...            tempo_sessao\n",
              "351470  503d295dbeef80d0169bc59bd4ea87f9f9a7689b9cb4b3...  ... 29 days 19:29:10.537000\n",
              "350512  de14cef1f693ed124d1ac58b38a88ebe835b7dd1752cf2...  ... 27 days 23:27:07.222000\n",
              "\n",
              "[2 rows x 23 columns]"
            ]
          },
          "execution_count": 262,
          "metadata": {},
          "output_type": "execute_result"
        }
      ],
      "source": [
        "# df_final poderá utilizado no próximo exercício.\n",
        "df_final = recuperar_n_mais_usuarios_ativos(df_session=df_session_visits, n_mais_usuarios=1000)\n",
        "df_final.head(2)"
      ]
    },
    {
      "cell_type": "markdown",
      "metadata": {
        "id": "JZBk0mL-1Cj-"
      },
      "source": [
        "**<span style=\"color:blue\">(5 pontos)</span> `Q13` Utilizando qualquer um dos quatro DataFrames (`df_customer_segmentation`, `df_orders`, `df_session_visits` ou `df_final`), crie os seguintes gráficos:**\n",
        "\n",
        "* Histograma\n",
        "* Gráfico de dispersão\n",
        "* Gráfico de barras\n",
        "* Box-plot\n",
        "\n",
        "Para cada um dos gráficos, faça uma análise da visualização obtida."
      ]
    },
    {
      "cell_type": "markdown",
      "metadata": {
        "id": "4plbH3xq2Bhp"
      },
      "source": [
        "**Histograma**"
      ]
    },
    {
      "cell_type": "code",
      "execution_count": null,
      "metadata": {
        "id": "G_Uw2YSPH0zk"
      },
      "outputs": [],
      "source": [
        "import matplotlib.pyplot as plt"
      ]
    },
    {
      "cell_type": "code",
      "execution_count": null,
      "metadata": {
        "colab": {
          "base_uri": "https://localhost:8080/",
          "height": 295
        },
        "id": "Z-7Dofr01Cj-",
        "outputId": "5275d202-52d2-477a-fe9b-b4d968d0520a"
      },
      "outputs": [
        {
          "data": {
            "text/plain": [
              "<matplotlib.axes._subplots.AxesSubplot at 0x7fa7a5ce0b90>"
            ]
          },
          "execution_count": 264,
          "metadata": {},
          "output_type": "execute_result"
        },
        {
          "data": {
            "image/png": "[encoded data removed]",
            "text/plain": [
              "<Figure size 432x288 with 1 Axes>"
            ]
          },
          "metadata": {},
          "output_type": "display_data"
        }
      ],
      "source": [
        "df_final.session_duration_seconds.plot.hist()"
      ]
    },
    {
      "cell_type": "code",
      "execution_count": null,
      "metadata": {
        "id": "Rk9C1olMKNq0"
      },
      "outputs": [],
      "source": [
        ""
      ]
    },
    {
      "cell_type": "markdown",
      "metadata": {
        "id": "duoM39hG2Hn9"
      },
      "source": [
        "**Gráfico de dispersão**"
      ]
    },
    {
      "cell_type": "code",
      "execution_count": null,
      "metadata": {
        "colab": {
          "background_save": true,
          "base_uri": "https://localhost:8080/"
        },
        "id": "P9u66VeD06Uc",
        "outputId": "ef9b0f77-474a-46f8-c1fa-aef43d5fa125"
      },
      "outputs": [
        {
          "data": {
            "text/plain": [
              "<matplotlib.axes._subplots.AxesSubplot at 0x7fa7a5ce75d0>"
            ]
          },
          "execution_count": null,
          "metadata": {},
          "output_type": "execute_result"
        },
        {
          "data": {
            "image/png": "[encoded data removed]",
            "text/plain": [
              "<Figure size 432x288 with 1 Axes>"
            ]
          },
          "metadata": {},
          "output_type": "display_data"
        }
      ],
      "source": [
        "df_orders.plot(x ='order_lag_at_login', y='distance_merchant_customer', kind='scatter')"
      ]
    },
    {
      "cell_type": "code",
      "execution_count": null,
      "metadata": {
        "colab": {
          "background_save": true
        },
        "id": "wzFxJNhwNgSD"
      },
      "outputs": [],
      "source": [
        "#Podemos notar que a distancia entre o cliente e o restaurante, não afeta na frequencia do pedido ou seja, o frete e o tempo de entrega não afeta os pedidos."
      ]
    },
    {
      "cell_type": "markdown",
      "metadata": {
        "id": "fDDal8x32Kda"
      },
      "source": [
        "**Gráfico de barras**"
      ]
    },
    {
      "cell_type": "code",
      "execution_count": null,
      "metadata": {
        "colab": {
          "background_save": true
        },
        "id": "sE9RgLNz3ZgH",
        "outputId": "19df2141-64d0-40c9-cdf0-c767ff9ce6e0"
      },
      "outputs": [
        {
          "data": {
            "text/plain": [
              "<matplotlib.axes._subplots.AxesSubplot at 0x7fa7a5c67d90>"
            ]
          },
          "execution_count": null,
          "metadata": {},
          "output_type": "execute_result"
        },
        {
          "data": {
            "image/png": "[encoded data removed]",
            "text/plain": [
              "<Figure size 432x288 with 1 Axes>"
            ]
          },
          "metadata": {},
          "output_type": "display_data"
        }
      ],
      "source": [
        "df_final.platform.hist()"
      ]
    },
    {
      "cell_type": "code",
      "execution_count": null,
      "metadata": {
        "colab": {
          "background_save": true
        },
        "id": "HAyxDEhhSdAw"
      },
      "outputs": [],
      "source": [
        "#Notamos que temos quase 2 vezes mais usuarios da plataforma Android do que IOS."
      ]
    },
    {
      "cell_type": "markdown",
      "metadata": {
        "id": "VU2Y1_Xu2N9a"
      },
      "source": [
        "**Box-plot**"
      ]
    },
    {
      "cell_type": "code",
      "execution_count": null,
      "metadata": {
        "colab": {
          "background_save": true
        },
        "id": "RvRuRHyT1rMl",
        "outputId": "f12974ed-2226-448b-fe3c-0a5d14df9721"
      },
      "outputs": [
        {
          "data": {
            "text/plain": [
              "<matplotlib.axes._subplots.AxesSubplot at 0x7fa7a5bdddd0>"
            ]
          },
          "execution_count": null,
          "metadata": {},
          "output_type": "execute_result"
        },
        {
          "data": {
            "image/png": "[encoded data removed]",
            "text/plain": [
              "<Figure size 432x288 with 1 Axes>"
            ]
          },
          "metadata": {},
          "output_type": "display_data"
        }
      ],
      "source": [
        "df_final.boxplot(column = 'session_duration_seconds')"
      ]
    },
    {
      "cell_type": "code",
      "execution_count": null,
      "metadata": {
        "colab": {
          "background_save": true
        },
        "id": "rBqemT-yRnS3",
        "outputId": "cbab278d-c2b8-4671-ef30-5461fb59fe19"
      },
      "outputs": [
        {
          "data": {
            "text/plain": [
              "count      1000.00\n",
              "mean     227138.10\n",
              "std      378890.26\n",
              "min       28557.00\n",
              "25%       44977.25\n",
              "50%       77864.50\n",
              "75%      235720.00\n",
              "max     2575751.00\n",
              "Name: session_duration_seconds, dtype: float64"
            ]
          },
          "execution_count": null,
          "metadata": {},
          "output_type": "execute_result"
        }
      ],
      "source": [
        "df_final.session_duration_seconds.describe()\n",
        "#Podemos identificar diversos outliers, que podem ser usuários que esquecem os aplicativos ligados e fazem outras atividades."
      ]
    }
  ],
  "metadata": {
    "colab": {
      "collapsed_sections": [],
      "name": "aula5-projeto-parte1-exercicios.ipynb",
      "provenance": [],
      "include_colab_link": true
    },
    "kernelspec": {
      "display_name": "Python 3",
      "language": "python",
      "name": "python3"
    },
    "language_info": {
      "codemirror_mode": {
        "name": "ipython",
        "version": 3
      },
      "file_extension": ".py",
      "mimetype": "text/x-python",
      "name": "python",
      "nbconvert_exporter": "python",
      "pygments_lexer": "ipython3",
      "version": "3.7.8"
    }
  },
  "nbformat": 4,
  "nbformat_minor": 0
}