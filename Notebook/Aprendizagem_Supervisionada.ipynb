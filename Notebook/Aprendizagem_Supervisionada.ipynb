{
  "nbformat": 4,
  "nbformat_minor": 0,
  "metadata": {
    "colab": {
      "name": "aula11e12-projeto-parte2-aprendizagem-supervisionada.ipynb",
      "provenance": [],
      "collapsed_sections": [],
      "include_colab_link": true
    },
    "kernelspec": {
      "display_name": "Python 3",
      "language": "python",
      "name": "python3"
    },
    "language_info": {
      "codemirror_mode": {
        "name": "ipython",
        "version": 3
      },
      "file_extension": ".py",
      "mimetype": "text/x-python",
      "name": "python",
      "nbconvert_exporter": "python",
      "pygments_lexer": "ipython3",
      "version": "3.7.8"
    }
  },
  "cells": [
    {
      "cell_type": "markdown",
      "metadata": {
        "id": "view-in-github",
        "colab_type": "text"
      },
      "source": [
        "<a href=\"https://colab.research.google.com/github/skmerick/ifood/blob/main/Notebook/Aprendizagem_Supervisionada.ipynb\" target=\"_parent\"><img src=\"https://colab.research.google.com/assets/colab-badge.svg\" alt=\"Open In Colab\"/></a>"
      ]
    },
    {
      "cell_type": "markdown",
      "metadata": {
        "id": "X5-3mZmZLonH"
      },
      "source": [
        "## Projeto - Parte 2 - Aprendizagem Supervisionada - Classificação - Exercícios\n",
        "\n",
        "\n",
        "--- \n",
        "<img align=\"center\" width=\"150\" src=\"https://logodownload.org/wp-content/uploads/2017/05/ifood-logo-0.png\">\n",
        "\n"
      ]
    },
    {
      "cell_type": "markdown",
      "metadata": {
        "id": "sJBi4T46mw1q"
      },
      "source": [
        "## Definição do Problema\n",
        "\n",
        "O departamento de CRM/Marketing do iFood fez uma solicitação para o time de Ciência de Dados (que estão atrelados ao time de dados dentro da área de TI) para criar um modelo de Machine Learning para prever os clientes que darão Churn.\n",
        "\n",
        "\n",
        "O objetivo deles com o modelo é atuar sobre os clientes com maiores chances de darem churn no próximo mês.\n",
        "\n",
        "- A ação será realizada 1 vez por mês, todo dia 01.\n",
        "- Como a frequência de compras dos clientes do IFood é relativamente alta, então ficou-se decidido na reunião com a área cliente que o modelo seria construído usando features construídas em um período fechado de 1 mês para prever se um dado cliente irá deixar de comprar (churn) no próximo mês. \n",
        "\n",
        "A métrica principal de avaliação do modelo é a AUC, dado que o score gerado pelo modelo será usado para ordenar a base."
      ]
    },
    {
      "cell_type": "code",
      "metadata": {
        "id": "uicoU3paTsE8",
        "colab": {
          "base_uri": "https://localhost:8080/"
        },
        "outputId": "ee28e193-4eed-469e-b9d3-ed0da0ba8351"
      },
      "source": [
        "from google.colab import drive\n",
        "drive.mount('/content/drive')"
      ],
      "execution_count": null,
      "outputs": [
        {
          "output_type": "stream",
          "name": "stdout",
          "text": [
            "Mounted at /content/drive\n"
          ]
        }
      ]
    },
    {
      "cell_type": "code",
      "metadata": {
        "id": "c3DtDOVpVHhc"
      },
      "source": [
        "import os\n",
        "import numpy as np\n",
        "import pandas as pd"
      ],
      "execution_count": null,
      "outputs": []
    },
    {
      "cell_type": "markdown",
      "metadata": {
        "id": "QqUdoi-Jg7rh"
      },
      "source": [
        "## Lendos os Dados"
      ]
    },
    {
      "cell_type": "code",
      "metadata": {
        "id": "Nf-EJURgVTmV"
      },
      "source": [
        "df_orders = pd.read_csv('/content/drive/MyDrive/projeto-ia-datasets/ifood/df_orders.csv')"
      ],
      "execution_count": null,
      "outputs": []
    },
    {
      "cell_type": "code",
      "metadata": {
        "id": "VEPA1ImkVma2",
        "colab": {
          "base_uri": "https://localhost:8080/",
          "height": 487
        },
        "outputId": "4c86a307-f41f-47f8-9865-31e6c50f8a16"
      },
      "source": [
        "df_orders.head()"
      ],
      "execution_count": null,
      "outputs": [
        {
          "output_type": "execute_result",
          "data": {
            "text/html": [
              "<div>\n",
              "<style scoped>\n",
              "    .dataframe tbody tr th:only-of-type {\n",
              "        vertical-align: middle;\n",
              "    }\n",
              "\n",
              "    .dataframe tbody tr th {\n",
              "        vertical-align: top;\n",
              "    }\n",
              "\n",
              "    .dataframe thead th {\n",
              "        text-align: right;\n",
              "    }\n",
              "</style>\n",
              "<table border=\"1\" class=\"dataframe\">\n",
              "  <thead>\n",
              "    <tr style=\"text-align: right;\">\n",
              "      <th></th>\n",
              "      <th>order_id</th>\n",
              "      <th>order_number</th>\n",
              "      <th>order_timestamp_local</th>\n",
              "      <th>order_shift</th>\n",
              "      <th>last_status_date_local</th>\n",
              "      <th>order_total</th>\n",
              "      <th>credit</th>\n",
              "      <th>paid_amount</th>\n",
              "      <th>delivery_type</th>\n",
              "      <th>scheduled</th>\n",
              "      <th>scheduled_creation_date_local</th>\n",
              "      <th>device_app_version</th>\n",
              "      <th>device_type</th>\n",
              "      <th>device_platform</th>\n",
              "      <th>payment_method</th>\n",
              "      <th>customer_state_label</th>\n",
              "      <th>customer_city</th>\n",
              "      <th>customer_district</th>\n",
              "      <th>customer_centroid_id</th>\n",
              "      <th>customer_has_plus</th>\n",
              "      <th>customer_seg_status_last_month</th>\n",
              "      <th>customer_seg_recency_bucket</th>\n",
              "      <th>customer_seg_frequency_bucket</th>\n",
              "      <th>customer_seg_merchant_offer_bucket</th>\n",
              "      <th>customer_seg_benefits_sensitivity_bucket</th>\n",
              "      <th>customer_seg_marlin_tag</th>\n",
              "      <th>customer_seg_gross_income_bucket</th>\n",
              "      <th>customer_seg_preferred_shift</th>\n",
              "      <th>frn_id</th>\n",
              "      <th>merchant_city</th>\n",
              "      <th>merchant_district</th>\n",
              "      <th>merchant_centroid_id</th>\n",
              "      <th>merchant_dish_type</th>\n",
              "      <th>distance_merchant_customer</th>\n",
              "      <th>promo_is_promotion</th>\n",
              "      <th>normal_items_quantity</th>\n",
              "      <th>promo_items_quantity</th>\n",
              "      <th>order_lag_at_login</th>\n",
              "      <th>order_lead_at_login</th>\n",
              "      <th>order_date_local</th>\n",
              "      <th>valid_order</th>\n",
              "      <th>session_id</th>\n",
              "      <th>customer_id</th>\n",
              "    </tr>\n",
              "  </thead>\n",
              "  <tbody>\n",
              "    <tr>\n",
              "      <th>0</th>\n",
              "      <td>630e2af0-b456-4b3a-b964-4d66ce5cc5df</td>\n",
              "      <td>1290139943</td>\n",
              "      <td>2019-12-11T13:22:06.497Z</td>\n",
              "      <td>weekday lunch</td>\n",
              "      <td>2019-12-11T15:22:39.156Z</td>\n",
              "      <td>28.90</td>\n",
              "      <td>14.0</td>\n",
              "      <td>24.9</td>\n",
              "      <td>DELIVERY</td>\n",
              "      <td>False</td>\n",
              "      <td>2019-12-11T13:22:06.497Z</td>\n",
              "      <td>9.29.1</td>\n",
              "      <td>MOBILE</td>\n",
              "      <td>ANDROID</td>\n",
              "      <td>CC_ONLINE</td>\n",
              "      <td>RN</td>\n",
              "      <td>PARNAMIRIM</td>\n",
              "      <td>NOVA PARNAMIRIM</td>\n",
              "      <td>-5.89-35.2</td>\n",
              "      <td>False</td>\n",
              "      <td>Active</td>\n",
              "      <td>1.0</td>\n",
              "      <td>5.0</td>\n",
              "      <td>5.0</td>\n",
              "      <td>Alta</td>\n",
              "      <td>NaN</td>\n",
              "      <td>6.0</td>\n",
              "      <td>NaN</td>\n",
              "      <td>43583</td>\n",
              "      <td>NATAL</td>\n",
              "      <td>PONTA NEGRA</td>\n",
              "      <td>-5.87-35.18</td>\n",
              "      <td>Comida Brasileira</td>\n",
              "      <td>2722.603906</td>\n",
              "      <td>0.0</td>\n",
              "      <td>2.0</td>\n",
              "      <td>0.0</td>\n",
              "      <td>2.0</td>\n",
              "      <td>1.0</td>\n",
              "      <td>2019-12-11T00:00:00.000Z</td>\n",
              "      <td>1</td>\n",
              "      <td>ccbcf9e2-3728-4458-a813-4031ae22e4bd</td>\n",
              "      <td>48b6d81407646ca61163f064a426ce38ac08bed2ce84f0...</td>\n",
              "    </tr>\n",
              "    <tr>\n",
              "      <th>1</th>\n",
              "      <td>66f8163d-f081-4fbd-adb8-cfbbff9213f7</td>\n",
              "      <td>1141271215</td>\n",
              "      <td>2019-11-06T17:57:17.967Z</td>\n",
              "      <td>weekday dinner</td>\n",
              "      <td>2019-11-06T18:18:48.680Z</td>\n",
              "      <td>56.35</td>\n",
              "      <td>7.9</td>\n",
              "      <td>50.4</td>\n",
              "      <td>DELIVERY</td>\n",
              "      <td>False</td>\n",
              "      <td>2019-11-06T17:57:17.967Z</td>\n",
              "      <td>webapp_6.2.0</td>\n",
              "      <td>SITE</td>\n",
              "      <td>DESKTOP</td>\n",
              "      <td>CC_ONLINE</td>\n",
              "      <td>PR</td>\n",
              "      <td>LONDRINA</td>\n",
              "      <td>Gleba Fazenda Palhano</td>\n",
              "      <td>-23.33-51.19</td>\n",
              "      <td>False</td>\n",
              "      <td>Active</td>\n",
              "      <td>1.0</td>\n",
              "      <td>4.0</td>\n",
              "      <td>5.0</td>\n",
              "      <td>Media</td>\n",
              "      <td>1. Marlin</td>\n",
              "      <td>6.0</td>\n",
              "      <td>NaN</td>\n",
              "      <td>533415</td>\n",
              "      <td>LONDRINA</td>\n",
              "      <td>Gleba Fazenda Palhano</td>\n",
              "      <td>-23.34-51.19</td>\n",
              "      <td>Lanches</td>\n",
              "      <td>1108.823183</td>\n",
              "      <td>1.0</td>\n",
              "      <td>0.0</td>\n",
              "      <td>1.0</td>\n",
              "      <td>7.0</td>\n",
              "      <td>1.0</td>\n",
              "      <td>2019-11-06T00:00:00.000Z</td>\n",
              "      <td>1</td>\n",
              "      <td>d9e94d88-ca88-4997-ad4c-62b9c0a35c1b</td>\n",
              "      <td>b3f74186880f5f9a79e0865ad8beab47e22b785b8b3bc0...</td>\n",
              "    </tr>\n",
              "    <tr>\n",
              "      <th>2</th>\n",
              "      <td>e8c55557-81d4-4159-bd2b-c144e5fbabe3</td>\n",
              "      <td>694742752</td>\n",
              "      <td>2019-06-11T20:42:32.058Z</td>\n",
              "      <td>weekday dinner</td>\n",
              "      <td>2019-06-11T22:42:54.005Z</td>\n",
              "      <td>53.80</td>\n",
              "      <td>4.0</td>\n",
              "      <td>49.8</td>\n",
              "      <td>DELIVERY</td>\n",
              "      <td>False</td>\n",
              "      <td>2019-06-11T20:42:32.058Z</td>\n",
              "      <td>iOS_iFood_9.2.1</td>\n",
              "      <td>MOBILE</td>\n",
              "      <td>IOS</td>\n",
              "      <td>CC_ONLINE</td>\n",
              "      <td>SP</td>\n",
              "      <td>SAO PAULO</td>\n",
              "      <td>Jardim Santa Cruz (sacoma)</td>\n",
              "      <td>-23.64-46.59</td>\n",
              "      <td>NaN</td>\n",
              "      <td>Active</td>\n",
              "      <td>1.0</td>\n",
              "      <td>5.0</td>\n",
              "      <td>5.0</td>\n",
              "      <td>Media</td>\n",
              "      <td>1. Marlin</td>\n",
              "      <td>6.0</td>\n",
              "      <td>5. Jantar</td>\n",
              "      <td>166370</td>\n",
              "      <td>SAO PAULO</td>\n",
              "      <td>Parque Bristol</td>\n",
              "      <td>-23.64-46.61</td>\n",
              "      <td>Comida Brasileira</td>\n",
              "      <td>1642.258522</td>\n",
              "      <td>0.0</td>\n",
              "      <td>2.0</td>\n",
              "      <td>0.0</td>\n",
              "      <td>5.0</td>\n",
              "      <td>1.0</td>\n",
              "      <td>2019-06-11T00:00:00.000Z</td>\n",
              "      <td>1</td>\n",
              "      <td>035b33cd-6ddf-4ee2-a887-7ba490bb9700</td>\n",
              "      <td>c4f8999d4cb83cac8134b2051ffc611d5d660c049c3744...</td>\n",
              "    </tr>\n",
              "    <tr>\n",
              "      <th>3</th>\n",
              "      <td>34a60e0d-0042-49af-9aa8-4dc526a998c2</td>\n",
              "      <td>679245732</td>\n",
              "      <td>2019-06-05T19:16:42.111Z</td>\n",
              "      <td>weekday dinner</td>\n",
              "      <td>2019-06-05T21:17:13.264Z</td>\n",
              "      <td>58.90</td>\n",
              "      <td>4.0</td>\n",
              "      <td>54.9</td>\n",
              "      <td>DELIVERY</td>\n",
              "      <td>False</td>\n",
              "      <td>2019-06-05T19:16:42.111Z</td>\n",
              "      <td>iOS_iFood_9.2.1</td>\n",
              "      <td>MOBILE</td>\n",
              "      <td>IOS</td>\n",
              "      <td>CC_ONLINE</td>\n",
              "      <td>PR</td>\n",
              "      <td>LONDRINA</td>\n",
              "      <td>Centro</td>\n",
              "      <td>-23.31-51.17</td>\n",
              "      <td>NaN</td>\n",
              "      <td>Active</td>\n",
              "      <td>1.0</td>\n",
              "      <td>4.0</td>\n",
              "      <td>5.0</td>\n",
              "      <td>Media</td>\n",
              "      <td>1. Marlin</td>\n",
              "      <td>6.0</td>\n",
              "      <td>5. Jantar</td>\n",
              "      <td>178646</td>\n",
              "      <td>LONDRINA</td>\n",
              "      <td>Centro</td>\n",
              "      <td>-23.31-51.17</td>\n",
              "      <td>Lanches</td>\n",
              "      <td>441.677507</td>\n",
              "      <td>0.0</td>\n",
              "      <td>1.0</td>\n",
              "      <td>0.0</td>\n",
              "      <td>9.0</td>\n",
              "      <td>2.0</td>\n",
              "      <td>2019-06-05T00:00:00.000Z</td>\n",
              "      <td>1</td>\n",
              "      <td>93f66506-a8ba-4c22-97ea-7489131958bb</td>\n",
              "      <td>ac89a3eb35853705a09d54f1e5988ad876628b986045cd...</td>\n",
              "    </tr>\n",
              "    <tr>\n",
              "      <th>4</th>\n",
              "      <td>998f6d97-f884-40ba-a7a3-e9691930a642</td>\n",
              "      <td>1052187003</td>\n",
              "      <td>2019-10-15T21:01:23.973Z</td>\n",
              "      <td>weekday dinner</td>\n",
              "      <td>2019-10-15T23:01:41.146Z</td>\n",
              "      <td>54.80</td>\n",
              "      <td>14.0</td>\n",
              "      <td>50.8</td>\n",
              "      <td>DELIVERY</td>\n",
              "      <td>False</td>\n",
              "      <td>2019-10-15T21:01:23.973Z</td>\n",
              "      <td>Android_iFood_9.22.1</td>\n",
              "      <td>MOBILE</td>\n",
              "      <td>ANDROID</td>\n",
              "      <td>CC_ONLINE</td>\n",
              "      <td>SP</td>\n",
              "      <td>SAO PAULO</td>\n",
              "      <td>Parque Panamericano</td>\n",
              "      <td>-23.45-46.73</td>\n",
              "      <td>False</td>\n",
              "      <td>Active</td>\n",
              "      <td>2.0</td>\n",
              "      <td>4.0</td>\n",
              "      <td>4.0</td>\n",
              "      <td>Media</td>\n",
              "      <td>1. Marlin</td>\n",
              "      <td>6.0</td>\n",
              "      <td>NaN</td>\n",
              "      <td>77662</td>\n",
              "      <td>SAO PAULO</td>\n",
              "      <td>Jardim Santo Elias</td>\n",
              "      <td>-23.48-46.74</td>\n",
              "      <td>Comida Japonesa</td>\n",
              "      <td>4398.730930</td>\n",
              "      <td>1.0</td>\n",
              "      <td>0.0</td>\n",
              "      <td>2.0</td>\n",
              "      <td>3.0</td>\n",
              "      <td>4.0</td>\n",
              "      <td>2019-10-15T00:00:00.000Z</td>\n",
              "      <td>1</td>\n",
              "      <td>515a402d-8b86-4e6d-9852-f02282736781</td>\n",
              "      <td>fdef6bf0530b1f6507f175167aa442ade79b6e6fa085c9...</td>\n",
              "    </tr>\n",
              "  </tbody>\n",
              "</table>\n",
              "</div>"
            ],
            "text/plain": [
              "                               order_id  ...                                        customer_id\n",
              "0  630e2af0-b456-4b3a-b964-4d66ce5cc5df  ...  48b6d81407646ca61163f064a426ce38ac08bed2ce84f0...\n",
              "1  66f8163d-f081-4fbd-adb8-cfbbff9213f7  ...  b3f74186880f5f9a79e0865ad8beab47e22b785b8b3bc0...\n",
              "2  e8c55557-81d4-4159-bd2b-c144e5fbabe3  ...  c4f8999d4cb83cac8134b2051ffc611d5d660c049c3744...\n",
              "3  34a60e0d-0042-49af-9aa8-4dc526a998c2  ...  ac89a3eb35853705a09d54f1e5988ad876628b986045cd...\n",
              "4  998f6d97-f884-40ba-a7a3-e9691930a642  ...  fdef6bf0530b1f6507f175167aa442ade79b6e6fa085c9...\n",
              "\n",
              "[5 rows x 43 columns]"
            ]
          },
          "metadata": {},
          "execution_count": 4
        }
      ]
    },
    {
      "cell_type": "markdown",
      "metadata": {
        "id": "DNd9GgOCg-2Y"
      },
      "source": [
        "## Análise Exploratória (1 ponto)"
      ]
    },
    {
      "cell_type": "markdown",
      "metadata": {
        "id": "ROq2SyoiQOI6"
      },
      "source": [
        "**<span style=\"color:blue\">(0.25 ponto)</span> `Q1`** Quantas linhas e colunas existem na base `df_orders`?"
      ]
    },
    {
      "cell_type": "code",
      "metadata": {
        "id": "bMyNIR0PY2ME",
        "colab": {
          "base_uri": "https://localhost:8080/"
        },
        "outputId": "32621230-e609-4b40-ddd1-b16a8b3e1d10"
      },
      "source": [
        "df_orders.shape"
      ],
      "execution_count": null,
      "outputs": [
        {
          "output_type": "execute_result",
          "data": {
            "text/plain": [
              "(492138, 43)"
            ]
          },
          "metadata": {},
          "execution_count": 5
        }
      ]
    },
    {
      "cell_type": "markdown",
      "metadata": {
        "id": "kEeqn7n_QiYB"
      },
      "source": [
        "**<span style=\"color:blue\">(0.25 ponto)</span> `Q2`** Verifique se todos os pedidos são unicos."
      ]
    },
    {
      "cell_type": "code",
      "metadata": {
        "id": "YQZXzk9_Y29v",
        "colab": {
          "base_uri": "https://localhost:8080/"
        },
        "outputId": "cea1e270-eabb-4153-8a22-178bd2022136"
      },
      "source": [
        "df_orders['order_id'].nunique()\n",
        "#São pedidos unicos pois o numero de linhas corresponde ao numero de pedidos unicos"
      ],
      "execution_count": null,
      "outputs": [
        {
          "output_type": "execute_result",
          "data": {
            "text/plain": [
              "492138"
            ]
          },
          "metadata": {},
          "execution_count": 6
        }
      ]
    },
    {
      "cell_type": "markdown",
      "metadata": {
        "id": "LvoDyJXghBT3"
      },
      "source": [
        "**<span style=\"color:blue\">(0.25 ponto)</span> `Q3`** Qual o pedido mais antigo e o mais recente da base? Utilize a variável `order_timestamp_local`."
      ]
    },
    {
      "cell_type": "code",
      "metadata": {
        "id": "INEcmfwVY35R",
        "colab": {
          "base_uri": "https://localhost:8080/",
          "height": 112
        },
        "outputId": "aba3252b-2d62-4e3f-c5d3-962b263edc4f"
      },
      "source": [
        "df_orders.agg({'order_timestamp_local': ['min', 'max']})"
      ],
      "execution_count": null,
      "outputs": [
        {
          "output_type": "execute_result",
          "data": {
            "text/html": [
              "<div>\n",
              "<style scoped>\n",
              "    .dataframe tbody tr th:only-of-type {\n",
              "        vertical-align: middle;\n",
              "    }\n",
              "\n",
              "    .dataframe tbody tr th {\n",
              "        vertical-align: top;\n",
              "    }\n",
              "\n",
              "    .dataframe thead th {\n",
              "        text-align: right;\n",
              "    }\n",
              "</style>\n",
              "<table border=\"1\" class=\"dataframe\">\n",
              "  <thead>\n",
              "    <tr style=\"text-align: right;\">\n",
              "      <th></th>\n",
              "      <th>order_timestamp_local</th>\n",
              "    </tr>\n",
              "  </thead>\n",
              "  <tbody>\n",
              "    <tr>\n",
              "      <th>min</th>\n",
              "      <td>2019-06-01T00:00:15.369Z</td>\n",
              "    </tr>\n",
              "    <tr>\n",
              "      <th>max</th>\n",
              "      <td>2019-12-31T23:31:59.972Z</td>\n",
              "    </tr>\n",
              "  </tbody>\n",
              "</table>\n",
              "</div>"
            ],
            "text/plain": [
              "        order_timestamp_local\n",
              "min  2019-06-01T00:00:15.369Z\n",
              "max  2019-12-31T23:31:59.972Z"
            ]
          },
          "metadata": {},
          "execution_count": 7
        }
      ]
    },
    {
      "cell_type": "markdown",
      "metadata": {
        "id": "M3Z1Om0cQ1NP"
      },
      "source": [
        "**<span style=\"color:blue\">(0.25 ponto)</span> `Q4`** Quantos usuários únicos existem na base?"
      ]
    },
    {
      "cell_type": "code",
      "metadata": {
        "id": "kQzqdkyxY4mS",
        "colab": {
          "base_uri": "https://localhost:8080/"
        },
        "outputId": "580ab5eb-d960-468f-b9e4-04b82078abc2"
      },
      "source": [
        "df_orders['customer_id'].nunique()"
      ],
      "execution_count": null,
      "outputs": [
        {
          "output_type": "execute_result",
          "data": {
            "text/plain": [
              "30079"
            ]
          },
          "metadata": {},
          "execution_count": 8
        }
      ]
    },
    {
      "cell_type": "markdown",
      "metadata": {
        "id": "_66-ZZfPWLS8"
      },
      "source": [
        "## Criação da ABT (10 pontos)\n",
        "\n",
        "Será que variáveis como Recência, Frequência e Valor podem nos ajudar a prever se um dado cliente irá realizar um novo pedido no próximo mês?\n",
        "\n",
        "Vamos criar variáveis que descrevem o comportamento do cliente com base em 1 mês e usar essas variáveis para prever se o cliente irá comprar no próximo mês (caso em que acontecerá um churn e talvez seja interessante oferecermos um cupom de desconto através de notificações no app)."
      ]
    },
    {
      "cell_type": "markdown",
      "metadata": {
        "id": "jR3_CfNPTAEj"
      },
      "source": [
        "**<span style=\"color:blue\">(1.0 ponto)</span> `Q5`** Crie um DataFrame chamado `df_features_train` que deverá conter os dados do período 2019-06-01 (inclusivo) até 2019-07-01 (exclusivo), ou seja deve conter somente os dados referente ao mês 6."
      ]
    },
    {
      "cell_type": "code",
      "metadata": {
        "id": "iAAzgVoqY5oW",
        "colab": {
          "base_uri": "https://localhost:8080/",
          "height": 487
        },
        "outputId": "21fddfb3-2c5f-4bf0-d5e9-d742868c0824"
      },
      "source": [
        "df_features_train=(\n",
        "    df_orders\n",
        "        .query('order_timestamp_local < \"2019-07-01\"')\n",
        ")\n",
        "df_features_train.head()"
      ],
      "execution_count": null,
      "outputs": [
        {
          "output_type": "execute_result",
          "data": {
            "text/html": [
              "<div>\n",
              "<style scoped>\n",
              "    .dataframe tbody tr th:only-of-type {\n",
              "        vertical-align: middle;\n",
              "    }\n",
              "\n",
              "    .dataframe tbody tr th {\n",
              "        vertical-align: top;\n",
              "    }\n",
              "\n",
              "    .dataframe thead th {\n",
              "        text-align: right;\n",
              "    }\n",
              "</style>\n",
              "<table border=\"1\" class=\"dataframe\">\n",
              "  <thead>\n",
              "    <tr style=\"text-align: right;\">\n",
              "      <th></th>\n",
              "      <th>order_id</th>\n",
              "      <th>order_number</th>\n",
              "      <th>order_timestamp_local</th>\n",
              "      <th>order_shift</th>\n",
              "      <th>last_status_date_local</th>\n",
              "      <th>order_total</th>\n",
              "      <th>credit</th>\n",
              "      <th>paid_amount</th>\n",
              "      <th>delivery_type</th>\n",
              "      <th>scheduled</th>\n",
              "      <th>scheduled_creation_date_local</th>\n",
              "      <th>device_app_version</th>\n",
              "      <th>device_type</th>\n",
              "      <th>device_platform</th>\n",
              "      <th>payment_method</th>\n",
              "      <th>customer_state_label</th>\n",
              "      <th>customer_city</th>\n",
              "      <th>customer_district</th>\n",
              "      <th>customer_centroid_id</th>\n",
              "      <th>customer_has_plus</th>\n",
              "      <th>customer_seg_status_last_month</th>\n",
              "      <th>customer_seg_recency_bucket</th>\n",
              "      <th>customer_seg_frequency_bucket</th>\n",
              "      <th>customer_seg_merchant_offer_bucket</th>\n",
              "      <th>customer_seg_benefits_sensitivity_bucket</th>\n",
              "      <th>customer_seg_marlin_tag</th>\n",
              "      <th>customer_seg_gross_income_bucket</th>\n",
              "      <th>customer_seg_preferred_shift</th>\n",
              "      <th>frn_id</th>\n",
              "      <th>merchant_city</th>\n",
              "      <th>merchant_district</th>\n",
              "      <th>merchant_centroid_id</th>\n",
              "      <th>merchant_dish_type</th>\n",
              "      <th>distance_merchant_customer</th>\n",
              "      <th>promo_is_promotion</th>\n",
              "      <th>normal_items_quantity</th>\n",
              "      <th>promo_items_quantity</th>\n",
              "      <th>order_lag_at_login</th>\n",
              "      <th>order_lead_at_login</th>\n",
              "      <th>order_date_local</th>\n",
              "      <th>valid_order</th>\n",
              "      <th>session_id</th>\n",
              "      <th>customer_id</th>\n",
              "    </tr>\n",
              "  </thead>\n",
              "  <tbody>\n",
              "    <tr>\n",
              "      <th>2</th>\n",
              "      <td>e8c55557-81d4-4159-bd2b-c144e5fbabe3</td>\n",
              "      <td>694742752</td>\n",
              "      <td>2019-06-11T20:42:32.058Z</td>\n",
              "      <td>weekday dinner</td>\n",
              "      <td>2019-06-11T22:42:54.005Z</td>\n",
              "      <td>53.8</td>\n",
              "      <td>4.0</td>\n",
              "      <td>49.8</td>\n",
              "      <td>DELIVERY</td>\n",
              "      <td>False</td>\n",
              "      <td>2019-06-11T20:42:32.058Z</td>\n",
              "      <td>iOS_iFood_9.2.1</td>\n",
              "      <td>MOBILE</td>\n",
              "      <td>IOS</td>\n",
              "      <td>CC_ONLINE</td>\n",
              "      <td>SP</td>\n",
              "      <td>SAO PAULO</td>\n",
              "      <td>Jardim Santa Cruz (sacoma)</td>\n",
              "      <td>-23.64-46.59</td>\n",
              "      <td>NaN</td>\n",
              "      <td>Active</td>\n",
              "      <td>1.0</td>\n",
              "      <td>5.0</td>\n",
              "      <td>5.0</td>\n",
              "      <td>Media</td>\n",
              "      <td>1. Marlin</td>\n",
              "      <td>6.0</td>\n",
              "      <td>5. Jantar</td>\n",
              "      <td>166370</td>\n",
              "      <td>SAO PAULO</td>\n",
              "      <td>Parque Bristol</td>\n",
              "      <td>-23.64-46.61</td>\n",
              "      <td>Comida Brasileira</td>\n",
              "      <td>1642.258522</td>\n",
              "      <td>0.0</td>\n",
              "      <td>2.0</td>\n",
              "      <td>0.0</td>\n",
              "      <td>5.0</td>\n",
              "      <td>1.0</td>\n",
              "      <td>2019-06-11T00:00:00.000Z</td>\n",
              "      <td>1</td>\n",
              "      <td>035b33cd-6ddf-4ee2-a887-7ba490bb9700</td>\n",
              "      <td>c4f8999d4cb83cac8134b2051ffc611d5d660c049c3744...</td>\n",
              "    </tr>\n",
              "    <tr>\n",
              "      <th>3</th>\n",
              "      <td>34a60e0d-0042-49af-9aa8-4dc526a998c2</td>\n",
              "      <td>679245732</td>\n",
              "      <td>2019-06-05T19:16:42.111Z</td>\n",
              "      <td>weekday dinner</td>\n",
              "      <td>2019-06-05T21:17:13.264Z</td>\n",
              "      <td>58.9</td>\n",
              "      <td>4.0</td>\n",
              "      <td>54.9</td>\n",
              "      <td>DELIVERY</td>\n",
              "      <td>False</td>\n",
              "      <td>2019-06-05T19:16:42.111Z</td>\n",
              "      <td>iOS_iFood_9.2.1</td>\n",
              "      <td>MOBILE</td>\n",
              "      <td>IOS</td>\n",
              "      <td>CC_ONLINE</td>\n",
              "      <td>PR</td>\n",
              "      <td>LONDRINA</td>\n",
              "      <td>Centro</td>\n",
              "      <td>-23.31-51.17</td>\n",
              "      <td>NaN</td>\n",
              "      <td>Active</td>\n",
              "      <td>1.0</td>\n",
              "      <td>4.0</td>\n",
              "      <td>5.0</td>\n",
              "      <td>Media</td>\n",
              "      <td>1. Marlin</td>\n",
              "      <td>6.0</td>\n",
              "      <td>5. Jantar</td>\n",
              "      <td>178646</td>\n",
              "      <td>LONDRINA</td>\n",
              "      <td>Centro</td>\n",
              "      <td>-23.31-51.17</td>\n",
              "      <td>Lanches</td>\n",
              "      <td>441.677507</td>\n",
              "      <td>0.0</td>\n",
              "      <td>1.0</td>\n",
              "      <td>0.0</td>\n",
              "      <td>9.0</td>\n",
              "      <td>2.0</td>\n",
              "      <td>2019-06-05T00:00:00.000Z</td>\n",
              "      <td>1</td>\n",
              "      <td>93f66506-a8ba-4c22-97ea-7489131958bb</td>\n",
              "      <td>ac89a3eb35853705a09d54f1e5988ad876628b986045cd...</td>\n",
              "    </tr>\n",
              "    <tr>\n",
              "      <th>5</th>\n",
              "      <td>0d8b3571-be59-48c0-bb92-b7f3ce2793a0</td>\n",
              "      <td>686714753</td>\n",
              "      <td>2019-06-08T14:44:02.062Z</td>\n",
              "      <td>weekend lunch</td>\n",
              "      <td>2019-06-08T15:25:13.583Z</td>\n",
              "      <td>131.9</td>\n",
              "      <td>4.0</td>\n",
              "      <td>127.9</td>\n",
              "      <td>DELIVERY</td>\n",
              "      <td>False</td>\n",
              "      <td>2019-06-08T14:44:02.062Z</td>\n",
              "      <td>iOS_iFood_8.54.1</td>\n",
              "      <td>MOBILE</td>\n",
              "      <td>IOS</td>\n",
              "      <td>CC_ONLINE</td>\n",
              "      <td>DF</td>\n",
              "      <td>BRASILIA</td>\n",
              "      <td>Setor De Habitacoes Individuais Sul</td>\n",
              "      <td>-15.84-47.84</td>\n",
              "      <td>NaN</td>\n",
              "      <td>Active</td>\n",
              "      <td>1.0</td>\n",
              "      <td>5.0</td>\n",
              "      <td>5.0</td>\n",
              "      <td>Media</td>\n",
              "      <td>1. Marlin</td>\n",
              "      <td>6.0</td>\n",
              "      <td>5. Jantar</td>\n",
              "      <td>180004</td>\n",
              "      <td>BRASILIA</td>\n",
              "      <td>Vila Planalto</td>\n",
              "      <td>-15.79-47.85</td>\n",
              "      <td>Doces &amp; Bolos</td>\n",
              "      <td>5891.546259</td>\n",
              "      <td>0.0</td>\n",
              "      <td>18.0</td>\n",
              "      <td>0.0</td>\n",
              "      <td>2.0</td>\n",
              "      <td>3.0</td>\n",
              "      <td>2019-06-08T00:00:00.000Z</td>\n",
              "      <td>1</td>\n",
              "      <td>0260bfa3-e8e4-4b62-9500-5529600dc309</td>\n",
              "      <td>45751a4f75fbd494aa7e275932ab0791b1542ea30df8ff...</td>\n",
              "    </tr>\n",
              "    <tr>\n",
              "      <th>13</th>\n",
              "      <td>4511884b-ac72-44c2-9321-eb59e93dca45</td>\n",
              "      <td>690050151</td>\n",
              "      <td>2019-06-10T00:41:14.558Z</td>\n",
              "      <td>weekend dawn</td>\n",
              "      <td>2019-06-10T06:48:56.869Z</td>\n",
              "      <td>46.8</td>\n",
              "      <td>4.0</td>\n",
              "      <td>42.8</td>\n",
              "      <td>DELIVERY</td>\n",
              "      <td>False</td>\n",
              "      <td>2019-06-10T00:41:14.558Z</td>\n",
              "      <td>iOS_iFood_9.2.1</td>\n",
              "      <td>MOBILE</td>\n",
              "      <td>IOS</td>\n",
              "      <td>CC_ONLINE</td>\n",
              "      <td>SP</td>\n",
              "      <td>SAO PAULO</td>\n",
              "      <td>Vila Clementino</td>\n",
              "      <td>-23.6-46.65</td>\n",
              "      <td>NaN</td>\n",
              "      <td>Active</td>\n",
              "      <td>1.0</td>\n",
              "      <td>4.0</td>\n",
              "      <td>5.0</td>\n",
              "      <td>Alta</td>\n",
              "      <td>1. Marlin</td>\n",
              "      <td>6.0</td>\n",
              "      <td>NaN</td>\n",
              "      <td>39607</td>\n",
              "      <td>SAO PAULO</td>\n",
              "      <td>Vila Mariana</td>\n",
              "      <td>-23.6-46.63</td>\n",
              "      <td>Pizza</td>\n",
              "      <td>1781.144782</td>\n",
              "      <td>1.0</td>\n",
              "      <td>1.0</td>\n",
              "      <td>1.0</td>\n",
              "      <td>2.0</td>\n",
              "      <td>10.0</td>\n",
              "      <td>2019-06-10T00:00:00.000Z</td>\n",
              "      <td>1</td>\n",
              "      <td>4e0bfb70-5bde-4f74-8865-c67c83012c76</td>\n",
              "      <td>6cf18243f88c0e11fbd53d802282b299e76def34285cf8...</td>\n",
              "    </tr>\n",
              "    <tr>\n",
              "      <th>18</th>\n",
              "      <td>6f1d4815-206d-419c-8339-cef30c5f55d6</td>\n",
              "      <td>723621544</td>\n",
              "      <td>2019-06-22T16:02:59.896Z</td>\n",
              "      <td>weekend snack</td>\n",
              "      <td>2019-06-22T16:16:00.950Z</td>\n",
              "      <td>28.9</td>\n",
              "      <td>4.0</td>\n",
              "      <td>24.9</td>\n",
              "      <td>DELIVERY</td>\n",
              "      <td>False</td>\n",
              "      <td>2019-06-22T16:02:59.896Z</td>\n",
              "      <td>iOS_iFood_9.5.0</td>\n",
              "      <td>MOBILE</td>\n",
              "      <td>IOS</td>\n",
              "      <td>CC_ONLINE</td>\n",
              "      <td>AL</td>\n",
              "      <td>MACEIO</td>\n",
              "      <td>Antares</td>\n",
              "      <td>-9.59-35.74</td>\n",
              "      <td>NaN</td>\n",
              "      <td>Resurrected</td>\n",
              "      <td>2.0</td>\n",
              "      <td>1.0</td>\n",
              "      <td>5.0</td>\n",
              "      <td>Media</td>\n",
              "      <td>4. Retention Carp</td>\n",
              "      <td>6.0</td>\n",
              "      <td>4. Lanche da Tarde</td>\n",
              "      <td>272162</td>\n",
              "      <td>MACEIO</td>\n",
              "      <td>Antares</td>\n",
              "      <td>-9.57-35.74</td>\n",
              "      <td>Açaí</td>\n",
              "      <td>2577.909442</td>\n",
              "      <td>1.0</td>\n",
              "      <td>0.0</td>\n",
              "      <td>1.0</td>\n",
              "      <td>4.0</td>\n",
              "      <td>1.0</td>\n",
              "      <td>2019-06-22T00:00:00.000Z</td>\n",
              "      <td>1</td>\n",
              "      <td>aa49e3b1-2a75-4336-b4f7-3e1021afd056</td>\n",
              "      <td>6b043c9c3e7398a1bfd27cf9b8f1b28af1302e2911a0ef...</td>\n",
              "    </tr>\n",
              "  </tbody>\n",
              "</table>\n",
              "</div>"
            ],
            "text/plain": [
              "                                order_id  ...                                        customer_id\n",
              "2   e8c55557-81d4-4159-bd2b-c144e5fbabe3  ...  c4f8999d4cb83cac8134b2051ffc611d5d660c049c3744...\n",
              "3   34a60e0d-0042-49af-9aa8-4dc526a998c2  ...  ac89a3eb35853705a09d54f1e5988ad876628b986045cd...\n",
              "5   0d8b3571-be59-48c0-bb92-b7f3ce2793a0  ...  45751a4f75fbd494aa7e275932ab0791b1542ea30df8ff...\n",
              "13  4511884b-ac72-44c2-9321-eb59e93dca45  ...  6cf18243f88c0e11fbd53d802282b299e76def34285cf8...\n",
              "18  6f1d4815-206d-419c-8339-cef30c5f55d6  ...  6b043c9c3e7398a1bfd27cf9b8f1b28af1302e2911a0ef...\n",
              "\n",
              "[5 rows x 43 columns]"
            ]
          },
          "metadata": {},
          "execution_count": 9
        }
      ]
    },
    {
      "cell_type": "markdown",
      "metadata": {
        "id": "GOz7RrteTrfG"
      },
      "source": [
        "**<span style=\"color:blue\">(1.0 ponto)</span> `Q6`** Crie um DataFrame chamado `df_target_train` que deverá conter os dados do período 2019-07-01 (inclusivo) até 2019-08-01 (exclusivo), ou seja deve conter somente os dados referente ao mês 7.\n",
        "\n",
        "Depois selecione apenas a coluna `customer_id` e remova os duplicados."
      ]
    },
    {
      "cell_type": "code",
      "metadata": {
        "id": "L6LhThPuY6ZL",
        "colab": {
          "base_uri": "https://localhost:8080/",
          "height": 206
        },
        "outputId": "1a4416d0-6376-4787-d139-5d69478ade7f"
      },
      "source": [
        "df_target_train=(\n",
        "    df_orders\n",
        "        .query('order_timestamp_local >= \"2019-07-01\" & order_timestamp_local < \"2019-08-01\"')\n",
        "        .filter(['customer_id'])\n",
        "        .drop_duplicates()\n",
        ")\n",
        "df_target_train.head()"
      ],
      "execution_count": null,
      "outputs": [
        {
          "output_type": "execute_result",
          "data": {
            "text/html": [
              "<div>\n",
              "<style scoped>\n",
              "    .dataframe tbody tr th:only-of-type {\n",
              "        vertical-align: middle;\n",
              "    }\n",
              "\n",
              "    .dataframe tbody tr th {\n",
              "        vertical-align: top;\n",
              "    }\n",
              "\n",
              "    .dataframe thead th {\n",
              "        text-align: right;\n",
              "    }\n",
              "</style>\n",
              "<table border=\"1\" class=\"dataframe\">\n",
              "  <thead>\n",
              "    <tr style=\"text-align: right;\">\n",
              "      <th></th>\n",
              "      <th>customer_id</th>\n",
              "    </tr>\n",
              "  </thead>\n",
              "  <tbody>\n",
              "    <tr>\n",
              "      <th>8</th>\n",
              "      <td>90f2b3ba9e0f08ee3183d6d918fb53e6534dbb600ec455...</td>\n",
              "    </tr>\n",
              "    <tr>\n",
              "      <th>17</th>\n",
              "      <td>15d5dbfca76a09718f673a21fa83ca91ea29cd844303b8...</td>\n",
              "    </tr>\n",
              "    <tr>\n",
              "      <th>22</th>\n",
              "      <td>4311cabf116b98af5288a4e67b08d4cd3a7fa8bcc9b51c...</td>\n",
              "    </tr>\n",
              "    <tr>\n",
              "      <th>25</th>\n",
              "      <td>1b256748d9f3c0a9cdb0d8eb0c0b8c49dd31649fdd7d6d...</td>\n",
              "    </tr>\n",
              "    <tr>\n",
              "      <th>29</th>\n",
              "      <td>d109c64ce2bc5339a6beea5db875d7da662fddf1e21bc1...</td>\n",
              "    </tr>\n",
              "  </tbody>\n",
              "</table>\n",
              "</div>"
            ],
            "text/plain": [
              "                                          customer_id\n",
              "8   90f2b3ba9e0f08ee3183d6d918fb53e6534dbb600ec455...\n",
              "17  15d5dbfca76a09718f673a21fa83ca91ea29cd844303b8...\n",
              "22  4311cabf116b98af5288a4e67b08d4cd3a7fa8bcc9b51c...\n",
              "25  1b256748d9f3c0a9cdb0d8eb0c0b8c49dd31649fdd7d6d...\n",
              "29  d109c64ce2bc5339a6beea5db875d7da662fddf1e21bc1..."
            ]
          },
          "metadata": {},
          "execution_count": 10
        }
      ]
    },
    {
      "cell_type": "markdown",
      "metadata": {
        "id": "O6S9-yfIVSYv"
      },
      "source": [
        "**<span style=\"color:blue\">(2.0 ponto)</span> `Q7`** Faça o agrupamento no DataFrame `df_features_train` pela feature `customer_id`. Faça as agregações abaixo, renomeando o resultado para as seguintes colunas `receita_1m`, `qtde_pedidos_1m` e `data_ultima_venda`, respectivamente.\n",
        "\n",
        "- 'paid_amount' - 'sum'\n",
        "- 'order_id' - 'nunique'\n",
        "- 'order_timestamp_local' - 'max'\n",
        "\n",
        "Lembre-se de utilizar o conceito que vimos em sala para renomear o resultado da agregação.\n",
        "\n",
        "Também utilize o método `reset_index` para reinicar os indices.\n",
        "\n",
        "Salve na variável `df_abt_train`."
      ]
    },
    {
      "cell_type": "code",
      "metadata": {
        "id": "87LhB12wY7k_",
        "colab": {
          "base_uri": "https://localhost:8080/",
          "height": 206
        },
        "outputId": "dd863190-889a-4646-a7e5-be5b2e760d2c"
      },
      "source": [
        "df_abt_train=(\n",
        "    df_features_train\n",
        "    .groupby('customer_id')\n",
        "    .agg(\n",
        "         receita_1m = ('paid_amount', 'sum'),\n",
        "         qtde_pedidos_1m = ('order_id', 'nunique'),\n",
        "         data_ultima_venda = ('order_timestamp_local', 'max')  \n",
        ").reset_index()\n",
        ")\n",
        "df_abt_train.head()"
      ],
      "execution_count": null,
      "outputs": [
        {
          "output_type": "execute_result",
          "data": {
            "text/html": [
              "<div>\n",
              "<style scoped>\n",
              "    .dataframe tbody tr th:only-of-type {\n",
              "        vertical-align: middle;\n",
              "    }\n",
              "\n",
              "    .dataframe tbody tr th {\n",
              "        vertical-align: top;\n",
              "    }\n",
              "\n",
              "    .dataframe thead th {\n",
              "        text-align: right;\n",
              "    }\n",
              "</style>\n",
              "<table border=\"1\" class=\"dataframe\">\n",
              "  <thead>\n",
              "    <tr style=\"text-align: right;\">\n",
              "      <th></th>\n",
              "      <th>customer_id</th>\n",
              "      <th>receita_1m</th>\n",
              "      <th>qtde_pedidos_1m</th>\n",
              "      <th>data_ultima_venda</th>\n",
              "    </tr>\n",
              "  </thead>\n",
              "  <tbody>\n",
              "    <tr>\n",
              "      <th>0</th>\n",
              "      <td>0001a8e61d8b08ad436e8e6f4adeb399b88df962c72d9d...</td>\n",
              "      <td>102.0</td>\n",
              "      <td>2</td>\n",
              "      <td>2019-06-15T21:57:51.803Z</td>\n",
              "    </tr>\n",
              "    <tr>\n",
              "      <th>1</th>\n",
              "      <td>0001a9f97d01d2696cf70c7657ee2d039388d691720ff9...</td>\n",
              "      <td>52.0</td>\n",
              "      <td>1</td>\n",
              "      <td>2019-06-11T12:10:33.822Z</td>\n",
              "    </tr>\n",
              "    <tr>\n",
              "      <th>2</th>\n",
              "      <td>0004720dc16aed1f98fd79f59736170e0d686199cd9ae5...</td>\n",
              "      <td>59.3</td>\n",
              "      <td>1</td>\n",
              "      <td>2019-06-01T12:45:14.808Z</td>\n",
              "    </tr>\n",
              "    <tr>\n",
              "      <th>3</th>\n",
              "      <td>0006a32816a3af172048de7db87c97c4c8c7ad7e6385fa...</td>\n",
              "      <td>95.2</td>\n",
              "      <td>2</td>\n",
              "      <td>2019-06-29T02:56:33.535Z</td>\n",
              "    </tr>\n",
              "    <tr>\n",
              "      <th>4</th>\n",
              "      <td>00081913eb21cd12aecc831bda704f8c6482723b55e664...</td>\n",
              "      <td>27.0</td>\n",
              "      <td>1</td>\n",
              "      <td>2019-06-17T19:41:34.313Z</td>\n",
              "    </tr>\n",
              "  </tbody>\n",
              "</table>\n",
              "</div>"
            ],
            "text/plain": [
              "                                         customer_id  ...         data_ultima_venda\n",
              "0  0001a8e61d8b08ad436e8e6f4adeb399b88df962c72d9d...  ...  2019-06-15T21:57:51.803Z\n",
              "1  0001a9f97d01d2696cf70c7657ee2d039388d691720ff9...  ...  2019-06-11T12:10:33.822Z\n",
              "2  0004720dc16aed1f98fd79f59736170e0d686199cd9ae5...  ...  2019-06-01T12:45:14.808Z\n",
              "3  0006a32816a3af172048de7db87c97c4c8c7ad7e6385fa...  ...  2019-06-29T02:56:33.535Z\n",
              "4  00081913eb21cd12aecc831bda704f8c6482723b55e664...  ...  2019-06-17T19:41:34.313Z\n",
              "\n",
              "[5 rows x 4 columns]"
            ]
          },
          "metadata": {},
          "execution_count": 11
        }
      ]
    },
    {
      "cell_type": "markdown",
      "metadata": {
        "id": "yipoK428kHa3"
      },
      "source": [
        "**<span style=\"color:blue\">(3.0 pontos)</span> `Q8`** Utilize o método `.assign` do DataFrame para fazer as seguintes alterações:\n",
        "\n",
        "- Altere o tipo da coluna `data_ultima_venda` para o formato de data utilizando o comando `pd.to_datetime` com o parâmetro `utc=True`.\n",
        "- Crie uma nova coluna chamada `data_ref` com o valor de `2019-07-01` e faça a converção utilizando o comando `pd.to_datetime` com o parâmetro `utc=True`\n",
        "- Crie uma nova coluna chamada `recencia` e salve os dias referentes a subtração da coluna `data_ref` e `data_ultima_venda`. Lembre-se de extrair os dias (`.dt.days`)\n",
        "- Por fim, selecione apenas as seguintes colunas: `['data_ref', 'customer_id', 'receita_1m', 'qtd_pedidos_1m', 'recencia']`\n",
        "\n",
        "O resultado dessas alterações devem ser salvas na variável `df_abt_train`\n"
      ]
    },
    {
      "cell_type": "code",
      "metadata": {
        "id": "3KFpSV8XY9WL",
        "colab": {
          "base_uri": "https://localhost:8080/",
          "height": 206
        },
        "outputId": "41975e81-79f1-4830-cad9-ae884293bb74"
      },
      "source": [
        "df_abt_train['data_ultima_venda'] = pd.to_datetime(df_abt_train['data_ultima_venda'], utc=True)\n",
        "df_abt_train=(\n",
        "    df_abt_train\n",
        "    .assign(data_ref = pd.to_datetime('2019-07-01', utc=True))\n",
        "    .assign(recencia = lambda df_em_memoria: (df_em_memoria['data_ref'] - df_em_memoria['data_ultima_venda']).dt.days)\n",
        "    .filter(['data_ref','customer_id', 'receita_1m', 'qtde_pedidos_1m','recencia'])\n",
        ")\n",
        "df_abt_train.head()"
      ],
      "execution_count": null,
      "outputs": [
        {
          "output_type": "execute_result",
          "data": {
            "text/html": [
              "<div>\n",
              "<style scoped>\n",
              "    .dataframe tbody tr th:only-of-type {\n",
              "        vertical-align: middle;\n",
              "    }\n",
              "\n",
              "    .dataframe tbody tr th {\n",
              "        vertical-align: top;\n",
              "    }\n",
              "\n",
              "    .dataframe thead th {\n",
              "        text-align: right;\n",
              "    }\n",
              "</style>\n",
              "<table border=\"1\" class=\"dataframe\">\n",
              "  <thead>\n",
              "    <tr style=\"text-align: right;\">\n",
              "      <th></th>\n",
              "      <th>data_ref</th>\n",
              "      <th>customer_id</th>\n",
              "      <th>receita_1m</th>\n",
              "      <th>qtde_pedidos_1m</th>\n",
              "      <th>recencia</th>\n",
              "    </tr>\n",
              "  </thead>\n",
              "  <tbody>\n",
              "    <tr>\n",
              "      <th>0</th>\n",
              "      <td>2019-07-01 00:00:00+00:00</td>\n",
              "      <td>0001a8e61d8b08ad436e8e6f4adeb399b88df962c72d9d...</td>\n",
              "      <td>102.0</td>\n",
              "      <td>2</td>\n",
              "      <td>15</td>\n",
              "    </tr>\n",
              "    <tr>\n",
              "      <th>1</th>\n",
              "      <td>2019-07-01 00:00:00+00:00</td>\n",
              "      <td>0001a9f97d01d2696cf70c7657ee2d039388d691720ff9...</td>\n",
              "      <td>52.0</td>\n",
              "      <td>1</td>\n",
              "      <td>19</td>\n",
              "    </tr>\n",
              "    <tr>\n",
              "      <th>2</th>\n",
              "      <td>2019-07-01 00:00:00+00:00</td>\n",
              "      <td>0004720dc16aed1f98fd79f59736170e0d686199cd9ae5...</td>\n",
              "      <td>59.3</td>\n",
              "      <td>1</td>\n",
              "      <td>29</td>\n",
              "    </tr>\n",
              "    <tr>\n",
              "      <th>3</th>\n",
              "      <td>2019-07-01 00:00:00+00:00</td>\n",
              "      <td>0006a32816a3af172048de7db87c97c4c8c7ad7e6385fa...</td>\n",
              "      <td>95.2</td>\n",
              "      <td>2</td>\n",
              "      <td>1</td>\n",
              "    </tr>\n",
              "    <tr>\n",
              "      <th>4</th>\n",
              "      <td>2019-07-01 00:00:00+00:00</td>\n",
              "      <td>00081913eb21cd12aecc831bda704f8c6482723b55e664...</td>\n",
              "      <td>27.0</td>\n",
              "      <td>1</td>\n",
              "      <td>13</td>\n",
              "    </tr>\n",
              "  </tbody>\n",
              "</table>\n",
              "</div>"
            ],
            "text/plain": [
              "                   data_ref  ... recencia\n",
              "0 2019-07-01 00:00:00+00:00  ...       15\n",
              "1 2019-07-01 00:00:00+00:00  ...       19\n",
              "2 2019-07-01 00:00:00+00:00  ...       29\n",
              "3 2019-07-01 00:00:00+00:00  ...        1\n",
              "4 2019-07-01 00:00:00+00:00  ...       13\n",
              "\n",
              "[5 rows x 5 columns]"
            ]
          },
          "metadata": {},
          "execution_count": 12
        }
      ]
    },
    {
      "cell_type": "markdown",
      "metadata": {
        "id": "lJ7OIAN7yZGm"
      },
      "source": [
        "**<span style=\"color:blue\">(1.0 pontos)</span> `Q9`** Faça o `merge` com o DataFrame `df_abt_train` com o `df_target_train` com os seguintes parametros:\n",
        "\n",
        "- `how='left'`\n",
        "- `on='customer_id'`\n",
        "- `indicator=True`\n",
        "\n",
        "Salve o merge na variável `df_abt_train`.\n"
      ]
    },
    {
      "cell_type": "code",
      "metadata": {
        "id": "yDEZ1Sg3Y-N0",
        "colab": {
          "base_uri": "https://localhost:8080/",
          "height": 206
        },
        "outputId": "603af080-affb-4c50-e481-eef212d5475e"
      },
      "source": [
        "df_abt_train =(\n",
        "    df_abt_train\n",
        "    .merge(df_target_train, how='left', on='customer_id', indicator=True)\n",
        ")\n",
        "df_abt_train.head()"
      ],
      "execution_count": null,
      "outputs": [
        {
          "output_type": "execute_result",
          "data": {
            "text/html": [
              "<div>\n",
              "<style scoped>\n",
              "    .dataframe tbody tr th:only-of-type {\n",
              "        vertical-align: middle;\n",
              "    }\n",
              "\n",
              "    .dataframe tbody tr th {\n",
              "        vertical-align: top;\n",
              "    }\n",
              "\n",
              "    .dataframe thead th {\n",
              "        text-align: right;\n",
              "    }\n",
              "</style>\n",
              "<table border=\"1\" class=\"dataframe\">\n",
              "  <thead>\n",
              "    <tr style=\"text-align: right;\">\n",
              "      <th></th>\n",
              "      <th>data_ref</th>\n",
              "      <th>customer_id</th>\n",
              "      <th>receita_1m</th>\n",
              "      <th>qtde_pedidos_1m</th>\n",
              "      <th>recencia</th>\n",
              "      <th>_merge</th>\n",
              "    </tr>\n",
              "  </thead>\n",
              "  <tbody>\n",
              "    <tr>\n",
              "      <th>0</th>\n",
              "      <td>2019-07-01 00:00:00+00:00</td>\n",
              "      <td>0001a8e61d8b08ad436e8e6f4adeb399b88df962c72d9d...</td>\n",
              "      <td>102.0</td>\n",
              "      <td>2</td>\n",
              "      <td>15</td>\n",
              "      <td>left_only</td>\n",
              "    </tr>\n",
              "    <tr>\n",
              "      <th>1</th>\n",
              "      <td>2019-07-01 00:00:00+00:00</td>\n",
              "      <td>0001a9f97d01d2696cf70c7657ee2d039388d691720ff9...</td>\n",
              "      <td>52.0</td>\n",
              "      <td>1</td>\n",
              "      <td>19</td>\n",
              "      <td>left_only</td>\n",
              "    </tr>\n",
              "    <tr>\n",
              "      <th>2</th>\n",
              "      <td>2019-07-01 00:00:00+00:00</td>\n",
              "      <td>0004720dc16aed1f98fd79f59736170e0d686199cd9ae5...</td>\n",
              "      <td>59.3</td>\n",
              "      <td>1</td>\n",
              "      <td>29</td>\n",
              "      <td>left_only</td>\n",
              "    </tr>\n",
              "    <tr>\n",
              "      <th>3</th>\n",
              "      <td>2019-07-01 00:00:00+00:00</td>\n",
              "      <td>0006a32816a3af172048de7db87c97c4c8c7ad7e6385fa...</td>\n",
              "      <td>95.2</td>\n",
              "      <td>2</td>\n",
              "      <td>1</td>\n",
              "      <td>left_only</td>\n",
              "    </tr>\n",
              "    <tr>\n",
              "      <th>4</th>\n",
              "      <td>2019-07-01 00:00:00+00:00</td>\n",
              "      <td>00081913eb21cd12aecc831bda704f8c6482723b55e664...</td>\n",
              "      <td>27.0</td>\n",
              "      <td>1</td>\n",
              "      <td>13</td>\n",
              "      <td>left_only</td>\n",
              "    </tr>\n",
              "  </tbody>\n",
              "</table>\n",
              "</div>"
            ],
            "text/plain": [
              "                   data_ref  ...     _merge\n",
              "0 2019-07-01 00:00:00+00:00  ...  left_only\n",
              "1 2019-07-01 00:00:00+00:00  ...  left_only\n",
              "2 2019-07-01 00:00:00+00:00  ...  left_only\n",
              "3 2019-07-01 00:00:00+00:00  ...  left_only\n",
              "4 2019-07-01 00:00:00+00:00  ...  left_only\n",
              "\n",
              "[5 rows x 6 columns]"
            ]
          },
          "metadata": {},
          "execution_count": 13
        }
      ]
    },
    {
      "cell_type": "markdown",
      "metadata": {
        "id": "ESh5eEKxFiOb"
      },
      "source": [
        "**<span style=\"color:blue\">(1.0 pontos)</span> `Q10`** Utilize o método `.assign` para criar a coluna `churn_next_month`.\n",
        "\n",
        "Utilize a função `np.where` para fazer a criação. Compare as colunas `_merge` com `left_only`, se ambas forem iguais, o resultado deve ser 1, caso contrário deve ser 0.\n",
        "\n",
        "* Obs: não esquecer de dropar a coluna `_merge` depois de ter criado a variável target."
      ]
    },
    {
      "cell_type": "code",
      "metadata": {
        "id": "uc8VOcUwZAAs",
        "colab": {
          "base_uri": "https://localhost:8080/",
          "height": 206
        },
        "outputId": "46e0eb9c-24ad-4839-a537-2c5f04eb39c9"
      },
      "source": [
        "df_abt_train =(\n",
        "    df_abt_train\n",
        "    .assign(churn_next_month = lambda df: np.where(df['_merge'] == \"left_only\", 1, 0))\n",
        "    .filter(['data_ref','customer_id', 'receita_1m', 'qtde_pedidos_1m','recencia','churn_next_month'])\n",
        ")\n",
        "    \n",
        "df_abt_train.head()"
      ],
      "execution_count": null,
      "outputs": [
        {
          "output_type": "execute_result",
          "data": {
            "text/html": [
              "<div>\n",
              "<style scoped>\n",
              "    .dataframe tbody tr th:only-of-type {\n",
              "        vertical-align: middle;\n",
              "    }\n",
              "\n",
              "    .dataframe tbody tr th {\n",
              "        vertical-align: top;\n",
              "    }\n",
              "\n",
              "    .dataframe thead th {\n",
              "        text-align: right;\n",
              "    }\n",
              "</style>\n",
              "<table border=\"1\" class=\"dataframe\">\n",
              "  <thead>\n",
              "    <tr style=\"text-align: right;\">\n",
              "      <th></th>\n",
              "      <th>data_ref</th>\n",
              "      <th>customer_id</th>\n",
              "      <th>receita_1m</th>\n",
              "      <th>qtde_pedidos_1m</th>\n",
              "      <th>recencia</th>\n",
              "      <th>churn_next_month</th>\n",
              "    </tr>\n",
              "  </thead>\n",
              "  <tbody>\n",
              "    <tr>\n",
              "      <th>0</th>\n",
              "      <td>2019-07-01 00:00:00+00:00</td>\n",
              "      <td>0001a8e61d8b08ad436e8e6f4adeb399b88df962c72d9d...</td>\n",
              "      <td>102.0</td>\n",
              "      <td>2</td>\n",
              "      <td>15</td>\n",
              "      <td>1</td>\n",
              "    </tr>\n",
              "    <tr>\n",
              "      <th>1</th>\n",
              "      <td>2019-07-01 00:00:00+00:00</td>\n",
              "      <td>0001a9f97d01d2696cf70c7657ee2d039388d691720ff9...</td>\n",
              "      <td>52.0</td>\n",
              "      <td>1</td>\n",
              "      <td>19</td>\n",
              "      <td>1</td>\n",
              "    </tr>\n",
              "    <tr>\n",
              "      <th>2</th>\n",
              "      <td>2019-07-01 00:00:00+00:00</td>\n",
              "      <td>0004720dc16aed1f98fd79f59736170e0d686199cd9ae5...</td>\n",
              "      <td>59.3</td>\n",
              "      <td>1</td>\n",
              "      <td>29</td>\n",
              "      <td>1</td>\n",
              "    </tr>\n",
              "    <tr>\n",
              "      <th>3</th>\n",
              "      <td>2019-07-01 00:00:00+00:00</td>\n",
              "      <td>0006a32816a3af172048de7db87c97c4c8c7ad7e6385fa...</td>\n",
              "      <td>95.2</td>\n",
              "      <td>2</td>\n",
              "      <td>1</td>\n",
              "      <td>1</td>\n",
              "    </tr>\n",
              "    <tr>\n",
              "      <th>4</th>\n",
              "      <td>2019-07-01 00:00:00+00:00</td>\n",
              "      <td>00081913eb21cd12aecc831bda704f8c6482723b55e664...</td>\n",
              "      <td>27.0</td>\n",
              "      <td>1</td>\n",
              "      <td>13</td>\n",
              "      <td>1</td>\n",
              "    </tr>\n",
              "  </tbody>\n",
              "</table>\n",
              "</div>"
            ],
            "text/plain": [
              "                   data_ref  ... churn_next_month\n",
              "0 2019-07-01 00:00:00+00:00  ...                1\n",
              "1 2019-07-01 00:00:00+00:00  ...                1\n",
              "2 2019-07-01 00:00:00+00:00  ...                1\n",
              "3 2019-07-01 00:00:00+00:00  ...                1\n",
              "4 2019-07-01 00:00:00+00:00  ...                1\n",
              "\n",
              "[5 rows x 6 columns]"
            ]
          },
          "metadata": {},
          "execution_count": 14
        }
      ]
    },
    {
      "cell_type": "markdown",
      "metadata": {
        "id": "LZ0KCidHKELP"
      },
      "source": [
        "**<span style=\"color:blue\">(1.0 pontos)</span> `Q11`** Verifique a distribuição da coluna `churn`."
      ]
    },
    {
      "cell_type": "code",
      "metadata": {
        "id": "X2HQabAXZBDh",
        "colab": {
          "base_uri": "https://localhost:8080/"
        },
        "outputId": "c6ffc8d6-699c-45f0-a4b8-9cafd5455f43"
      },
      "source": [
        "df_abt_train['churn_next_month'].value_counts(normalize=True)"
      ],
      "execution_count": null,
      "outputs": [
        {
          "output_type": "execute_result",
          "data": {
            "text/plain": [
              "0    0.613086\n",
              "1    0.386914\n",
              "Name: churn_next_month, dtype: float64"
            ]
          },
          "metadata": {},
          "execution_count": 15
        }
      ]
    },
    {
      "cell_type": "markdown",
      "metadata": {
        "id": "02NkJo_nLFGh"
      },
      "source": [
        "<img align=\"left\" width=\"20\" src=\"http://dinomagri.com/imgs/checkpoint.png\" /> &nbsp; **CHECKPOINT** - O DataFrame `df_abt_train` deverá conter exatamente `(30079, 6)`. E a distribuição da variável target deve ser `0.613086` para não-churn (0) e `0.386914` para churn (1)."
      ]
    },
    {
      "cell_type": "markdown",
      "metadata": {
        "id": "9w1v4ps7kpMT"
      },
      "source": [
        "# Modelagem (14 pontos)"
      ]
    },
    {
      "cell_type": "markdown",
      "metadata": {
        "id": "Vs9eiX7phZML"
      },
      "source": [
        "**<span style=\"color:blue\">(2 pontos)</span> `Q12`** Crie uma ABT Out of Time avançando 1 mês no código anterior. Porque devemos criar uma ABT Out of Time?\n",
        "\n",
        "Utilize o mês 08 para criar essa ABT."
      ]
    },
    {
      "cell_type": "code",
      "metadata": {
        "id": "Ym4UauaBZDD7",
        "colab": {
          "base_uri": "https://localhost:8080/"
        },
        "outputId": "9899b2a0-1305-49f5-c6be-2c602596d74b"
      },
      "source": [
        "df_features_oot=(\n",
        "    df_orders\n",
        "        .query('order_timestamp_local >= \"2019-07-01\" & order_timestamp_local < \"2019-08-01\"')\n",
        ")\n",
        "df_target_oot=(\n",
        "    df_orders\n",
        "        .query('order_timestamp_local >= \"2019-08-01\" & order_timestamp_local < \"2019-09-01\"')\n",
        "        .filter(['customer_id'])\n",
        "        .drop_duplicates()\n",
        ")\n",
        "\n",
        "\n",
        "df_abt_oot=(\n",
        "    df_features_oot\n",
        "    .groupby('customer_id')\n",
        "    .agg(\n",
        "         receita_1m = ('paid_amount', 'sum'),\n",
        "         qtde_pedidos_1m = ('order_id', 'nunique'),\n",
        "         data_ultima_venda = ('order_timestamp_local', 'max')  \n",
        ").reset_index()\n",
        ")\n",
        "\n",
        "\n",
        "df_abt_oot['data_ultima_venda'] = pd.to_datetime(df_abt_oot['data_ultima_venda'], utc=True)\n",
        "df_abt_oot=(\n",
        "    df_abt_oot\n",
        "    .assign(data_ref = pd.to_datetime('2019-08-01', utc=True))\n",
        "    .assign(recencia = lambda df_em_memoria: (df_em_memoria['data_ref'] - df_em_memoria['data_ultima_venda']).dt.days)\n",
        "    .filter(['data_ref','customer_id', 'receita_1m', 'qtde_pedidos_1m','recencia'])\n",
        ")\n",
        "\n",
        "df_abt_oot =(\n",
        "    df_abt_oot\n",
        "    .merge(df_target_oot, how='left', on='customer_id', indicator=True)\n",
        ")\n",
        "\n",
        "\n",
        "df_abt_oot =(\n",
        "    df_abt_oot\n",
        "    .assign(churn_next_month = lambda df: np.where(df['_merge'] == \"left_only\", 1, 0))\n",
        "    .filter(['data_ref','customer_id', 'receita_1m', 'qtde_pedidos_1m','recencia','churn_next_month'])\n",
        ")\n",
        "    \n",
        "df_abt_oot.shape"
      ],
      "execution_count": null,
      "outputs": [
        {
          "output_type": "execute_result",
          "data": {
            "text/plain": [
              "(18441, 6)"
            ]
          },
          "metadata": {},
          "execution_count": 16
        }
      ]
    },
    {
      "cell_type": "code",
      "metadata": {
        "colab": {
          "base_uri": "https://localhost:8080/",
          "height": 206
        },
        "id": "A8XhU_bbJopH",
        "outputId": "aec43685-98dc-4e05-c7f5-2f8c8e058137"
      },
      "source": [
        "df_abt_oot.head()"
      ],
      "execution_count": null,
      "outputs": [
        {
          "output_type": "execute_result",
          "data": {
            "text/html": [
              "<div>\n",
              "<style scoped>\n",
              "    .dataframe tbody tr th:only-of-type {\n",
              "        vertical-align: middle;\n",
              "    }\n",
              "\n",
              "    .dataframe tbody tr th {\n",
              "        vertical-align: top;\n",
              "    }\n",
              "\n",
              "    .dataframe thead th {\n",
              "        text-align: right;\n",
              "    }\n",
              "</style>\n",
              "<table border=\"1\" class=\"dataframe\">\n",
              "  <thead>\n",
              "    <tr style=\"text-align: right;\">\n",
              "      <th></th>\n",
              "      <th>data_ref</th>\n",
              "      <th>customer_id</th>\n",
              "      <th>receita_1m</th>\n",
              "      <th>qtde_pedidos_1m</th>\n",
              "      <th>recencia</th>\n",
              "      <th>churn_next_month</th>\n",
              "    </tr>\n",
              "  </thead>\n",
              "  <tbody>\n",
              "    <tr>\n",
              "      <th>0</th>\n",
              "      <td>2019-08-01 00:00:00+00:00</td>\n",
              "      <td>000a1fac4f7a67cc3f2e7667167597cb2c9a1b9edafe18...</td>\n",
              "      <td>85.89</td>\n",
              "      <td>3</td>\n",
              "      <td>11</td>\n",
              "      <td>0</td>\n",
              "    </tr>\n",
              "    <tr>\n",
              "      <th>1</th>\n",
              "      <td>2019-08-01 00:00:00+00:00</td>\n",
              "      <td>0014b7013c66a05d0b5ce0687d614ac220d3ae1af398d2...</td>\n",
              "      <td>211.96</td>\n",
              "      <td>5</td>\n",
              "      <td>11</td>\n",
              "      <td>0</td>\n",
              "    </tr>\n",
              "    <tr>\n",
              "      <th>2</th>\n",
              "      <td>2019-08-01 00:00:00+00:00</td>\n",
              "      <td>00150a9d8edc32b5ac2c1a8089e5615dbd297cea2c6cba...</td>\n",
              "      <td>164.60</td>\n",
              "      <td>2</td>\n",
              "      <td>14</td>\n",
              "      <td>0</td>\n",
              "    </tr>\n",
              "    <tr>\n",
              "      <th>3</th>\n",
              "      <td>2019-08-01 00:00:00+00:00</td>\n",
              "      <td>00197c67cab97917c3e147877fc36ae9e9208f4bd578ca...</td>\n",
              "      <td>196.20</td>\n",
              "      <td>5</td>\n",
              "      <td>2</td>\n",
              "      <td>0</td>\n",
              "    </tr>\n",
              "    <tr>\n",
              "      <th>4</th>\n",
              "      <td>2019-08-01 00:00:00+00:00</td>\n",
              "      <td>001b8d424e1aa9b762831ccce74a6b4c648a83f2d8a239...</td>\n",
              "      <td>238.68</td>\n",
              "      <td>8</td>\n",
              "      <td>0</td>\n",
              "      <td>0</td>\n",
              "    </tr>\n",
              "  </tbody>\n",
              "</table>\n",
              "</div>"
            ],
            "text/plain": [
              "                   data_ref  ... churn_next_month\n",
              "0 2019-08-01 00:00:00+00:00  ...                0\n",
              "1 2019-08-01 00:00:00+00:00  ...                0\n",
              "2 2019-08-01 00:00:00+00:00  ...                0\n",
              "3 2019-08-01 00:00:00+00:00  ...                0\n",
              "4 2019-08-01 00:00:00+00:00  ...                0\n",
              "\n",
              "[5 rows x 6 columns]"
            ]
          },
          "metadata": {},
          "execution_count": 17
        }
      ]
    },
    {
      "cell_type": "code",
      "metadata": {
        "colab": {
          "base_uri": "https://localhost:8080/"
        },
        "id": "GEqQI7nncysx",
        "outputId": "398a57b2-21d5-4330-9c8f-a7105bcce03e"
      },
      "source": [
        "df_abt_oot['churn_next_month'].value_counts(normalize=True)"
      ],
      "execution_count": null,
      "outputs": [
        {
          "output_type": "execute_result",
          "data": {
            "text/plain": [
              "0    0.759558\n",
              "1    0.240442\n",
              "Name: churn_next_month, dtype: float64"
            ]
          },
          "metadata": {},
          "execution_count": 18
        }
      ]
    },
    {
      "cell_type": "markdown",
      "metadata": {
        "id": "GJlUlDzKNKwG"
      },
      "source": [
        "<img align=\"left\" width=\"20\" src=\"http://dinomagri.com/imgs/checkpoint.png\" /> &nbsp; **CHECKPOINT** - O DataFrame `df_abt_oot` deverá conter exatamente `(18441, 6)`. E a distribuição da variável target deve ser `0.759558` para não-churn (0) e `0.240442` para churn (1)."
      ]
    },
    {
      "cell_type": "markdown",
      "metadata": {
        "id": "53Wh4cf8hwdI"
      },
      "source": [
        "**<span style=\"color:blue\">(1 ponto)</span> `Q13`** Faça um estudo de valores faltantes tanto na `df_abt_train` e `df_abt_oot`. "
      ]
    },
    {
      "cell_type": "code",
      "metadata": {
        "id": "TW_DJH_zZGj9",
        "colab": {
          "base_uri": "https://localhost:8080/"
        },
        "outputId": "c2e2f03f-c7a9-4d14-8747-b9cb16436446"
      },
      "source": [
        "df_abt_train.isnull().sum()"
      ],
      "execution_count": null,
      "outputs": [
        {
          "output_type": "execute_result",
          "data": {
            "text/plain": [
              "data_ref            0\n",
              "customer_id         0\n",
              "receita_1m          0\n",
              "qtde_pedidos_1m     0\n",
              "recencia            0\n",
              "churn_next_month    0\n",
              "dtype: int64"
            ]
          },
          "metadata": {},
          "execution_count": 19
        }
      ]
    },
    {
      "cell_type": "code",
      "metadata": {
        "colab": {
          "base_uri": "https://localhost:8080/"
        },
        "id": "e3o9b6AAic-j",
        "outputId": "9786938b-eb9c-4a26-b853-455b702185ac"
      },
      "source": [
        "df_abt_oot.isnull().sum()"
      ],
      "execution_count": null,
      "outputs": [
        {
          "output_type": "execute_result",
          "data": {
            "text/plain": [
              "data_ref            0\n",
              "customer_id         0\n",
              "receita_1m          0\n",
              "qtde_pedidos_1m     0\n",
              "recencia            0\n",
              "churn_next_month    0\n",
              "dtype: int64"
            ]
          },
          "metadata": {},
          "execution_count": 20
        }
      ]
    },
    {
      "cell_type": "markdown",
      "metadata": {
        "id": "hr2uef-jiF7O"
      },
      "source": [
        "**<span style=\"color:blue\">(1 ponto)</span> `Q14`**  Treine uma árvore de decisão na base de treino usando Stratified K-Fold e avalie utilizando a métrica **AUC** na base Out of Time.\n",
        "\n",
        "Utilize o parametro `random_state=42`"
      ]
    },
    {
      "cell_type": "code",
      "metadata": {
        "id": "iLXYLfOmiQyu",
        "colab": {
          "base_uri": "https://localhost:8080/"
        },
        "outputId": "2753b653-5552-4f6b-95ca-5e2e02884bc8"
      },
      "source": [
        "!pip install feature-engine==1.0.2"
      ],
      "execution_count": null,
      "outputs": [
        {
          "output_type": "stream",
          "name": "stdout",
          "text": [
            "Collecting feature-engine==1.0.2\n",
            "  Downloading feature_engine-1.0.2-py2.py3-none-any.whl (152 kB)\n",
            "\u001b[?25l\r\u001b[K     |██▏                             | 10 kB 18.4 MB/s eta 0:00:01\r\u001b[K     |████▎                           | 20 kB 24.1 MB/s eta 0:00:01\r\u001b[K     |██████▌                         | 30 kB 28.9 MB/s eta 0:00:01\r\u001b[K     |████████▋                       | 40 kB 30.5 MB/s eta 0:00:01\r\u001b[K     |██████████▊                     | 51 kB 8.9 MB/s eta 0:00:01\r\u001b[K     |█████████████                   | 61 kB 9.3 MB/s eta 0:00:01\r\u001b[K     |███████████████                 | 71 kB 7.6 MB/s eta 0:00:01\r\u001b[K     |█████████████████▏              | 81 kB 8.5 MB/s eta 0:00:01\r\u001b[K     |███████████████████▍            | 92 kB 8.5 MB/s eta 0:00:01\r\u001b[K     |█████████████████████▌          | 102 kB 7.7 MB/s eta 0:00:01\r\u001b[K     |███████████████████████▋        | 112 kB 7.7 MB/s eta 0:00:01\r\u001b[K     |█████████████████████████▉      | 122 kB 7.7 MB/s eta 0:00:01\r\u001b[K     |████████████████████████████    | 133 kB 7.7 MB/s eta 0:00:01\r\u001b[K     |██████████████████████████████  | 143 kB 7.7 MB/s eta 0:00:01\r\u001b[K     |████████████████████████████████| 152 kB 7.7 MB/s \n",
            "\u001b[?25hRequirement already satisfied: scipy>=1.4.1 in /usr/local/lib/python3.7/dist-packages (from feature-engine==1.0.2) (1.4.1)\n",
            "Collecting statsmodels>=0.11.1\n",
            "  Downloading statsmodels-0.13.1-cp37-cp37m-manylinux_2_17_x86_64.manylinux2014_x86_64.whl (9.8 MB)\n",
            "\u001b[K     |████████████████████████████████| 9.8 MB 52.6 MB/s \n",
            "\u001b[?25hRequirement already satisfied: scikit-learn>=0.22.2 in /usr/local/lib/python3.7/dist-packages (from feature-engine==1.0.2) (1.0.1)\n",
            "Requirement already satisfied: numpy>=1.18.2 in /usr/local/lib/python3.7/dist-packages (from feature-engine==1.0.2) (1.19.5)\n",
            "Requirement already satisfied: pandas>=1.0.3 in /usr/local/lib/python3.7/dist-packages (from feature-engine==1.0.2) (1.1.5)\n",
            "Requirement already satisfied: python-dateutil>=2.7.3 in /usr/local/lib/python3.7/dist-packages (from pandas>=1.0.3->feature-engine==1.0.2) (2.8.2)\n",
            "Requirement already satisfied: pytz>=2017.2 in /usr/local/lib/python3.7/dist-packages (from pandas>=1.0.3->feature-engine==1.0.2) (2018.9)\n",
            "Requirement already satisfied: six>=1.5 in /usr/local/lib/python3.7/dist-packages (from python-dateutil>=2.7.3->pandas>=1.0.3->feature-engine==1.0.2) (1.15.0)\n",
            "Requirement already satisfied: threadpoolctl>=2.0.0 in /usr/local/lib/python3.7/dist-packages (from scikit-learn>=0.22.2->feature-engine==1.0.2) (3.0.0)\n",
            "Requirement already satisfied: joblib>=0.11 in /usr/local/lib/python3.7/dist-packages (from scikit-learn>=0.22.2->feature-engine==1.0.2) (1.1.0)\n",
            "Requirement already satisfied: patsy>=0.5.2 in /usr/local/lib/python3.7/dist-packages (from statsmodels>=0.11.1->feature-engine==1.0.2) (0.5.2)\n",
            "Installing collected packages: statsmodels, feature-engine\n",
            "  Attempting uninstall: statsmodels\n",
            "    Found existing installation: statsmodels 0.10.2\n",
            "    Uninstalling statsmodels-0.10.2:\n",
            "      Successfully uninstalled statsmodels-0.10.2\n",
            "Successfully installed feature-engine-1.0.2 statsmodels-0.13.1\n"
          ]
        }
      ]
    },
    {
      "cell_type": "code",
      "metadata": {
        "id": "4eAN0URRCNvC"
      },
      "source": [
        "from feature_engine.imputation import ArbitraryNumberImputer\n",
        "from sklearn.pipeline import Pipeline\n",
        "from sklearn.tree import DecisionTreeClassifier\n",
        "from sklearn.model_selection import StratifiedKFold\n",
        "from sklearn.model_selection import cross_val_score\n",
        "from sklearn.metrics import accuracy_score, precision_score, recall_score, f1_score, roc_auc_score\n",
        "\n",
        "# Utilize as seguintes variáveis:\n",
        "target = 'churn_next_month'\n",
        "\n",
        "key_vars = ['data_ref', 'customer_id']\n",
        "num_vars = ['receita_1m', 'qtde_pedidos_1m', 'recencia']\n",
        "cat_vars = [] # não temos variáveis categóricas\n",
        "features = num_vars + cat_vars\n",
        "\n",
        "X_train = df_abt_train[features]\n",
        "y_train = df_abt_train[target]\n",
        "\n",
        "X_oot = df_abt_oot[features]\n",
        "y_oot = df_abt_oot[target]"
      ],
      "execution_count": null,
      "outputs": []
    },
    {
      "cell_type": "code",
      "metadata": {
        "id": "GKsn5g_4tOnX"
      },
      "source": [
        "def avaliar_tecnica(cv_results):\n",
        "  mean_accuracy = np.array(cv_results).mean()\n",
        "  std_accuracy  = np.array(cv_results).std()\n",
        "  print(f\"Acurácia Média com CV: {mean_accuracy:.3f}\")\n",
        "  print(f\"Desvio-Padrão com CV: {std_accuracy:.3f}\")"
      ],
      "execution_count": null,
      "outputs": []
    },
    {
      "cell_type": "code",
      "metadata": {
        "id": "uAM7geBEBm1N",
        "colab": {
          "base_uri": "https://localhost:8080/"
        },
        "outputId": "9112a4f2-d9f1-44a9-9fc3-95f10263b14f"
      },
      "source": [
        "from sklearn.model_selection import StratifiedKFold\n",
        "\n",
        "dt_pipeline = Pipeline(steps=[\n",
        "                ('DTC', DecisionTreeClassifier(random_state=42))\n",
        "])\n",
        "\n",
        "skf = StratifiedKFold(n_splits=5, shuffle=True, random_state=42)\n",
        "\n",
        "cv_resultados = cross_val_score(estimator=dt_pipeline, X=X_train, y=y_train, cv=skf, scoring='roc_auc')\n",
        "print(cv_resultados)\n",
        "print(cv_resultados.mean())\n",
        "print(avaliar_tecnica(cv_resultados))"
      ],
      "execution_count": null,
      "outputs": [
        {
          "output_type": "stream",
          "name": "stdout",
          "text": [
            "[0.61400277 0.60508349 0.60132891 0.6330274  0.6202931 ]\n",
            "0.6147471340887323\n",
            "Acurácia Média com CV: 0.615\n",
            "Desvio-Padrão com CV: 0.011\n",
            "None\n"
          ]
        }
      ]
    },
    {
      "cell_type": "code",
      "metadata": {
        "colab": {
          "base_uri": "https://localhost:8080/"
        },
        "id": "WpwVQXWyopwf",
        "outputId": "6982fe10-966c-462a-9cf9-0fce6ec11f77"
      },
      "source": [
        "dt_pipeline.fit(X_train, y_train)\n",
        "y_proba= dt_pipeline.predict_proba(X_oot)[:,1]\n",
        "roc_auc_score(y_oot,y_proba)"
      ],
      "execution_count": null,
      "outputs": [
        {
          "output_type": "execute_result",
          "data": {
            "text/plain": [
              "0.5942238945608709"
            ]
          },
          "metadata": {},
          "execution_count": 25
        }
      ]
    },
    {
      "cell_type": "code",
      "metadata": {
        "colab": {
          "base_uri": "https://localhost:8080/"
        },
        "id": "mY3O4q5jC8Eq",
        "outputId": "9ce2565b-b231-49c9-bd40-e42254d10620"
      },
      "source": [
        "dt_pipeline.predict(X_oot)"
      ],
      "execution_count": null,
      "outputs": [
        {
          "output_type": "execute_result",
          "data": {
            "text/plain": [
              "array([1, 0, 1, ..., 1, 1, 1])"
            ]
          },
          "metadata": {},
          "execution_count": 26
        }
      ]
    },
    {
      "cell_type": "markdown",
      "metadata": {
        "id": "vFXJ1dFPiRcC"
      },
      "source": [
        "**<span style=\"color:blue\">(1 ponto)</span> `Q15`** Treine uma Random Forest na base de treino usando Stratified K-Fold e avalie utilizando a métrica **AUC** na base Out of Time.\n",
        "\n",
        "Utilize o parametro `random_state=42`"
      ]
    },
    {
      "cell_type": "code",
      "metadata": {
        "id": "C1s2mWGBZMdc",
        "colab": {
          "base_uri": "https://localhost:8080/"
        },
        "outputId": "d2da06c6-a32b-4083-973f-2060e3afe731"
      },
      "source": [
        "from sklearn.ensemble import RandomForestClassifier\n",
        "\n",
        "rf_pipeline = Pipeline(steps=[\n",
        "                ('random_forest', RandomForestClassifier(random_state=42))\n",
        "])\n",
        "\n",
        "skf = StratifiedKFold(n_splits=5, shuffle=True, random_state=42)\n",
        "\n",
        "cv_resultados = cross_val_score(estimator=rf_pipeline, X=X_train, y=y_train, cv=skf, scoring='roc_auc')\n",
        "print(cv_resultados)\n",
        "print(cv_resultados.mean())\n",
        "print(avaliar_tecnica(cv_resultados))"
      ],
      "execution_count": null,
      "outputs": [
        {
          "output_type": "stream",
          "name": "stdout",
          "text": [
            "[0.67901574 0.67208861 0.6670183  0.68945021 0.68106308]\n",
            "0.677727188074699\n",
            "Acurácia Média com CV: 0.678\n",
            "Desvio-Padrão com CV: 0.008\n",
            "None\n"
          ]
        }
      ]
    },
    {
      "cell_type": "code",
      "metadata": {
        "id": "ORxB1oGFsAux",
        "colab": {
          "base_uri": "https://localhost:8080/"
        },
        "outputId": "24e0a4a5-f322-48e5-a0cf-3f68c9849dea"
      },
      "source": [
        "rf_pipeline.fit(X_train, y_train)\n",
        "y_proba= rf_pipeline.predict_proba(X_oot)[:,-1]\n",
        "roc_auc_score(y_oot,y_proba)"
      ],
      "execution_count": null,
      "outputs": [
        {
          "output_type": "execute_result",
          "data": {
            "text/plain": [
              "0.663481166176368"
            ]
          },
          "metadata": {},
          "execution_count": 28
        }
      ]
    },
    {
      "cell_type": "markdown",
      "metadata": {
        "id": "pIM4_-_RijQ5"
      },
      "source": [
        "**<span style=\"color:blue\">(1 ponto)</span> `Q16`** Treine um LGBM na base de treino usando Stratified K-Fold e avalie utilizando a métrica **AUC** na base Out of Time."
      ]
    },
    {
      "cell_type": "code",
      "metadata": {
        "id": "0B5Zt9pkZN7r",
        "colab": {
          "base_uri": "https://localhost:8080/"
        },
        "outputId": "db2b4fef-af85-49cc-9fd5-3501546d552f"
      },
      "source": [
        "from lightgbm import LGBMClassifier\n",
        "\n",
        "lgbm_pipeline = Pipeline(steps=[\n",
        "                ('lgbm', LGBMClassifier(random_state=42))\n",
        "])\n",
        "\n",
        "skf = StratifiedKFold(n_splits=5, shuffle=True, random_state=42)\n",
        "\n",
        "cv_resultados = cross_val_score(estimator=lgbm_pipeline, X=X_train, y=y_train, cv=skf, scoring='roc_auc')\n",
        "print(cv_resultados)\n",
        "print(cv_resultados.mean())\n",
        "print(avaliar_tecnica(cv_resultados))"
      ],
      "execution_count": null,
      "outputs": [
        {
          "output_type": "stream",
          "name": "stdout",
          "text": [
            "[0.75074089 0.75289576 0.74385621 0.7594584  0.75306223]\n",
            "0.752002696969971\n",
            "Acurácia Média com CV: 0.752\n",
            "Desvio-Padrão com CV: 0.005\n",
            "None\n"
          ]
        }
      ]
    },
    {
      "cell_type": "code",
      "metadata": {
        "id": "sRQeqT_Qs1By",
        "colab": {
          "base_uri": "https://localhost:8080/"
        },
        "outputId": "47e51176-b1bb-4091-f3b7-091d33f8922b"
      },
      "source": [
        "lgbm_pipeline.fit(X_train, y_train)\n",
        "y_proba= lgbm_pipeline.predict_proba(X_oot)[:,-1]\n",
        "roc_auc_score(y_oot,y_proba)"
      ],
      "execution_count": null,
      "outputs": [
        {
          "output_type": "execute_result",
          "data": {
            "text/plain": [
              "0.7330607764614375"
            ]
          },
          "metadata": {},
          "execution_count": 30
        }
      ]
    },
    {
      "cell_type": "markdown",
      "metadata": {
        "id": "vza9yD9jisyv"
      },
      "source": [
        "**<span style=\"color:blue\">(1 ponto)</span> `Q17`** Para o melhor algoritmo dos 3 treinados anteriormente (lightgbm), faça um GridSearch para encontrar um conjunto de hiperparâmetros mais otimizado (lembre de otimizar a **AUC**).\n",
        "\n",
        "Utilize os seguintes hiperparâmetros:\n",
        "\n",
        "    'lgbm__max_depth': [3, 5, 7, 9],\n",
        "    'lgbm__learning_rate': [0.01, 0.015, 0.025, 0.05, 0.1],\n",
        "    'lgbm__n_estimators': [100, 300, 500]"
      ]
    },
    {
      "cell_type": "code",
      "metadata": {
        "id": "TpN6aUlbZPfF",
        "colab": {
          "base_uri": "https://localhost:8080/"
        },
        "outputId": "a1a9e4e1-58ce-425d-a699-2d9035dd66a0"
      },
      "source": [
        "from sklearn.model_selection import GridSearchCV\n",
        "\n",
        "parameters = {\n",
        "    'lgbm__max_depth': [3, 5, 7, 9],\n",
        "    'lgbm__learning_rate': [0.01, 0.015, 0.025, 0.05, 0.1],\n",
        "    'lgbm__n_estimators': [100, 300, 500]\n",
        "}\n",
        "\n",
        "grid_search = GridSearchCV(lgbm_pipeline, parameters, scoring='roc_auc', cv=skf, n_jobs=-1)\n",
        "grid_search.fit(X_train, y_train)"
      ],
      "execution_count": null,
      "outputs": [
        {
          "output_type": "execute_result",
          "data": {
            "text/plain": [
              "GridSearchCV(cv=StratifiedKFold(n_splits=5, random_state=42, shuffle=True),\n",
              "             estimator=Pipeline(steps=[('lgbm',\n",
              "                                        LGBMClassifier(random_state=42))]),\n",
              "             n_jobs=-1,\n",
              "             param_grid={'lgbm__learning_rate': [0.01, 0.015, 0.025, 0.05, 0.1],\n",
              "                         'lgbm__max_depth': [3, 5, 7, 9],\n",
              "                         'lgbm__n_estimators': [100, 300, 500]},\n",
              "             scoring='roc_auc')"
            ]
          },
          "metadata": {},
          "execution_count": 31
        }
      ]
    },
    {
      "cell_type": "code",
      "metadata": {
        "id": "BNIFDsIahHSk",
        "colab": {
          "base_uri": "https://localhost:8080/"
        },
        "outputId": "1d54df19-3515-42fc-9355-26af066a957a"
      },
      "source": [
        "# Recupere o melhor AUC\n",
        "grid_search.best_score_"
      ],
      "execution_count": null,
      "outputs": [
        {
          "output_type": "execute_result",
          "data": {
            "text/plain": [
              "0.7568980823018885"
            ]
          },
          "metadata": {},
          "execution_count": 32
        }
      ]
    },
    {
      "cell_type": "code",
      "metadata": {
        "id": "PcyP8pXzsbDe",
        "colab": {
          "base_uri": "https://localhost:8080/"
        },
        "outputId": "c8ba9a9d-9f9e-47db-8259-8f4029ac9271"
      },
      "source": [
        "# Recupere os hiperparâmetros\n",
        "grid_search.best_params_"
      ],
      "execution_count": null,
      "outputs": [
        {
          "output_type": "execute_result",
          "data": {
            "text/plain": [
              "{'lgbm__learning_rate': 0.05, 'lgbm__max_depth': 3, 'lgbm__n_estimators': 100}"
            ]
          },
          "metadata": {},
          "execution_count": 33
        }
      ]
    },
    {
      "cell_type": "code",
      "metadata": {
        "id": "C8Nnc0tkLWoA",
        "colab": {
          "base_uri": "https://localhost:8080/"
        },
        "outputId": "c433f27e-789d-43fc-8674-4524379f71ea"
      },
      "source": [
        "# avaliando a performando do melhor modelo no grid search na base oot\n",
        "best_model = Pipeline(steps=[\n",
        "            ('numeric_imputer', ArbitraryNumberImputer()),\n",
        "            ('lgbm', LGBMClassifier(learning_rate= 0.05, max_depth= 3, n_estimators= 100, random_state=42))\n",
        "])\n",
        "best_model.fit(X_train, y_train)\n",
        "y_proba= best_model.predict_proba(X_oot)[:,-1]\n",
        "roc_auc_score(y_oot,y_proba)"
      ],
      "execution_count": null,
      "outputs": [
        {
          "output_type": "execute_result",
          "data": {
            "text/plain": [
              "0.7372138323518183"
            ]
          },
          "metadata": {},
          "execution_count": 34
        }
      ]
    },
    {
      "cell_type": "markdown",
      "metadata": {
        "id": "4egl5FzCL4nP"
      },
      "source": [
        "Talvez ainda haja espaço para melhorias na performance do modelo. Lembrando que temos apenas 3 variáveis: `receita_1m`, `qtd_pedidos_1m` e `recencia`. \n",
        "\n",
        "Vamos utilizar a variável `order_shift` para criar mais 10 features para verificar se isso irá ajudar o modelo de Machine Learning a predizer qual cliente irá dar **churn**."
      ]
    },
    {
      "cell_type": "markdown",
      "metadata": {
        "id": "PmNoUI7hi7to"
      },
      "source": [
        "**<span style=\"color:blue\">(1 ponto)</span> `Q18`** Utilize o método `pd.crosstab` com o parâmetro `normalize='index'` nas colunas `customer_id` e `order_shift`. Lembre-se de resetar o indíce.\n",
        "\n",
        "Salve o resultado no DataFrame `df_customer_order_shift_train`.\n",
        "\n",
        "Imprima os 5 primeiros elementos desse DataFrame."
      ]
    },
    {
      "cell_type": "code",
      "metadata": {
        "id": "hD8Su6cgZVUw",
        "colab": {
          "base_uri": "https://localhost:8080/",
          "height": 224
        },
        "outputId": "e548d8e5-71b0-4829-a249-52a222fb621e"
      },
      "source": [
        "df_customer_order_shift_train =(\n",
        "    pd.crosstab(df_features_train['customer_id'], df_features_train['order_shift'], normalize='index')\n",
        ").reset_index()\n",
        "\n",
        "df_customer_order_shift_train.head(5)\n",
        "    "
      ],
      "execution_count": null,
      "outputs": [
        {
          "output_type": "execute_result",
          "data": {
            "text/html": [
              "<div>\n",
              "<style scoped>\n",
              "    .dataframe tbody tr th:only-of-type {\n",
              "        vertical-align: middle;\n",
              "    }\n",
              "\n",
              "    .dataframe tbody tr th {\n",
              "        vertical-align: top;\n",
              "    }\n",
              "\n",
              "    .dataframe thead th {\n",
              "        text-align: right;\n",
              "    }\n",
              "</style>\n",
              "<table border=\"1\" class=\"dataframe\">\n",
              "  <thead>\n",
              "    <tr style=\"text-align: right;\">\n",
              "      <th>order_shift</th>\n",
              "      <th>customer_id</th>\n",
              "      <th>weekday breakfast</th>\n",
              "      <th>weekday dawn</th>\n",
              "      <th>weekday dinner</th>\n",
              "      <th>weekday lunch</th>\n",
              "      <th>weekday snack</th>\n",
              "      <th>weekend breakfast</th>\n",
              "      <th>weekend dawn</th>\n",
              "      <th>weekend dinner</th>\n",
              "      <th>weekend lunch</th>\n",
              "      <th>weekend snack</th>\n",
              "    </tr>\n",
              "  </thead>\n",
              "  <tbody>\n",
              "    <tr>\n",
              "      <th>0</th>\n",
              "      <td>0001a8e61d8b08ad436e8e6f4adeb399b88df962c72d9d...</td>\n",
              "      <td>0.0</td>\n",
              "      <td>0.0</td>\n",
              "      <td>0.5</td>\n",
              "      <td>0.0</td>\n",
              "      <td>0.0</td>\n",
              "      <td>0.0</td>\n",
              "      <td>0.0</td>\n",
              "      <td>0.5</td>\n",
              "      <td>0.0</td>\n",
              "      <td>0.0</td>\n",
              "    </tr>\n",
              "    <tr>\n",
              "      <th>1</th>\n",
              "      <td>0001a9f97d01d2696cf70c7657ee2d039388d691720ff9...</td>\n",
              "      <td>0.0</td>\n",
              "      <td>0.0</td>\n",
              "      <td>0.0</td>\n",
              "      <td>1.0</td>\n",
              "      <td>0.0</td>\n",
              "      <td>0.0</td>\n",
              "      <td>0.0</td>\n",
              "      <td>0.0</td>\n",
              "      <td>0.0</td>\n",
              "      <td>0.0</td>\n",
              "    </tr>\n",
              "    <tr>\n",
              "      <th>2</th>\n",
              "      <td>0004720dc16aed1f98fd79f59736170e0d686199cd9ae5...</td>\n",
              "      <td>0.0</td>\n",
              "      <td>0.0</td>\n",
              "      <td>0.0</td>\n",
              "      <td>0.0</td>\n",
              "      <td>0.0</td>\n",
              "      <td>0.0</td>\n",
              "      <td>0.0</td>\n",
              "      <td>0.0</td>\n",
              "      <td>1.0</td>\n",
              "      <td>0.0</td>\n",
              "    </tr>\n",
              "    <tr>\n",
              "      <th>3</th>\n",
              "      <td>0006a32816a3af172048de7db87c97c4c8c7ad7e6385fa...</td>\n",
              "      <td>0.0</td>\n",
              "      <td>0.0</td>\n",
              "      <td>0.0</td>\n",
              "      <td>0.0</td>\n",
              "      <td>0.0</td>\n",
              "      <td>0.0</td>\n",
              "      <td>0.5</td>\n",
              "      <td>0.5</td>\n",
              "      <td>0.0</td>\n",
              "      <td>0.0</td>\n",
              "    </tr>\n",
              "    <tr>\n",
              "      <th>4</th>\n",
              "      <td>00081913eb21cd12aecc831bda704f8c6482723b55e664...</td>\n",
              "      <td>0.0</td>\n",
              "      <td>0.0</td>\n",
              "      <td>1.0</td>\n",
              "      <td>0.0</td>\n",
              "      <td>0.0</td>\n",
              "      <td>0.0</td>\n",
              "      <td>0.0</td>\n",
              "      <td>0.0</td>\n",
              "      <td>0.0</td>\n",
              "      <td>0.0</td>\n",
              "    </tr>\n",
              "  </tbody>\n",
              "</table>\n",
              "</div>"
            ],
            "text/plain": [
              "order_shift                                        customer_id  ...  weekend snack\n",
              "0            0001a8e61d8b08ad436e8e6f4adeb399b88df962c72d9d...  ...            0.0\n",
              "1            0001a9f97d01d2696cf70c7657ee2d039388d691720ff9...  ...            0.0\n",
              "2            0004720dc16aed1f98fd79f59736170e0d686199cd9ae5...  ...            0.0\n",
              "3            0006a32816a3af172048de7db87c97c4c8c7ad7e6385fa...  ...            0.0\n",
              "4            00081913eb21cd12aecc831bda704f8c6482723b55e664...  ...            0.0\n",
              "\n",
              "[5 rows x 11 columns]"
            ]
          },
          "metadata": {},
          "execution_count": 35
        }
      ]
    },
    {
      "cell_type": "markdown",
      "metadata": {
        "id": "iMve7nEqzUSD"
      },
      "source": [
        "**<span style=\"color:blue\">(1 ponto)</span> `Q19`** Faça o merge com a `df_abt_train` com os seguintes parâmetros:\n",
        "\n",
        "- `how='left'`\n",
        "- `on='customer_id'`\n",
        "\n",
        "Salve o DataFrame resultante na mesma variável `df_abt_train`.\n",
        "\n",
        "Imprima as 5 primeiras linhas."
      ]
    },
    {
      "cell_type": "code",
      "metadata": {
        "id": "XMQWLwbAZWPO",
        "colab": {
          "base_uri": "https://localhost:8080/",
          "height": 330
        },
        "outputId": "f32d7091-9b1d-4ccb-c10d-1eded008cff7"
      },
      "source": [
        "df_abt_train =(\n",
        "    df_abt_train\n",
        "    .merge(df_customer_order_shift_train, how='left', on='customer_id')\n",
        ")\n",
        "df_abt_train.head(5)"
      ],
      "execution_count": null,
      "outputs": [
        {
          "output_type": "execute_result",
          "data": {
            "text/html": [
              "<div>\n",
              "<style scoped>\n",
              "    .dataframe tbody tr th:only-of-type {\n",
              "        vertical-align: middle;\n",
              "    }\n",
              "\n",
              "    .dataframe tbody tr th {\n",
              "        vertical-align: top;\n",
              "    }\n",
              "\n",
              "    .dataframe thead th {\n",
              "        text-align: right;\n",
              "    }\n",
              "</style>\n",
              "<table border=\"1\" class=\"dataframe\">\n",
              "  <thead>\n",
              "    <tr style=\"text-align: right;\">\n",
              "      <th></th>\n",
              "      <th>data_ref</th>\n",
              "      <th>customer_id</th>\n",
              "      <th>receita_1m</th>\n",
              "      <th>qtde_pedidos_1m</th>\n",
              "      <th>recencia</th>\n",
              "      <th>churn_next_month</th>\n",
              "      <th>weekday breakfast</th>\n",
              "      <th>weekday dawn</th>\n",
              "      <th>weekday dinner</th>\n",
              "      <th>weekday lunch</th>\n",
              "      <th>weekday snack</th>\n",
              "      <th>weekend breakfast</th>\n",
              "      <th>weekend dawn</th>\n",
              "      <th>weekend dinner</th>\n",
              "      <th>weekend lunch</th>\n",
              "      <th>weekend snack</th>\n",
              "    </tr>\n",
              "  </thead>\n",
              "  <tbody>\n",
              "    <tr>\n",
              "      <th>0</th>\n",
              "      <td>2019-07-01 00:00:00+00:00</td>\n",
              "      <td>0001a8e61d8b08ad436e8e6f4adeb399b88df962c72d9d...</td>\n",
              "      <td>102.0</td>\n",
              "      <td>2</td>\n",
              "      <td>15</td>\n",
              "      <td>1</td>\n",
              "      <td>0.0</td>\n",
              "      <td>0.0</td>\n",
              "      <td>0.5</td>\n",
              "      <td>0.0</td>\n",
              "      <td>0.0</td>\n",
              "      <td>0.0</td>\n",
              "      <td>0.0</td>\n",
              "      <td>0.5</td>\n",
              "      <td>0.0</td>\n",
              "      <td>0.0</td>\n",
              "    </tr>\n",
              "    <tr>\n",
              "      <th>1</th>\n",
              "      <td>2019-07-01 00:00:00+00:00</td>\n",
              "      <td>0001a9f97d01d2696cf70c7657ee2d039388d691720ff9...</td>\n",
              "      <td>52.0</td>\n",
              "      <td>1</td>\n",
              "      <td>19</td>\n",
              "      <td>1</td>\n",
              "      <td>0.0</td>\n",
              "      <td>0.0</td>\n",
              "      <td>0.0</td>\n",
              "      <td>1.0</td>\n",
              "      <td>0.0</td>\n",
              "      <td>0.0</td>\n",
              "      <td>0.0</td>\n",
              "      <td>0.0</td>\n",
              "      <td>0.0</td>\n",
              "      <td>0.0</td>\n",
              "    </tr>\n",
              "    <tr>\n",
              "      <th>2</th>\n",
              "      <td>2019-07-01 00:00:00+00:00</td>\n",
              "      <td>0004720dc16aed1f98fd79f59736170e0d686199cd9ae5...</td>\n",
              "      <td>59.3</td>\n",
              "      <td>1</td>\n",
              "      <td>29</td>\n",
              "      <td>1</td>\n",
              "      <td>0.0</td>\n",
              "      <td>0.0</td>\n",
              "      <td>0.0</td>\n",
              "      <td>0.0</td>\n",
              "      <td>0.0</td>\n",
              "      <td>0.0</td>\n",
              "      <td>0.0</td>\n",
              "      <td>0.0</td>\n",
              "      <td>1.0</td>\n",
              "      <td>0.0</td>\n",
              "    </tr>\n",
              "    <tr>\n",
              "      <th>3</th>\n",
              "      <td>2019-07-01 00:00:00+00:00</td>\n",
              "      <td>0006a32816a3af172048de7db87c97c4c8c7ad7e6385fa...</td>\n",
              "      <td>95.2</td>\n",
              "      <td>2</td>\n",
              "      <td>1</td>\n",
              "      <td>1</td>\n",
              "      <td>0.0</td>\n",
              "      <td>0.0</td>\n",
              "      <td>0.0</td>\n",
              "      <td>0.0</td>\n",
              "      <td>0.0</td>\n",
              "      <td>0.0</td>\n",
              "      <td>0.5</td>\n",
              "      <td>0.5</td>\n",
              "      <td>0.0</td>\n",
              "      <td>0.0</td>\n",
              "    </tr>\n",
              "    <tr>\n",
              "      <th>4</th>\n",
              "      <td>2019-07-01 00:00:00+00:00</td>\n",
              "      <td>00081913eb21cd12aecc831bda704f8c6482723b55e664...</td>\n",
              "      <td>27.0</td>\n",
              "      <td>1</td>\n",
              "      <td>13</td>\n",
              "      <td>1</td>\n",
              "      <td>0.0</td>\n",
              "      <td>0.0</td>\n",
              "      <td>1.0</td>\n",
              "      <td>0.0</td>\n",
              "      <td>0.0</td>\n",
              "      <td>0.0</td>\n",
              "      <td>0.0</td>\n",
              "      <td>0.0</td>\n",
              "      <td>0.0</td>\n",
              "      <td>0.0</td>\n",
              "    </tr>\n",
              "  </tbody>\n",
              "</table>\n",
              "</div>"
            ],
            "text/plain": [
              "                   data_ref  ... weekend snack\n",
              "0 2019-07-01 00:00:00+00:00  ...           0.0\n",
              "1 2019-07-01 00:00:00+00:00  ...           0.0\n",
              "2 2019-07-01 00:00:00+00:00  ...           0.0\n",
              "3 2019-07-01 00:00:00+00:00  ...           0.0\n",
              "4 2019-07-01 00:00:00+00:00  ...           0.0\n",
              "\n",
              "[5 rows x 16 columns]"
            ]
          },
          "metadata": {},
          "execution_count": 36
        }
      ]
    },
    {
      "cell_type": "markdown",
      "metadata": {
        "id": "tmtwebuxz5RW"
      },
      "source": [
        "**<span style=\"color:blue\">(1 ponto)</span> `Q20`** Replique essas duas etapas para a base de OOT.\n",
        "\n",
        "- Crie o DataFrame `df_customer_order_shift_oot` utilizando o comando `pd.crosstab` com o parâmetro `normalize='index'`. Lembre-se de resetar o indice.\n",
        "\n",
        "- Faça o merge com a `df_abt_oot` com os parâmetros `how='left'` e `on='customer_id'`.\n",
        "\n",
        "- Imprime as 5 primeiras linhas do `df_abt_oot`.\n"
      ]
    },
    {
      "cell_type": "code",
      "metadata": {
        "id": "2BvtqkwtZXV9",
        "colab": {
          "base_uri": "https://localhost:8080/",
          "height": 330
        },
        "outputId": "4a86e771-7b39-4064-8335-dba891ae442f"
      },
      "source": [
        "df_customer_order_shift_oot =(\n",
        "    pd.crosstab(df_features_oot['customer_id'], df_features_oot['order_shift'], normalize='index')\n",
        ").reset_index()\n",
        "\n",
        "df_abt_oot =(\n",
        "    df_abt_oot\n",
        "    .merge(df_customer_order_shift_oot, how='left', on='customer_id')\n",
        ")\n",
        "    \n",
        "df_abt_oot.head(5)\n"
      ],
      "execution_count": null,
      "outputs": [
        {
          "output_type": "execute_result",
          "data": {
            "text/html": [
              "<div>\n",
              "<style scoped>\n",
              "    .dataframe tbody tr th:only-of-type {\n",
              "        vertical-align: middle;\n",
              "    }\n",
              "\n",
              "    .dataframe tbody tr th {\n",
              "        vertical-align: top;\n",
              "    }\n",
              "\n",
              "    .dataframe thead th {\n",
              "        text-align: right;\n",
              "    }\n",
              "</style>\n",
              "<table border=\"1\" class=\"dataframe\">\n",
              "  <thead>\n",
              "    <tr style=\"text-align: right;\">\n",
              "      <th></th>\n",
              "      <th>data_ref</th>\n",
              "      <th>customer_id</th>\n",
              "      <th>receita_1m</th>\n",
              "      <th>qtde_pedidos_1m</th>\n",
              "      <th>recencia</th>\n",
              "      <th>churn_next_month</th>\n",
              "      <th>weekday breakfast</th>\n",
              "      <th>weekday dawn</th>\n",
              "      <th>weekday dinner</th>\n",
              "      <th>weekday lunch</th>\n",
              "      <th>weekday snack</th>\n",
              "      <th>weekend breakfast</th>\n",
              "      <th>weekend dawn</th>\n",
              "      <th>weekend dinner</th>\n",
              "      <th>weekend lunch</th>\n",
              "      <th>weekend snack</th>\n",
              "    </tr>\n",
              "  </thead>\n",
              "  <tbody>\n",
              "    <tr>\n",
              "      <th>0</th>\n",
              "      <td>2019-08-01 00:00:00+00:00</td>\n",
              "      <td>000a1fac4f7a67cc3f2e7667167597cb2c9a1b9edafe18...</td>\n",
              "      <td>85.89</td>\n",
              "      <td>3</td>\n",
              "      <td>11</td>\n",
              "      <td>0</td>\n",
              "      <td>0.0</td>\n",
              "      <td>0.0</td>\n",
              "      <td>0.666667</td>\n",
              "      <td>0.0</td>\n",
              "      <td>0.000</td>\n",
              "      <td>0.0</td>\n",
              "      <td>0.0</td>\n",
              "      <td>0.333333</td>\n",
              "      <td>0.0</td>\n",
              "      <td>0.000</td>\n",
              "    </tr>\n",
              "    <tr>\n",
              "      <th>1</th>\n",
              "      <td>2019-08-01 00:00:00+00:00</td>\n",
              "      <td>0014b7013c66a05d0b5ce0687d614ac220d3ae1af398d2...</td>\n",
              "      <td>211.96</td>\n",
              "      <td>5</td>\n",
              "      <td>11</td>\n",
              "      <td>0</td>\n",
              "      <td>0.0</td>\n",
              "      <td>0.0</td>\n",
              "      <td>0.400000</td>\n",
              "      <td>0.0</td>\n",
              "      <td>0.000</td>\n",
              "      <td>0.0</td>\n",
              "      <td>0.0</td>\n",
              "      <td>0.600000</td>\n",
              "      <td>0.0</td>\n",
              "      <td>0.000</td>\n",
              "    </tr>\n",
              "    <tr>\n",
              "      <th>2</th>\n",
              "      <td>2019-08-01 00:00:00+00:00</td>\n",
              "      <td>00150a9d8edc32b5ac2c1a8089e5615dbd297cea2c6cba...</td>\n",
              "      <td>164.60</td>\n",
              "      <td>2</td>\n",
              "      <td>14</td>\n",
              "      <td>0</td>\n",
              "      <td>0.0</td>\n",
              "      <td>0.0</td>\n",
              "      <td>0.000000</td>\n",
              "      <td>0.5</td>\n",
              "      <td>0.000</td>\n",
              "      <td>0.0</td>\n",
              "      <td>0.0</td>\n",
              "      <td>0.500000</td>\n",
              "      <td>0.0</td>\n",
              "      <td>0.000</td>\n",
              "    </tr>\n",
              "    <tr>\n",
              "      <th>3</th>\n",
              "      <td>2019-08-01 00:00:00+00:00</td>\n",
              "      <td>00197c67cab97917c3e147877fc36ae9e9208f4bd578ca...</td>\n",
              "      <td>196.20</td>\n",
              "      <td>5</td>\n",
              "      <td>2</td>\n",
              "      <td>0</td>\n",
              "      <td>0.0</td>\n",
              "      <td>0.0</td>\n",
              "      <td>0.800000</td>\n",
              "      <td>0.0</td>\n",
              "      <td>0.000</td>\n",
              "      <td>0.0</td>\n",
              "      <td>0.0</td>\n",
              "      <td>0.000000</td>\n",
              "      <td>0.0</td>\n",
              "      <td>0.200</td>\n",
              "    </tr>\n",
              "    <tr>\n",
              "      <th>4</th>\n",
              "      <td>2019-08-01 00:00:00+00:00</td>\n",
              "      <td>001b8d424e1aa9b762831ccce74a6b4c648a83f2d8a239...</td>\n",
              "      <td>238.68</td>\n",
              "      <td>8</td>\n",
              "      <td>0</td>\n",
              "      <td>0</td>\n",
              "      <td>0.0</td>\n",
              "      <td>0.0</td>\n",
              "      <td>0.250000</td>\n",
              "      <td>0.5</td>\n",
              "      <td>0.125</td>\n",
              "      <td>0.0</td>\n",
              "      <td>0.0</td>\n",
              "      <td>0.000000</td>\n",
              "      <td>0.0</td>\n",
              "      <td>0.125</td>\n",
              "    </tr>\n",
              "  </tbody>\n",
              "</table>\n",
              "</div>"
            ],
            "text/plain": [
              "                   data_ref  ... weekend snack\n",
              "0 2019-08-01 00:00:00+00:00  ...         0.000\n",
              "1 2019-08-01 00:00:00+00:00  ...         0.000\n",
              "2 2019-08-01 00:00:00+00:00  ...         0.000\n",
              "3 2019-08-01 00:00:00+00:00  ...         0.200\n",
              "4 2019-08-01 00:00:00+00:00  ...         0.125\n",
              "\n",
              "[5 rows x 16 columns]"
            ]
          },
          "metadata": {},
          "execution_count": 37
        }
      ]
    },
    {
      "cell_type": "markdown",
      "metadata": {
        "id": "o6XjzHgutFkt"
      },
      "source": [
        "Criamos mais 10 variáveis tanto na ABT de treino quanto na de teste (OOT). Essas variáveis indicam o percentual de pedidos realizados por cada usuário em um horário específico do dia.\n",
        "\n",
        "- weekday breakfast\n",
        "- weekday dawn\n",
        "- weekday dinner\n",
        "- weekday lunch\n",
        "- weekday snack\n",
        "- weekend breakfast\n",
        "- weekend dawn\n",
        "- weekend dinner\n",
        "- weekend lunch\n",
        "- weekend snack"
      ]
    },
    {
      "cell_type": "code",
      "metadata": {
        "id": "YgC_xDGmQJCu",
        "colab": {
          "base_uri": "https://localhost:8080/"
        },
        "outputId": "e890acaa-a058-4ada-8aa5-44d1ebc32be1"
      },
      "source": [
        "df_abt_train.shape, df_abt_oot.shape"
      ],
      "execution_count": null,
      "outputs": [
        {
          "output_type": "execute_result",
          "data": {
            "text/plain": [
              "((30079, 16), (18441, 16))"
            ]
          },
          "metadata": {},
          "execution_count": 38
        }
      ]
    },
    {
      "cell_type": "markdown",
      "metadata": {
        "id": "BKaBk2yejhqO"
      },
      "source": [
        "**<span style=\"color:blue\">(1 ponto)</span> `Q21`** Temos 13 features, e talvez algumas delas não possuam valor preditivo. Utilize o melhor algoritmo testado até agora, treine e avalie utilizando a métrica **AUC**."
      ]
    },
    {
      "cell_type": "code",
      "metadata": {
        "id": "urqpBps5aYvZ",
        "colab": {
          "base_uri": "https://localhost:8080/"
        },
        "outputId": "487f86e8-e157-40a1-8e22-f92e95c42d95"
      },
      "source": [
        "# Utilize as seguintes variáveis:\n",
        "target = 'churn_next_month'\n",
        "num_vars = ['receita_1m', 'qtde_pedidos_1m', 'recencia', \n",
        "            'weekday breakfast', 'weekday dawn', 'weekday dinner', 'weekday lunch', 'weekday snack',\n",
        "            'weekend breakfast', 'weekend dawn', 'weekend dinner', 'weekend lunch', 'weekend snack']\n",
        "cat_vars = []\n",
        "features = num_vars + cat_vars\n",
        "\n",
        "X_train = df_abt_train[features]\n",
        "y_train = df_abt_train[target]\n",
        "\n",
        "X_oot = df_abt_oot[features]\n",
        "y_oot = df_abt_oot[target]\n",
        "\n",
        "best_model2 = Pipeline(steps=[\n",
        "                ('lgbm', LGBMClassifier(learning_rate=0.05, max_depth=3, n_estimators=100, random_state=42))\n",
        "])\n",
        "best_model2.fit(X_train, y_train)\n",
        "\n",
        "y_proba= best_model2.predict_proba(X_oot)[:,-1]\n",
        "roc_auc_score(y_oot,y_proba)\n"
      ],
      "execution_count": null,
      "outputs": [
        {
          "output_type": "execute_result",
          "data": {
            "text/plain": [
              "0.7362892591979673"
            ]
          },
          "metadata": {},
          "execution_count": 39
        }
      ]
    },
    {
      "cell_type": "markdown",
      "metadata": {
        "id": "Jv_xbUSh3NJJ"
      },
      "source": [
        "**<span style=\"color:blue\">(1 ponto)</span> `Q22`** Houve melhora em relação ao modelo anterior?"
      ]
    },
    {
      "cell_type": "code",
      "metadata": {
        "id": "WoEOrPXSZkjY"
      },
      "source": [
        "###Não, não houve melhora ao modelo anterior, pois o roc_auc_score diminuiu em relação ao modelo com menos variaveis."
      ],
      "execution_count": null,
      "outputs": []
    },
    {
      "cell_type": "markdown",
      "metadata": {
        "id": "2W-qVhEL3ypB"
      },
      "source": [
        "**<span style=\"color:blue\">(1 ponto)</span> `Q23`** Qual foi o melhor modelo encontrado e quais as features utilizadas?"
      ]
    },
    {
      "cell_type": "code",
      "metadata": {
        "id": "1IfwifTrZkJo"
      },
      "source": [
        "###'lgbm', LGBMClassifier(learning_rate=0.05, max_depth=3, n_estimators=100, random_state=42\n",
        "###'receita_1m', 'qtde_pedidos_1m', 'recencia'\n",
        "\n",
        "### O melhor modelo foi utilizando o LGBMClassifier, com os paramentros learning_rate 0.05, max_depth 3, n_estimators 100 e utilizando as features receita_1m, qtde_pedidos_1m e recencia."
      ],
      "execution_count": null,
      "outputs": []
    },
    {
      "cell_type": "markdown",
      "metadata": {
        "id": "eFb3gw6BUCzF"
      },
      "source": [
        "**<span style=\"color:blue\">(1 ponto)</span> `Q24`** Rode o shap values para entender quais as variáveis mais importantes do modelo e como elas se relacionam com a variável target (código já está disponível, basta apenas executar e interpretar para responder as perguntas abaixo).\n",
        "\n",
        "**Responda:**\n",
        "\n",
        "- **Qual a variável mais importante?** \n",
        "- **Como ela se relaciona com a variável target?** \n",
        "- **Como as outras variáveis se relacionam com a variável target?**"
      ]
    },
    {
      "cell_type": "code",
      "metadata": {
        "id": "PPHCqMl6URH6",
        "colab": {
          "base_uri": "https://localhost:8080/"
        },
        "outputId": "eddf5150-096c-41d8-8847-83291f2f7411"
      },
      "source": [
        "!pip install shap"
      ],
      "execution_count": null,
      "outputs": [
        {
          "output_type": "stream",
          "name": "stdout",
          "text": [
            "Collecting shap\n",
            "  Downloading shap-0.40.0.tar.gz (371 kB)\n",
            "\u001b[?25l\r\u001b[K     |▉                               | 10 kB 20.7 MB/s eta 0:00:01\r\u001b[K     |█▊                              | 20 kB 26.5 MB/s eta 0:00:01\r\u001b[K     |██▋                             | 30 kB 25.4 MB/s eta 0:00:01\r\u001b[K     |███▌                            | 40 kB 18.8 MB/s eta 0:00:01\r\u001b[K     |████▍                           | 51 kB 9.1 MB/s eta 0:00:01\r\u001b[K     |█████▎                          | 61 kB 7.6 MB/s eta 0:00:01\r\u001b[K     |██████▏                         | 71 kB 8.4 MB/s eta 0:00:01\r\u001b[K     |███████                         | 81 kB 9.4 MB/s eta 0:00:01\r\u001b[K     |████████                        | 92 kB 10.1 MB/s eta 0:00:01\r\u001b[K     |████████▉                       | 102 kB 8.2 MB/s eta 0:00:01\r\u001b[K     |█████████▊                      | 112 kB 8.2 MB/s eta 0:00:01\r\u001b[K     |██████████▋                     | 122 kB 8.2 MB/s eta 0:00:01\r\u001b[K     |███████████▌                    | 133 kB 8.2 MB/s eta 0:00:01\r\u001b[K     |████████████▍                   | 143 kB 8.2 MB/s eta 0:00:01\r\u001b[K     |█████████████▎                  | 153 kB 8.2 MB/s eta 0:00:01\r\u001b[K     |██████████████                  | 163 kB 8.2 MB/s eta 0:00:01\r\u001b[K     |███████████████                 | 174 kB 8.2 MB/s eta 0:00:01\r\u001b[K     |███████████████▉                | 184 kB 8.2 MB/s eta 0:00:01\r\u001b[K     |████████████████▊               | 194 kB 8.2 MB/s eta 0:00:01\r\u001b[K     |█████████████████▋              | 204 kB 8.2 MB/s eta 0:00:01\r\u001b[K     |██████████████████▌             | 215 kB 8.2 MB/s eta 0:00:01\r\u001b[K     |███████████████████▍            | 225 kB 8.2 MB/s eta 0:00:01\r\u001b[K     |████████████████████▎           | 235 kB 8.2 MB/s eta 0:00:01\r\u001b[K     |█████████████████████▏          | 245 kB 8.2 MB/s eta 0:00:01\r\u001b[K     |██████████████████████          | 256 kB 8.2 MB/s eta 0:00:01\r\u001b[K     |███████████████████████         | 266 kB 8.2 MB/s eta 0:00:01\r\u001b[K     |███████████████████████▉        | 276 kB 8.2 MB/s eta 0:00:01\r\u001b[K     |████████████████████████▊       | 286 kB 8.2 MB/s eta 0:00:01\r\u001b[K     |█████████████████████████▋      | 296 kB 8.2 MB/s eta 0:00:01\r\u001b[K     |██████████████████████████▌     | 307 kB 8.2 MB/s eta 0:00:01\r\u001b[K     |███████████████████████████▎    | 317 kB 8.2 MB/s eta 0:00:01\r\u001b[K     |████████████████████████████▏   | 327 kB 8.2 MB/s eta 0:00:01\r\u001b[K     |█████████████████████████████   | 337 kB 8.2 MB/s eta 0:00:01\r\u001b[K     |██████████████████████████████  | 348 kB 8.2 MB/s eta 0:00:01\r\u001b[K     |██████████████████████████████▉ | 358 kB 8.2 MB/s eta 0:00:01\r\u001b[K     |███████████████████████████████▊| 368 kB 8.2 MB/s eta 0:00:01\r\u001b[K     |████████████████████████████████| 371 kB 8.2 MB/s \n",
            "\u001b[?25h  Installing build dependencies ... \u001b[?25l\u001b[?25hdone\n",
            "  Getting requirements to build wheel ... \u001b[?25l\u001b[?25hdone\n",
            "    Preparing wheel metadata ... \u001b[?25l\u001b[?25hdone\n",
            "Requirement already satisfied: numba in /usr/local/lib/python3.7/dist-packages (from shap) (0.51.2)\n",
            "Collecting slicer==0.0.7\n",
            "  Downloading slicer-0.0.7-py3-none-any.whl (14 kB)\n",
            "Requirement already satisfied: scipy in /usr/local/lib/python3.7/dist-packages (from shap) (1.4.1)\n",
            "Requirement already satisfied: pandas in /usr/local/lib/python3.7/dist-packages (from shap) (1.1.5)\n",
            "Requirement already satisfied: packaging>20.9 in /usr/local/lib/python3.7/dist-packages (from shap) (21.3)\n",
            "Requirement already satisfied: scikit-learn in /usr/local/lib/python3.7/dist-packages (from shap) (1.0.1)\n",
            "Requirement already satisfied: tqdm>4.25.0 in /usr/local/lib/python3.7/dist-packages (from shap) (4.62.3)\n",
            "Requirement already satisfied: numpy in /usr/local/lib/python3.7/dist-packages (from shap) (1.19.5)\n",
            "Requirement already satisfied: cloudpickle in /usr/local/lib/python3.7/dist-packages (from shap) (1.3.0)\n",
            "Requirement already satisfied: pyparsing!=3.0.5,>=2.0.2 in /usr/local/lib/python3.7/dist-packages (from packaging>20.9->shap) (3.0.6)\n",
            "Requirement already satisfied: setuptools in /usr/local/lib/python3.7/dist-packages (from numba->shap) (57.4.0)\n",
            "Requirement already satisfied: llvmlite<0.35,>=0.34.0.dev0 in /usr/local/lib/python3.7/dist-packages (from numba->shap) (0.34.0)\n",
            "Requirement already satisfied: python-dateutil>=2.7.3 in /usr/local/lib/python3.7/dist-packages (from pandas->shap) (2.8.2)\n",
            "Requirement already satisfied: pytz>=2017.2 in /usr/local/lib/python3.7/dist-packages (from pandas->shap) (2018.9)\n",
            "Requirement already satisfied: six>=1.5 in /usr/local/lib/python3.7/dist-packages (from python-dateutil>=2.7.3->pandas->shap) (1.15.0)\n",
            "Requirement already satisfied: threadpoolctl>=2.0.0 in /usr/local/lib/python3.7/dist-packages (from scikit-learn->shap) (3.0.0)\n",
            "Requirement already satisfied: joblib>=0.11 in /usr/local/lib/python3.7/dist-packages (from scikit-learn->shap) (1.1.0)\n",
            "Building wheels for collected packages: shap\n",
            "  Building wheel for shap (PEP 517) ... \u001b[?25l\u001b[?25hdone\n",
            "  Created wheel for shap: filename=shap-0.40.0-cp37-cp37m-linux_x86_64.whl size=509240 sha256=eb5c595dbb9154f6cc986ac722bab1fed8921a915c130d25197aabb7a3b0fcc9\n",
            "  Stored in directory: /root/.cache/pip/wheels/ec/35/84/e304841ac4b910bc95fe9a6e5302eb2507b4333728851dcbfb\n",
            "Successfully built shap\n",
            "Installing collected packages: slicer, shap\n",
            "Successfully installed shap-0.40.0 slicer-0.0.7\n"
          ]
        }
      ]
    },
    {
      "cell_type": "code",
      "metadata": {
        "id": "wN4dFOlSGvWS"
      },
      "source": [
        "features = ['receita_1m', 'qtde_pedidos_1m', 'recencia']\n",
        "\n",
        "X_train = df_abt_train[features]\n",
        "X_oot   = df_abt_oot[features]"
      ],
      "execution_count": null,
      "outputs": []
    },
    {
      "cell_type": "code",
      "metadata": {
        "id": "si0IhUPUUlKK"
      },
      "source": [
        "import shap\n",
        "explainer = shap.TreeExplainer(best_model[-1])"
      ],
      "execution_count": null,
      "outputs": []
    },
    {
      "cell_type": "code",
      "metadata": {
        "id": "6uUh7iYaU1Kz"
      },
      "source": [
        "X_oot_transformado = best_model[:-1].transform(X_oot)"
      ],
      "execution_count": null,
      "outputs": []
    },
    {
      "cell_type": "code",
      "metadata": {
        "id": "5RzEPeNgU7Aw",
        "colab": {
          "base_uri": "https://localhost:8080/"
        },
        "outputId": "bcb16753-286e-4a23-e29d-2cefe0a8ea1c"
      },
      "source": [
        "shap_values = explainer.shap_values(X_oot_transformado)"
      ],
      "execution_count": null,
      "outputs": [
        {
          "output_type": "stream",
          "name": "stderr",
          "text": [
            "LightGBM binary classifier with TreeExplainer shap values output has changed to a list of ndarray\n"
          ]
        }
      ]
    },
    {
      "cell_type": "code",
      "metadata": {
        "id": "3unHnRERTibm",
        "colab": {
          "base_uri": "https://localhost:8080/",
          "height": 216
        },
        "outputId": "48b17c5f-6416-4d39-be25-00a009beeef6"
      },
      "source": [
        "shap.summary_plot(shap_values[1], X_oot_transformado, plot_type='dot')"
      ],
      "execution_count": null,
      "outputs": [
        {
          "output_type": "display_data",
          "data": {
            "image/png": "[encoded data removed]",
            "text/plain": [
              "<Figure size 576x194.4 with 2 Axes>"
            ]
          },
          "metadata": {
            "needs_background": "light"
          }
        }
      ]
    },
    {
      "cell_type": "markdown",
      "metadata": {
        "id": "TmHmXvVJO4uy"
      },
      "source": [
        "**ADICIONE SUAS RESPOSTAS AQUI**\n",
        "\n",
        "- **Qual a variável mais importante?** \n",
        "\n",
        "Podemos considerar a variavel Recencia como a mais importante, pois podemos notar que o seu valor impacta diretamente no shap value.\n"
      ]
    },
    {
      "cell_type": "markdown",
      "metadata": {
        "id": "Vwy803E7PEl1"
      },
      "source": [
        "- **Como ela se relaciona com a variável target?**\n",
        "\n",
        "Notamos que quanto maior o valor da variavel, mais alto fica o shap value"
      ]
    },
    {
      "cell_type": "markdown",
      "metadata": {
        "id": "oWQ7qq2tPGSh"
      },
      "source": [
        "- **Como as outras variáveis se relacionam com a variável target?**\n",
        "\n",
        "ao contrario da variavel recencia, as outras variaveis são inversos.\n",
        "Quanto mais alto o valor, menos SHAP value. Porem podemos notar uma distribuicao menos homogenea."
      ]
    },
    {
      "cell_type": "code",
      "metadata": {
        "id": "Urh0qvvUDcD1"
      },
      "source": [
        "\n"
      ],
      "execution_count": null,
      "outputs": []
    }
  ]
}